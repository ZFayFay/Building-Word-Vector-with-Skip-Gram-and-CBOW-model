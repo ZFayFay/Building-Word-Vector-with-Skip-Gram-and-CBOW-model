{
 "cells": [
  {
   "cell_type": "code",
   "execution_count": 1,
   "metadata": {},
   "outputs": [],
   "source": [
    "import gensim\n",
    "import pandas as pd\n",
    "import numpy as np"
   ]
  },
  {
   "cell_type": "code",
   "execution_count": 2,
   "metadata": {},
   "outputs": [],
   "source": [
    "data_origin = pd.read_csv('https://www.dropbox.com/s/8yq0edd4q908xqw/airline_sentiment.csv?dl=1')"
   ]
  },
  {
   "cell_type": "code",
   "execution_count": 3,
   "metadata": {},
   "outputs": [
    {
     "data": {
      "text/html": [
       "<div>\n",
       "<style scoped>\n",
       "    .dataframe tbody tr th:only-of-type {\n",
       "        vertical-align: middle;\n",
       "    }\n",
       "\n",
       "    .dataframe tbody tr th {\n",
       "        vertical-align: top;\n",
       "    }\n",
       "\n",
       "    .dataframe thead th {\n",
       "        text-align: right;\n",
       "    }\n",
       "</style>\n",
       "<table border=\"1\" class=\"dataframe\">\n",
       "  <thead>\n",
       "    <tr style=\"text-align: right;\">\n",
       "      <th></th>\n",
       "      <th>airline_sentiment</th>\n",
       "      <th>text</th>\n",
       "    </tr>\n",
       "  </thead>\n",
       "  <tbody>\n",
       "    <tr>\n",
       "      <th>0</th>\n",
       "      <td>1</td>\n",
       "      <td>@VirginAmerica plus you've added commercials t...</td>\n",
       "    </tr>\n",
       "    <tr>\n",
       "      <th>1</th>\n",
       "      <td>0</td>\n",
       "      <td>@VirginAmerica it's really aggressive to blast...</td>\n",
       "    </tr>\n",
       "    <tr>\n",
       "      <th>2</th>\n",
       "      <td>0</td>\n",
       "      <td>@VirginAmerica and it's a really big bad thing...</td>\n",
       "    </tr>\n",
       "    <tr>\n",
       "      <th>3</th>\n",
       "      <td>0</td>\n",
       "      <td>@VirginAmerica seriously would pay $30 a fligh...</td>\n",
       "    </tr>\n",
       "    <tr>\n",
       "      <th>4</th>\n",
       "      <td>1</td>\n",
       "      <td>@VirginAmerica yes, nearly every time I fly VX...</td>\n",
       "    </tr>\n",
       "  </tbody>\n",
       "</table>\n",
       "</div>"
      ],
      "text/plain": [
       "   airline_sentiment                                               text\n",
       "0                  1  @VirginAmerica plus you've added commercials t...\n",
       "1                  0  @VirginAmerica it's really aggressive to blast...\n",
       "2                  0  @VirginAmerica and it's a really big bad thing...\n",
       "3                  0  @VirginAmerica seriously would pay $30 a fligh...\n",
       "4                  1  @VirginAmerica yes, nearly every time I fly VX..."
      ]
     },
     "execution_count": 3,
     "metadata": {},
     "output_type": "execute_result"
    }
   ],
   "source": [
    "data_origin.head()"
   ]
  },
  {
   "cell_type": "markdown",
   "metadata": {},
   "source": [
    "# Building Word Vector "
   ]
  },
  {
   "cell_type": "code",
   "execution_count": 4,
   "metadata": {},
   "outputs": [],
   "source": [
    "import nltk\n",
    "from nltk.corpus import stopwords"
   ]
  },
  {
   "cell_type": "code",
   "execution_count": 5,
   "metadata": {},
   "outputs": [
    {
     "name": "stderr",
     "output_type": "stream",
     "text": [
      "[nltk_data] Downloading package stopwords to\n",
      "[nltk_data]     C:\\Users\\fayca\\AppData\\Roaming\\nltk_data...\n",
      "[nltk_data]   Package stopwords is already up-to-date!\n"
     ]
    },
    {
     "data": {
      "text/plain": [
       "True"
      ]
     },
     "execution_count": 5,
     "metadata": {},
     "output_type": "execute_result"
    }
   ],
   "source": [
    "nltk.download('stopwords')"
   ]
  },
  {
   "cell_type": "code",
   "execution_count": 6,
   "metadata": {},
   "outputs": [],
   "source": [
    "stop = set(stopwords.words('english'))"
   ]
  },
  {
   "cell_type": "code",
   "execution_count": 7,
   "metadata": {},
   "outputs": [],
   "source": [
    "import re \n",
    "\n",
    "def preprocess(text):\n",
    "    text = text.lower()\n",
    "    text = re.sub('[^0-9a-z]+', ' ', text)\n",
    "    words = text.split()\n",
    "    words2 = [i for i in words if i not in stop]\n",
    "    words3 = ' '.join(words2)\n",
    "    return (words3)"
   ]
  },
  {
   "cell_type": "code",
   "execution_count": 8,
   "metadata": {},
   "outputs": [],
   "source": [
    "data = data_origin"
   ]
  },
  {
   "cell_type": "code",
   "execution_count": 9,
   "metadata": {},
   "outputs": [],
   "source": [
    "data.text = data_origin.text.apply(preprocess)"
   ]
  },
  {
   "cell_type": "code",
   "execution_count": 10,
   "metadata": {},
   "outputs": [
    {
     "data": {
      "text/html": [
       "<div>\n",
       "<style scoped>\n",
       "    .dataframe tbody tr th:only-of-type {\n",
       "        vertical-align: middle;\n",
       "    }\n",
       "\n",
       "    .dataframe tbody tr th {\n",
       "        vertical-align: top;\n",
       "    }\n",
       "\n",
       "    .dataframe thead th {\n",
       "        text-align: right;\n",
       "    }\n",
       "</style>\n",
       "<table border=\"1\" class=\"dataframe\">\n",
       "  <thead>\n",
       "    <tr style=\"text-align: right;\">\n",
       "      <th></th>\n",
       "      <th>airline_sentiment</th>\n",
       "      <th>text</th>\n",
       "    </tr>\n",
       "  </thead>\n",
       "  <tbody>\n",
       "    <tr>\n",
       "      <th>0</th>\n",
       "      <td>1</td>\n",
       "      <td>virginamerica plus added commercials experienc...</td>\n",
       "    </tr>\n",
       "    <tr>\n",
       "      <th>1</th>\n",
       "      <td>0</td>\n",
       "      <td>virginamerica really aggressive blast obnoxiou...</td>\n",
       "    </tr>\n",
       "    <tr>\n",
       "      <th>2</th>\n",
       "      <td>0</td>\n",
       "      <td>virginamerica really big bad thing</td>\n",
       "    </tr>\n",
       "    <tr>\n",
       "      <th>3</th>\n",
       "      <td>0</td>\n",
       "      <td>virginamerica seriously would pay 30 flight se...</td>\n",
       "    </tr>\n",
       "    <tr>\n",
       "      <th>4</th>\n",
       "      <td>1</td>\n",
       "      <td>virginamerica yes nearly every time fly vx ear...</td>\n",
       "    </tr>\n",
       "  </tbody>\n",
       "</table>\n",
       "</div>"
      ],
      "text/plain": [
       "   airline_sentiment                                               text\n",
       "0                  1  virginamerica plus added commercials experienc...\n",
       "1                  0  virginamerica really aggressive blast obnoxiou...\n",
       "2                  0                 virginamerica really big bad thing\n",
       "3                  0  virginamerica seriously would pay 30 flight se...\n",
       "4                  1  virginamerica yes nearly every time fly vx ear..."
      ]
     },
     "execution_count": 10,
     "metadata": {},
     "output_type": "execute_result"
    }
   ],
   "source": [
    "data.head()"
   ]
  },
  {
   "cell_type": "code",
   "execution_count": 11,
   "metadata": {},
   "outputs": [
    {
     "data": {
      "text/plain": [
       "('virginamerica plus added commercials experience tacky',\n",
       " 'virginamerica plus added commercials experience tacky')"
      ]
     },
     "execution_count": 11,
     "metadata": {},
     "output_type": "execute_result"
    }
   ],
   "source": [
    "data.text[0],data_origin.text[0]"
   ]
  },
  {
   "cell_type": "code",
   "execution_count": 12,
   "metadata": {},
   "outputs": [
    {
     "data": {
      "text/plain": [
       "['virginamerica', 'plus', 'added', 'commercials', 'experience', 'tacky']"
      ]
     },
     "execution_count": 12,
     "metadata": {},
     "output_type": "execute_result"
    }
   ],
   "source": [
    "data['text'][0].split()"
   ]
  },
  {
   "cell_type": "code",
   "execution_count": 13,
   "metadata": {},
   "outputs": [],
   "source": [
    "list_words=[]\n",
    "for i in range(len(data)):\n",
    "  list_words.append(data['text'][i].split())"
   ]
  },
  {
   "cell_type": "code",
   "execution_count": 14,
   "metadata": {},
   "outputs": [
    {
     "data": {
      "text/plain": [
       "['virginamerica',\n",
       " 'really',\n",
       " 'aggressive',\n",
       " 'blast',\n",
       " 'obnoxious',\n",
       " 'entertainment',\n",
       " 'guests',\n",
       " 'faces',\n",
       " 'amp',\n",
       " 'little',\n",
       " 'recourse']"
      ]
     },
     "execution_count": 14,
     "metadata": {},
     "output_type": "execute_result"
    }
   ],
   "source": [
    "list_words[1]"
   ]
  },
  {
   "cell_type": "code",
   "execution_count": 15,
   "metadata": {},
   "outputs": [
    {
     "data": {
      "text/plain": [
       "11541"
      ]
     },
     "execution_count": 15,
     "metadata": {},
     "output_type": "execute_result"
    }
   ],
   "source": [
    "len(list_words)"
   ]
  },
  {
   "cell_type": "code",
   "execution_count": 16,
   "metadata": {},
   "outputs": [
    {
     "data": {
      "text/plain": [
       "list"
      ]
     },
     "execution_count": 16,
     "metadata": {},
     "output_type": "execute_result"
    }
   ],
   "source": [
    "type(list_words)"
   ]
  },
  {
   "cell_type": "code",
   "execution_count": 17,
   "metadata": {},
   "outputs": [],
   "source": [
    "from gensim.models import Word2Vec"
   ]
  },
  {
   "cell_type": "code",
   "execution_count": 18,
   "metadata": {},
   "outputs": [],
   "source": [
    "model = Word2Vec(size=100, window=5, min_count=30, sg=0, alpha=0.025)\n",
    "model.build_vocab(list_words)"
   ]
  },
  {
   "cell_type": "code",
   "execution_count": 19,
   "metadata": {},
   "outputs": [
    {
     "data": {
      "text/plain": [
       "667"
      ]
     },
     "execution_count": 19,
     "metadata": {},
     "output_type": "execute_result"
    }
   ],
   "source": [
    "len(model.wv.vocab.keys())"
   ]
  },
  {
   "cell_type": "code",
   "execution_count": 20,
   "metadata": {
    "scrolled": true
   },
   "outputs": [
    {
     "data": {
      "text/plain": [
       "dict_keys(['virginamerica', 'plus', 'experience', 'really', 'amp', 'little', 'big', 'bad', 'thing', 'seriously', 'would', 'pay', '30', 'flight', 'seats', 'flying', 'yes', 'every', 'time', 'fly', 'go', 'away', 'well', 'amazing', 'arrived', 'hour', 'early', 'good', 'lt', '3', 'pretty', 'much', 'better', 'great', 'deal', 'already', '2nd', 'trip', 'even', '1st', 'yet', 'u', 'take', 'travel', 'http', 'co', 'thanks', 'sfo', 'still', 'mia', 'first', 'lax', 'mco', 'heard', 'nothing', 'things', 'flew', 'nyc', 'last', 'week', 'sit', 'seat', 'due', 'two', 'either', 'help', 'know', 'awesome', 'bos', 'fll', 'please', 'want', 'may', 'three', 'times', 'available', 'love', 'feel', 'guys', 'gave', 'free', 'status', 'weeks', 'called', 'response', 'happened', '2', 'ur', 'food', 'options', 'least', 'say', 'site', 'able', 'anything', 'next', '6', 'hrs', 'fail', 'get', 'air', 'hi', 'cool', 'add', 'name', 'booking', 'problems', 'left', 'iad', 'today', 'one', 'answering', 'f', 'number', 'return', 'phone', 'call', 'use', 'online', 'service', 'option', 'could', 'start', 'flights', 'end', 'year', 'via', 'way', 'best', 'ever', 'done', 'airline', 'around', 'support', 'working', 'beyond', 'hey', 'hard', 'getting', 'account', 'reason', 'rock', 'wow', 'though', 'lga', 'gt', 'trying', 'book', 'since', 'never', 'thx', 'need', '4', 'ago', 'someone', 'hold', '40', '50', 'minutes', 'earlier', 'la', 'tonight', '11', 'us', 'everything', 'fine', 'lost', 'bag', 'needs', 'new', 'plane', 'crew', 'airlines', 'like', 'sat', 'morning', 'going', 'customer', 'speak', 'human', 'asap', 'thank', 'southwestair', 'jetblue', 'member', 'team', 'im', '100', 'delayed', 'late', 'cancelled', 'four', 'business', 'wife', 'booked', 'back', 'tv', 'disappointed', 'flightled', 'went', 'jfk', 'landed', 'check', 'friendly', 'website', 'another', 'tried', 'let', 'passengers', 'leave', 'told', 'class', 'find', 'reservation', 'anyone', 'miss', 'missed', 'direct', 'vegas', 'bought', 'people', 'customerservice', 'line', 'hung', 'card', 'info', 'come', 'phl', 'horrible', 'stop', 'easy', 'change', 'helpful', 'rep', 'front', 'right', 'ticket', 'b', 'c', 'gate', 'las', 'waited', 'problem', 'min', 'delay', 'connecting', 'seems', 'long', 'moved', 'home', 'san', 'scheduled', '9', 'hours', 'wait', 'calling', 'completely', 'month', 'customers', 'process', 'link', 'tsa', 'terrible', 'hotel', 'said', 'sorry', 'assistance', 'yesterday', 'give', 'longer', 'pls', 'making', 'always', 'buy', 'frustrated', 'think', 'paying', 'extra', 'rt', 'luggage', 'might', 'world', 'provide', 'cant', 'weather', 'dallas', 'staff', 'super', 'paid', 'offer', 'fee', 'upgrade', 'sad', 'question', 'possible', 'giving', 'together', 'dc', 'work', 'understand', 'dm', 'answer', 'policy', 'mean', 'checking', 'tickets', 'happy', 'error', 'contact', 'minute', 'reschedule', 'fix', 'got', 'checked', 'email', 'tomorrow', 'unacceptable', 'flighted', 'stuck', '1', 'offered', 'look', 'agent', 'airport', 'reply', 'baggage', 'waiting', 'checkin', 'desk', 'open', 'ewr', 'united', 'follow', 'many', 'worse', 'respond', 'money', 'stranded', 'landing', '10', 'days', 'confirmation', 'claim', '8', 'rebook', 'lot', 'see', 'worst', 'wrong', 'lose', 'suck', 'issue', 'flightlation', 'w', 'kids', 'boston', 'guy', 'high', 'quick', 'apparently', 'sitting', 'keep', 'ny', 'pilots', 'job', 'snow', 'row', 'mechanical', 'handle', 'twitter', 'charged', 'refund', 'broken', 'points', 'looking', 'forward', 'rescheduled', 'cost', '800', 'show', 'wish', 'attendant', 'something', 'departure', 'fun', 'different', 'helping', 'passenger', 'flt', 'city', 'destination', 'missing', 'coming', 'entire', 'confirmed', 'treat', 'wtf', 'inconvenience', 'full', 'dfw', 'boarding', 'place', 'makes', 'pilot', 'dca', 'sent', 'past', 'club', 'came', 'monday', 'safety', 'day', 'wanted', 'newark', 'hope', 'board', 'helped', 'looks', 'https', 'less', 'half', 'price', 'taking', 'care', 'several', 'glad', 'took', 'years', 'night', 'try', 'purchase', 'hoping', 'carry', 'empty', 'spoke', 'loyal', 'received', 'southwest', 'family', 'ok', 'using', 'soon', 'car', 'sucks', 'cust', 'second', 'chance', 'joke', 'credit', 'request', 'planes', 'thought', 'computer', '15', 'cannot', 'make', 'address', 'made', 'also', 'app', 'system', 'instead', 'charge', 'houston', 'finally', 'future', 'poor', '5', 'group', 'room', 'bags', 'sure', '12', 'shit', 'stay', 'nice', 'wifi', 'saying', 'whole', 'person', 'calls', 'ask', 'flighting', 'luck', '24', 'fees', 'philly', 'point', 'says', 'update', 'reps', 'actually', 'lack', 'ord', 'connections', 'boarded', 'issues', 'oh', 'supposed', 'ridiculous', 'send', 'voucher', 'company', 'maybe', 'drive', 'talk', 'flightr', 'platinum', 'international', 'run', 'agents', 'rude', 'iah', 'charlotte', 'non', 'guess', 'form', 'ground', 'else', 'appreciate', 'tarmac', 'pass', 'enough', 'denver', 'put', 'found', 'supervisor', 'months', 'thru', 'connection', 'upset', 'employees', 'old', '7', 'miles', 'american', 'telling', 'delta', 'attendants', 'seem', 'believe', 'bc', 'asking', 'details', 'everyone', 'ua', 'despite', 'updates', 'given', 'hear', 'apology', 'rather', 'zero', 'americanair', 'asked', 'yeah', '25', 'leaving', 'message', 'complaint', 'awful', 'jet', 'atl', 'happens', 'traveling', 'communication', 'far', 'top', 'unitedairlines', 'extremely', 'real', 'without', 'clothes', 'hr', 'terminal', '20', 'mins', 'vacation', 'sleep', 'compensation', 'case', 'happen', 'delivered', 'arrive', 'employee', 'delays', 'taken', 'answers', 'clt', 'idea', 'frustrating', 'figure', 'counter', 'tell', 'fact', 'needed', 'means', 'bwi', 'pm', 'expect', 'fixed', 'unable', 'life', 'phones', 'chicago', 'den', 'fleet', 'gives', 'spent', 'situation', 'list', 'changes', '200', 'used', 'reservations', 'leg', 'reflight', '45', 'changed', 'reach', 'tweet', 'maintenance', 'friend', 'twice', 'counting', 'rebooked', 'sunday', 'sense', 'hate', 'huge', 'standby', 'hopefully', 'usairways', 'almost', 'pick', 'multiple', 'lol', 'crazy', 'gets', 'miami', 'fault', 'sending', 'losing', 'switch', 'aa', 'flightlations', 'seen', 'appreciated', 'media', 'runway', 'live', 'information', 'busy', 'dont', 'disconnected', 'water', 'kind', 'phx', 'automated', 'sw', 'holding', 'swa', 'destinationdragons', 'usair', 'blue', 'fleek', 'airways'])"
      ]
     },
     "execution_count": 20,
     "metadata": {},
     "output_type": "execute_result"
    }
   ],
   "source": [
    "model.wv.vocab.keys()"
   ]
  },
  {
   "cell_type": "code",
   "execution_count": 21,
   "metadata": {},
   "outputs": [
    {
     "data": {
      "text/plain": [
       "11541"
      ]
     },
     "execution_count": 21,
     "metadata": {},
     "output_type": "execute_result"
    }
   ],
   "source": [
    "model.corpus_count"
   ]
  },
  {
   "cell_type": "code",
   "execution_count": 22,
   "metadata": {},
   "outputs": [
    {
     "data": {
      "text/plain": [
       "(681260, 1258580)"
      ]
     },
     "execution_count": 22,
     "metadata": {},
     "output_type": "execute_result"
    }
   ],
   "source": [
    "model.train(list_words, total_examples = model.corpus_count, epochs=10)"
   ]
  },
  {
   "cell_type": "code",
   "execution_count": 23,
   "metadata": {},
   "outputs": [
    {
     "name": "stderr",
     "output_type": "stream",
     "text": [
      "C:\\Users\\fayca\\Anaconda3\\envs\\tensorflow_gpuenv\\lib\\site-packages\\ipykernel_launcher.py:1: DeprecationWarning: Call to deprecated `__getitem__` (Method will be removed in 4.0.0, use self.wv.__getitem__() instead).\n",
      "  \"\"\"Entry point for launching an IPython kernel.\n"
     ]
    },
    {
     "data": {
      "text/plain": [
       "array([-0.11206421, -0.02258221, -0.0647512 , -0.23054096,  0.06574337,\n",
       "       -0.18650433,  0.07587223, -0.10261159,  0.31991258,  0.03072897,\n",
       "       -0.13576843, -0.12735732, -0.13939315, -0.1670829 ,  0.08005294,\n",
       "        0.06768575,  0.12161773,  0.05578345,  0.05098536,  0.11926577,\n",
       "        0.17667283, -0.03005609,  0.07650455, -0.1823179 , -0.03722449,\n",
       "       -0.24866314, -0.1773875 ,  0.10133839, -0.05698767, -0.03344606,\n",
       "        0.08489402, -0.04475837, -0.1190762 ,  0.17004581,  0.12496158,\n",
       "       -0.2890543 ,  0.08275376,  0.19543937, -0.20409663, -0.05565004,\n",
       "       -0.05233938, -0.04466585, -0.05885228,  0.01614071,  0.11641258,\n",
       "       -0.05252045, -0.05090273, -0.11495037, -0.42876235,  0.18342668,\n",
       "        0.27844974, -0.03244596,  0.02798483,  0.08590923,  0.10814063,\n",
       "        0.0061274 ,  0.07529121, -0.02637714,  0.12644029,  0.07439102,\n",
       "        0.10271841, -0.01774415, -0.07107338,  0.04129652,  0.14366542,\n",
       "       -0.0669143 ,  0.0941258 ,  0.15970731, -0.40484968, -0.05138585,\n",
       "        0.02922502,  0.23941189,  0.01233274, -0.26985186,  0.0753186 ,\n",
       "       -0.24195614,  0.04242023, -0.04303542,  0.02854137,  0.24408895,\n",
       "       -0.00528285, -0.22662778,  0.03492856,  0.04447628,  0.079706  ,\n",
       "        0.3133803 , -0.12461855, -0.08955074, -0.04786338, -0.26036105,\n",
       "       -0.15562022,  0.09120842, -0.09650125,  0.22921813, -0.03275773,\n",
       "        0.03748991,  0.1603664 , -0.01762226,  0.01363668,  0.24884251],\n",
       "      dtype=float32)"
      ]
     },
     "execution_count": 23,
     "metadata": {},
     "output_type": "execute_result"
    }
   ],
   "source": [
    "model['month']"
   ]
  },
  {
   "cell_type": "code",
   "execution_count": 24,
   "metadata": {},
   "outputs": [
    {
     "name": "stderr",
     "output_type": "stream",
     "text": [
      "C:\\Users\\fayca\\Anaconda3\\envs\\tensorflow_gpuenv\\lib\\site-packages\\ipykernel_launcher.py:1: DeprecationWarning: Call to deprecated `__getitem__` (Method will be removed in 4.0.0, use self.wv.__getitem__() instead).\n",
      "  \"\"\"Entry point for launching an IPython kernel.\n"
     ]
    },
    {
     "data": {
      "text/plain": [
       "100"
      ]
     },
     "execution_count": 24,
     "metadata": {},
     "output_type": "execute_result"
    }
   ],
   "source": [
    "len(model['month'])"
   ]
  },
  {
   "cell_type": "code",
   "execution_count": 25,
   "metadata": {},
   "outputs": [
    {
     "name": "stderr",
     "output_type": "stream",
     "text": [
      "C:\\Users\\fayca\\Anaconda3\\envs\\tensorflow_gpuenv\\lib\\site-packages\\ipykernel_launcher.py:1: DeprecationWarning: Call to deprecated `similarity` (Method will be removed in 4.0.0, use self.wv.similarity() instead).\n",
      "  \"\"\"Entry point for launching an IPython kernel.\n"
     ]
    },
    {
     "data": {
      "text/plain": [
       "0.8311187"
      ]
     },
     "execution_count": 25,
     "metadata": {},
     "output_type": "execute_result"
    }
   ],
   "source": [
    "model.similarity('month','year')"
   ]
  },
  {
   "cell_type": "code",
   "execution_count": 26,
   "metadata": {
    "scrolled": true
   },
   "outputs": [
    {
     "name": "stderr",
     "output_type": "stream",
     "text": [
      "C:\\Users\\fayca\\Anaconda3\\envs\\tensorflow_gpuenv\\lib\\site-packages\\ipykernel_launcher.py:1: DeprecationWarning: Call to deprecated `most_similar` (Method will be removed in 4.0.0, use self.wv.most_similar() instead).\n",
      "  \"\"\"Entry point for launching an IPython kernel.\n"
     ]
    },
    {
     "data": {
      "text/plain": [
       "[('traveling', 0.9890510439872742),\n",
       " ('customerservice', 0.9833349585533142),\n",
       " ('years', 0.9809556603431702),\n",
       " ('happened', 0.9807664155960083),\n",
       " ('zero', 0.9776842594146729),\n",
       " ('mean', 0.9758479595184326),\n",
       " ('ur', 0.9747480154037476),\n",
       " ('frustrating', 0.9746634364128113),\n",
       " ('top', 0.9738666415214539),\n",
       " ('plus', 0.9732362031936646)]"
      ]
     },
     "execution_count": 26,
     "metadata": {},
     "output_type": "execute_result"
    }
   ],
   "source": [
    "model.most_similar('month')"
   ]
  },
  {
   "cell_type": "code",
   "execution_count": 27,
   "metadata": {},
   "outputs": [
    {
     "name": "stderr",
     "output_type": "stream",
     "text": [
      "C:\\Users\\fayca\\Anaconda3\\envs\\tensorflow_gpuenv\\lib\\site-packages\\ipykernel_launcher.py:4: DeprecationWarning: Call to deprecated `most_similar` (Method will be removed in 4.0.0, use self.wv.most_similar() instead).\n",
      "  after removing the cwd from sys.path.\n"
     ]
    },
    {
     "data": {
      "text/plain": [
       "[('traveling', 0.9995859265327454),\n",
       " ('also', 0.9995788931846619),\n",
       " ('lose', 0.9995661973953247),\n",
       " ('asking', 0.999549388885498),\n",
       " ('thx', 0.9995493292808533),\n",
       " ('mean', 0.9995471835136414),\n",
       " ('sw', 0.9995424747467041),\n",
       " ('happened', 0.9995392560958862),\n",
       " ('years', 0.9995321035385132),\n",
       " ('request', 0.9995296001434326)]"
      ]
     },
     "execution_count": 27,
     "metadata": {},
     "output_type": "execute_result"
    }
   ],
   "source": [
    "model = Word2Vec(size = 100, window=5, min_count=30, sg=0)\n",
    "model.build_vocab(list_words)\n",
    "model.train(list_words, total_examples=model.corpus_count, epochs=5)\n",
    "model.most_similar('month')"
   ]
  },
  {
   "cell_type": "markdown",
   "metadata": {},
   "source": [
    "# Vector arithmetic using pre-trained word vectors (GoogleNews)"
   ]
  },
  {
   "cell_type": "code",
   "execution_count": 28,
   "metadata": {},
   "outputs": [],
   "source": [
    "from gensim.models import KeyedVectors"
   ]
  },
  {
   "cell_type": "code",
   "execution_count": 29,
   "metadata": {},
   "outputs": [],
   "source": [
    "filename = \"C:\\\\Users\\\\fayca\\\\Downloads\\\\GoogleNews-vectors-negative300.bin\\\\GoogleNews-vectors-negative300.bin\""
   ]
  },
  {
   "cell_type": "code",
   "execution_count": 30,
   "metadata": {},
   "outputs": [],
   "source": [
    "model = KeyedVectors.load_word2vec_format(filename, binary=True)"
   ]
  },
  {
   "cell_type": "code",
   "execution_count": 31,
   "metadata": {},
   "outputs": [
    {
     "data": {
      "text/plain": [
       "[('week', 0.8365198969841003),\n",
       " ('year', 0.7653313875198364),\n",
       " ('months', 0.6810061931610107),\n",
       " ('weeks', 0.6527604460716248),\n",
       " ('August', 0.616631269454956),\n",
       " ('February', 0.6136031746864319),\n",
       " ('October', 0.6114892363548279),\n",
       " ('January', 0.6091349124908447),\n",
       " ('day', 0.600459098815918),\n",
       " ('September', 0.5990685224533081)]"
      ]
     },
     "execution_count": 31,
     "metadata": {},
     "output_type": "execute_result"
    }
   ],
   "source": [
    "model.most_similar('month')"
   ]
  },
  {
   "cell_type": "markdown",
   "metadata": {},
   "source": [
    "woman is to man as what is to king?"
   ]
  },
  {
   "cell_type": "code",
   "execution_count": 32,
   "metadata": {},
   "outputs": [
    {
     "name": "stdout",
     "output_type": "stream",
     "text": [
      "[('queen', 0.7118192911148071)]\n"
     ]
    }
   ],
   "source": [
    "result = model.most_similar(positive=['woman', 'king'], negative=['man'], topn=1)\n",
    "print(result)"
   ]
  },
  {
   "cell_type": "markdown",
   "metadata": {},
   "source": [
    "# Building a document vector"
   ]
  },
  {
   "cell_type": "markdown",
   "metadata": {},
   "source": [
    "Distributed Memory Model of Paragraph Vectors (PV-DM)"
   ]
  },
  {
   "cell_type": "code",
   "execution_count": 33,
   "metadata": {},
   "outputs": [],
   "source": [
    "from gensim.models.doc2vec import Doc2Vec, TaggedDocument\n",
    "from nltk.tokenize import word_tokenize"
   ]
  },
  {
   "cell_type": "code",
   "execution_count": 34,
   "metadata": {},
   "outputs": [
    {
     "name": "stderr",
     "output_type": "stream",
     "text": [
      "[nltk_data] Downloading package stopwords to\n",
      "[nltk_data]     C:\\Users\\fayca\\AppData\\Roaming\\nltk_data...\n",
      "[nltk_data]   Package stopwords is already up-to-date!\n",
      "[nltk_data] Downloading package punkt to\n",
      "[nltk_data]     C:\\Users\\fayca\\AppData\\Roaming\\nltk_data...\n",
      "[nltk_data]   Package punkt is already up-to-date!\n"
     ]
    }
   ],
   "source": [
    "import re\n",
    "import nltk\n",
    "from nltk.corpus import stopwords\n",
    "nltk.download('stopwords')\n",
    "nltk.download('punkt')\n",
    "stop = set(stopwords.words('english'))"
   ]
  },
  {
   "cell_type": "code",
   "execution_count": 35,
   "metadata": {},
   "outputs": [],
   "source": [
    "def preprocess(text):\n",
    "    text=text.lower()\n",
    "    text=re.sub('[^0-9a-z]+',' ',text)\n",
    "    words = text.split()\n",
    "    words2=' '.join(words)\n",
    "    return(words2)\n",
    "data.text = data_origin.text.apply(preprocess)"
   ]
  },
  {
   "cell_type": "code",
   "execution_count": 36,
   "metadata": {},
   "outputs": [
    {
     "data": {
      "text/html": [
       "<div>\n",
       "<style scoped>\n",
       "    .dataframe tbody tr th:only-of-type {\n",
       "        vertical-align: middle;\n",
       "    }\n",
       "\n",
       "    .dataframe tbody tr th {\n",
       "        vertical-align: top;\n",
       "    }\n",
       "\n",
       "    .dataframe thead th {\n",
       "        text-align: right;\n",
       "    }\n",
       "</style>\n",
       "<table border=\"1\" class=\"dataframe\">\n",
       "  <thead>\n",
       "    <tr style=\"text-align: right;\">\n",
       "      <th></th>\n",
       "      <th>airline_sentiment</th>\n",
       "      <th>text</th>\n",
       "    </tr>\n",
       "  </thead>\n",
       "  <tbody>\n",
       "    <tr>\n",
       "      <th>0</th>\n",
       "      <td>1</td>\n",
       "      <td>virginamerica plus added commercials experienc...</td>\n",
       "    </tr>\n",
       "    <tr>\n",
       "      <th>1</th>\n",
       "      <td>0</td>\n",
       "      <td>virginamerica really aggressive blast obnoxiou...</td>\n",
       "    </tr>\n",
       "    <tr>\n",
       "      <th>2</th>\n",
       "      <td>0</td>\n",
       "      <td>virginamerica really big bad thing</td>\n",
       "    </tr>\n",
       "    <tr>\n",
       "      <th>3</th>\n",
       "      <td>0</td>\n",
       "      <td>virginamerica seriously would pay 30 flight se...</td>\n",
       "    </tr>\n",
       "    <tr>\n",
       "      <th>4</th>\n",
       "      <td>1</td>\n",
       "      <td>virginamerica yes nearly every time fly vx ear...</td>\n",
       "    </tr>\n",
       "  </tbody>\n",
       "</table>\n",
       "</div>"
      ],
      "text/plain": [
       "   airline_sentiment                                               text\n",
       "0                  1  virginamerica plus added commercials experienc...\n",
       "1                  0  virginamerica really aggressive blast obnoxiou...\n",
       "2                  0                 virginamerica really big bad thing\n",
       "3                  0  virginamerica seriously would pay 30 flight se...\n",
       "4                  1  virginamerica yes nearly every time fly vx ear..."
      ]
     },
     "execution_count": 36,
     "metadata": {},
     "output_type": "execute_result"
    }
   ],
   "source": [
    "data.head()"
   ]
  },
  {
   "cell_type": "code",
   "execution_count": 37,
   "metadata": {},
   "outputs": [],
   "source": [
    "tagged_data = [TaggedDocument(words=word_tokenize(_d.lower()), tags=[str(i)]) for i, _d in enumerate(data['text'])]"
   ]
  },
  {
   "cell_type": "code",
   "execution_count": 38,
   "metadata": {},
   "outputs": [
    {
     "data": {
      "text/plain": [
       "[TaggedDocument(words=['virginamerica', 'plus', 'added', 'commercials', 'experience', 'tacky'], tags=['0']),\n",
       " TaggedDocument(words=['virginamerica', 'really', 'aggressive', 'blast', 'obnoxious', 'entertainment', 'guests', 'faces', 'amp', 'little', 'recourse'], tags=['1']),\n",
       " TaggedDocument(words=['virginamerica', 'really', 'big', 'bad', 'thing'], tags=['2']),\n",
       " TaggedDocument(words=['virginamerica', 'seriously', 'would', 'pay', '30', 'flight', 'seats', 'playing', 'really', 'bad', 'thing', 'flying', 'va'], tags=['3']),\n",
       " TaggedDocument(words=['virginamerica', 'yes', 'nearly', 'every', 'time', 'fly', 'vx', 'ear', 'worm', 'go', 'away'], tags=['4']),\n",
       " TaggedDocument(words=['virginamerica', 'well'], tags=['5']),\n",
       " TaggedDocument(words=['virginamerica', 'amazing', 'arrived', 'hour', 'early', 'good'], tags=['6']),\n",
       " TaggedDocument(words=['virginamerica', 'lt', '3', 'pretty', 'graphics', 'much', 'better', 'minimal', 'iconography'], tags=['7']),\n",
       " TaggedDocument(words=['virginamerica', 'great', 'deal', 'already', 'thinking', '2nd', 'trip', 'australia', 'amp', 'even', 'gone', '1st', 'trip', 'yet', 'p'], tags=['8']),\n",
       " TaggedDocument(words=['virginamerica', 'virginmedia', 'flying', 'fabulous', 'seductive', 'skies', 'u', 'take', 'stress', 'away', 'travel', 'http', 'co', 'ahlxhhkiyn'], tags=['9']),\n",
       " TaggedDocument(words=['virginamerica', 'thanks'], tags=['10']),\n",
       " TaggedDocument(words=['virginamerica', 'sfo', 'pdx', 'schedule', 'still', 'mia'], tags=['11']),\n",
       " TaggedDocument(words=['virginamerica', 'excited', 'first', 'cross', 'country', 'flight', 'lax', 'mco', 'heard', 'nothing', 'great', 'things', 'virgin', 'america', '29daystogo'], tags=['12']),\n",
       " TaggedDocument(words=['virginamerica', 'flew', 'nyc', 'sfo', 'last', 'week', 'fully', 'sit', 'seat', 'due', 'two', 'large', 'gentleman', 'either', 'side', 'help'], tags=['13']),\n",
       " TaggedDocument(words=['flying', 'virginamerica'], tags=['14']),\n",
       " TaggedDocument(words=['virginamerica', 'know', 'would', 'amazingly', 'awesome', 'bos', 'fll', 'please', 'want', 'fly'], tags=['15']),\n",
       " TaggedDocument(words=['virginamerica', 'first', 'fares', 'may', 'three', 'times', 'carriers', 'seats', 'available', 'select'], tags=['16']),\n",
       " TaggedDocument(words=['virginamerica', 'love', 'graphic', 'http', 'co', 'ut5grrwaaa'], tags=['17']),\n",
       " TaggedDocument(words=['virginamerica', 'love', 'hipster', 'innovation', 'feel', 'good', 'brand'], tags=['18']),\n",
       " TaggedDocument(words=['virginamerica', 'guys', 'messed', 'seating', 'reserved', 'seating', 'friends', 'guys', 'gave', 'seat', 'away', 'want', 'free', 'internet'], tags=['19']),\n",
       " TaggedDocument(words=['virginamerica', 'status', 'match', 'program', 'applied', 'three', 'weeks', 'called', 'emailed', 'response'], tags=['20']),\n",
       " TaggedDocument(words=['virginamerica', 'happened', '2', 'ur', 'vegan', 'food', 'options', 'least', 'say', 'ur', 'site', 'know', 'able', '2', 'eat', 'anything', 'next', '6', 'hrs', 'fail'], tags=['21']),\n",
       " TaggedDocument(words=['virginamerica', 'amazing', 'get', 'cold', 'air', 'vents', 'vx358', 'noair', 'worstflightever', 'roasted', 'sfotobos'], tags=['22']),\n",
       " TaggedDocument(words=['virginamerica', 'hi', 'bked', 'cool', 'birthday', 'trip', 'add', 'elevate', 'cause', 'entered', 'middle', 'name', 'flight', 'booking', 'problems'], tags=['23']),\n",
       " TaggedDocument(words=['virginamerica', 'help', 'left', 'expensive', 'headphones', 'flight', '89', 'iad', 'lax', 'today', 'seat', '2a', 'one', 'answering', 'l', 'amp', 'f', 'number', 'lax'], tags=['24']),\n",
       " TaggedDocument(words=['virginamerica', 'awaiting', 'return', 'phone', 'call', 'would', 'prefer', 'use', 'online', 'self', 'service', 'option'], tags=['25']),\n",
       " TaggedDocument(words=['virginamerica', 'great', 'news', 'america', 'could', 'start', 'flights', 'hawaii', 'end', 'year', 'http', 'co', 'r8p2zy3fe4', 'via', 'pacificbiznews'], tags=['26']),\n",
       " TaggedDocument(words=['virginamerica', 'moodlighting', 'way', 'fly', 'best', 'experience', 'ever', 'cool', 'calming', 'moodlitmonday'], tags=['27']),\n",
       " TaggedDocument(words=['virginamerica', 'freddieawards', 'done', 'done', 'best', 'airline', 'around', 'hands'], tags=['28']),\n",
       " TaggedDocument(words=['virginamerica', 'chat', 'support', 'working', 'site', 'http', 'co', 'vhp2gtdwpk'], tags=['29']),\n",
       " TaggedDocument(words=['virginamerica', 'view', 'downtown', 'los', 'angeles', 'hollywood', 'sign', 'beyond', 'rain', 'mountains', 'http', 'co', 'dw5nf0ibtr'], tags=['30']),\n",
       " TaggedDocument(words=['virginamerica', 'hey', 'first', 'time', 'flyer', 'next', 'week', 'excited', 'hard', 'time', 'getting', 'flights', 'added', 'elevate', 'account', 'help'], tags=['31']),\n",
       " TaggedDocument(words=['virginamerica', 'elevategold', 'good', 'reason', 'rock'], tags=['32']),\n",
       " TaggedDocument(words=['virginamerica', 'wow', 'blew', 'mind'], tags=['33']),\n",
       " TaggedDocument(words=['virginamerica', 'ladygaga', 'carrieunderwood', 'julie', 'andrews', 'way', 'though', 'ladygaga', 'impressive', 'carrieunderwood'], tags=['34']),\n",
       " TaggedDocument(words=['virginamerica', 'hi', 'excited', '99', 'lga', 'gt', 'dal', 'deal', 'trying', '2', 'book', 'since', 'last', 'week', 'amp', 'page', 'never', 'loads', 'thx'], tags=['35']),\n",
       " TaggedDocument(words=['virginamerica', 'know', 'need', 'spotify', 'stat', 'guiltypleasures'], tags=['36']),\n",
       " TaggedDocument(words=['virginamerica', 'ladygaga', 'carrieunderwood', 'lady', 'gaga', 'amazing'], tags=['37']),\n",
       " TaggedDocument(words=['virginamerica', 'called', '3', '4', 'weeks', 'ago', 'adding', '3', 'flights', '2014', 'elevate', 'still', 'shown', 'help'], tags=['38']),\n",
       " TaggedDocument(words=['virginamerica', 'ladygaga', 'carrieunderwood', 'love', 'three', 'really', 'beat', 'classics'], tags=['39']),\n",
       " TaggedDocument(words=['virginamerica', 'heyyyy', 'guyyyys', 'trying', 'get', 'hour', 'someone', 'call', 'please'], tags=['40']),\n",
       " TaggedDocument(words=['virginamerica', 'hi', 'virgin', 'hold', '40', '50', 'minutes', 'earlier', 'flights', 'la', 'nyc', 'tonight', 'earlier', '11', '50pm'], tags=['41']),\n",
       " TaggedDocument(words=['virginamerica', 'congrats', 'winning', 'travelzoo', 'award', 'best', 'deals', 'airline', 'us', 'http', 'co', 'kj1iljaebv'], tags=['42']),\n",
       " TaggedDocument(words=['virginamerica', 'everything', 'fine', 'lost', 'bag'], tags=['43']),\n",
       " TaggedDocument(words=['virginamerica', 'airline', 'awesome', 'lax', 'loft', 'needs', 'step', 'game', '40', 'dirty', 'tables', 'floors', 'http', 'co', 'hy0vrfhjht'], tags=['44']),\n",
       " TaggedDocument(words=['virginamerica', 'worried', 'great', 'ride', 'new', 'plane', 'great', 'crew', 'airlines', 'like'], tags=['45']),\n",
       " TaggedDocument(words=['virginamerica', 'awesome', 'flew', 'yall', 'sat', 'morning', 'way', 'correct', 'bill'], tags=['46']),\n",
       " TaggedDocument(words=['virginamerica', 'going', 'customer', 'service', 'anyway', 'speak', 'human', 'asap', 'thank'], tags=['47']),\n",
       " TaggedDocument(words=['virginamerica', 'supp', 'biz', 'traveler', 'like', 'southwestair', 'customer', 'service', 'like', 'jetblue', 'neverflyvirginforbusiness'], tags=['48']),\n",
       " TaggedDocument(words=['virginamerica', 'applied', 'member', 'inflight', 'crew', 'team', 'im', '100', 'interested', 'flightattendant', 'dreampath', 'g'], tags=['49']),\n",
       " TaggedDocument(words=['virginamerica', 'best', 'whenever', 'begrudgingly', 'use', 'airline', 'delayed', 'late', 'flight'], tags=['50']),\n",
       " TaggedDocument(words=['virginamerica', 'interesting', 'flying', 'cancelled', 'flight', 'next', 'four', 'flights', 'planned', 'neverflyvirginforbusiness'], tags=['51']),\n",
       " TaggedDocument(words=['virginamerica', 'disappointing', 'experience', 'shared', 'every', 'business', 'traveler', 'meet', 'neverflyvirgin'], tags=['52']),\n",
       " TaggedDocument(words=['virginamerica', 'trouble', 'adding', 'flight', 'wife', 'booked', 'elevate', 'account', 'help', 'http', 'co', 'px8hqoks3r'], tags=['53']),\n",
       " TaggedDocument(words=['virginamerica', 'site', 'back'], tags=['54']),\n",
       " TaggedDocument(words=['virginamerica', 'like', 'tv', 'interesting', 'video', 'disappointed', 'cancelled', 'flightled', 'flight', 'flights', 'went', 'jfk', 'saturday'], tags=['55']),\n",
       " TaggedDocument(words=['virginamerica', 'landed', 'lax', 'hour', 'late', 'flight', 'bag', 'check', 'business', 'travel', 'friendly', 'nomorevirgin'], tags=['56']),\n",
       " TaggedDocument(words=['virginamerica', 'website', 'btw', 'new', 'website', 'great', 'user', 'experience', 'time', 'another', 'redesign'], tags=['57']),\n",
       " TaggedDocument(words=['virginamerica', 'check', 'add', 'bag', 'website', 'working', 'tried', 'desktop', 'mobile', 'http', 'co', 'avyqdmpi1y'], tags=['58']),\n",
       " TaggedDocument(words=['virginamerica', 'let', '2', 'scanned', 'passengers', 'leave', 'plane', 'told', 'someone', 'remove', 'bag', '1st', 'class', 'bin', 'uncomfortable'], tags=['59']),\n",
       " TaggedDocument(words=['virginamerica', 'phone', 'number', 'find', 'call', 'flight', 'reservation'], tags=['60']),\n",
       " TaggedDocument(words=['virginamerica', 'anyone', 'anything', 'today', 'website', 'useless', 'one', 'answering', 'phone'], tags=['61']),\n",
       " TaggedDocument(words=['virginamerica', 'must', 'traveler', 'miss', 'flight', 'late', 'flight', 'check', 'bag', 'missed', 'morning', 'appointments', 'lost', 'business', 'sfo2lax'], tags=['62']),\n",
       " TaggedDocument(words=['virginamerica', 'direct', 'flight', 'fll', 'gt', 'sfo', 'unexpected', 'layover', 'vegas', '4', 'fuel', 'yet', 'peeps', 'next', 'bought', 'vegas', 'flight', 'sneaky'], tags=['63']),\n",
       " TaggedDocument(words=['virginamerica', 'late', 'flight', 'bag', 'check', 'lost', 'business', 'missed', 'flight', 'apt', 'three', 'people', 'flight', 'exp'], tags=['64']),\n",
       " TaggedDocument(words=['virginamerica', 'amazing', 'customer', 'service', 'raeann', 'sf', 'best', 'customerservice', 'virginamerica', 'flying'], tags=['65']),\n",
       " TaggedDocument(words=['virginamerica', 'called', 'service', 'line', 'hung', 'awesome', 'sarcasm'], tags=['66']),\n",
       " TaggedDocument(words=['virginamerica', 'site', 'tripping', 'trying', 'check', 'getting', 'plain', 'text', 'version', 'reluctant', 'enter', 'card', 'info'], tags=['67']),\n",
       " TaggedDocument(words=['virginamerica', 'getaway', 'deals', 'may', '59', 'one', 'way', 'lots', 'cool', 'cities', 'http', 'co', 'tzzjhuibch', 'cheapflights', 'farecompare'], tags=['68']),\n",
       " TaggedDocument(words=['virginamerica', 'getaway', 'deals', 'may', '59', 'one', 'way', 'lots', 'cool', 'cities', 'http', 'co', 'b2xi4yg5t8', 'cheapflights', 'farecompare'], tags=['69']),\n",
       " TaggedDocument(words=['virginamerica', 'great', 'week'], tags=['70']),\n",
       " TaggedDocument(words=['virginamerica', 'come', 'back', 'phl', 'already', 'need', 'take', 'us', 'horrible', 'cold', 'pleasecomeback', 'http', 'co', 'glxfwp6nqh'], tags=['71']),\n",
       " TaggedDocument(words=['virginamerica', 'concerned', 'fly', 'plane', 'needs', 'delayed', 'due', 'tech', 'stop'], tags=['72']),\n",
       " TaggedDocument(words=['virginamerica', 'best', 'airline', 'flown', 'easy', 'change', 'reservation', 'helpful', 'representatives', 'amp', 'comfortable', 'flying', 'experience'], tags=['73']),\n",
       " TaggedDocument(words=['virginamerica', 'another', 'rep', 'kicked', 'butt', 'naelah', 'represents', 'team', 'beautifully', 'thank'], tags=['74']),\n",
       " TaggedDocument(words=['virginamerica', 'beautiful', 'front', 'end', 'design', 'right', 'cool', 'still', 'book', 'ticket', 'b', 'c', 'back', 'end', 'secure'], tags=['75']),\n",
       " TaggedDocument(words=['virginamerica', 'love', 'team', 'running', 'gate', 'e9', 'las', 'tonight', 'waited', 'delayed', 'flight', 'kept', 'things', 'entertaining'], tags=['76']),\n",
       " TaggedDocument(words=['virginamerica', 'use', 'another', 'browser', '2015', 'amp', 'brand', 'reputation', 'built', 'tech', 'response', 'cross', 'browser', 'compatible', 'website'], tags=['77']),\n",
       " TaggedDocument(words=['virginamerica', 'flight', 'flight', 'booking', 'problems', 'site', 'totally', 'folks', 'problem'], tags=['78']),\n",
       " TaggedDocument(words=['virginamerica', 'like', 'customer', 'service', '40', 'min', 'delay', 'connecting', 'passengers', 'seems', 'long', 'va370'], tags=['79']),\n",
       " TaggedDocument(words=['virginamerica', 'thanks', 'outstanding', 'nyc', 'jfk', 'crew', 'moved', 'mountains', 'get', 'home', 'san', 'francisco', 'tonight'], tags=['80']),\n",
       " TaggedDocument(words=['virginamerica', 'absolute', 'best', 'team', 'customer', 'service', 'ever', 'every', 'time', 'fly', 'delighted', 'thank'], tags=['81']),\n",
       " TaggedDocument(words=['virginamerica', 'need', 'change', 'flight', 'thats', 'scheduled', '9', 'hours', '120', 'min', 'wait', 'time', 'phone', 'im', 'calling', 'intern', 'help'], tags=['82']),\n",
       " TaggedDocument(words=['virginamerica', 'completely', 'awesome', 'experience', 'last', 'month', 'bos', 'las', 'nonstop', 'thanks', 'awesome', 'flight', 'depart', 'time', 'vabeatsjblue'], tags=['83']),\n",
       " TaggedDocument(words=['virginamerica', 'failing', 'customers', 'check', 'process', 'link', 'tsa', 'pre', 'check'], tags=['84']),\n",
       " TaggedDocument(words=['virginamerica', 'fidifamilies', 'us', 'terrible', 'airline', 'gave', 'us', 'hotel', 'hotline', 'number', 'said', 'sorry'], tags=['85']),\n",
       " TaggedDocument(words=['virginamerica', 'chrysichrysic', 'assistance', 'yesterday', 'u', 'cancelled', 'flightled', 'flight', 'give', 'us', 'hotel', 'hotline', 'shame'], tags=['86']),\n",
       " TaggedDocument(words=['virginamerica', 'another', 'delayed', 'flight', 'likingyoulessandless'], tags=['87']),\n",
       " TaggedDocument(words=['virginamerica', 'need', 'register', 'service', 'dog', 'first', 'class', 'ticket', 'sfo', 'gt', 'dulles', 'phone', 'queue', 'hour', 'longer', 'pls', 'advise'], tags=['88']),\n",
       " TaggedDocument(words=['virginamerica', 'rock', 'making', 'watch', 'oscars', 'flight', 'redcarpet', 'oscars', 'oscars2015'], tags=['89']),\n",
       " TaggedDocument(words=['virginamerica', 'always', 'xoxo'], tags=['90']),\n",
       " TaggedDocument(words=['virginamerica', 'book', 'seats', 'flights', 'buy', 'even', 'check', 'creates', 'much', 'anxiety', 'frustrated'], tags=['91']),\n",
       " TaggedDocument(words=['virginamerica', 'think', 'paying', 'extra', '100', 'bucks', 'rt', 'luggage', 'might', 'afford', 'hiring', 'extra', 'hand', 'sfo', 'lame'], tags=['92']),\n",
       " TaggedDocument(words=['virginamerica', 'best', 'customer', 'service', 'rep', 'world', 'irmafromdallas', 'takes', 'cake'], tags=['93']),\n",
       " TaggedDocument(words=['virginamerica', 'please', 'provide', 'status', 'flight', '769', 'cant', 'imagine', 'time', 'web', 'indicates', 'dude', 'weather', 'dallas'], tags=['94']),\n",
       " TaggedDocument(words=['virginamerica', 'amazing', 'staff', 'amp', 'super', 'helpful', 'ran', 'waltdisneyworld', 'princesshalf', 'spoiled', 'comfort'], tags=['95']),\n",
       " TaggedDocument(words=['virginamerica', 'paid', 'premium', 'fly', 'across', 'country', 'cancelled', 'flight', 'flight', 'offer', 'check', 'fee', 'upgrade', 'love', 'sad', 'face'], tags=['96']),\n",
       " TaggedDocument(words=['virginamerica', 'question', 'possible', 'book', 'seat', 'infant', '2', 'giving', 'option', 'want', 'seat'], tags=['97']),\n",
       " TaggedDocument(words=['always', 'together', 'welcome', 'rt', 'virginamerica', 'jessicajaymes', 'welcome'], tags=['98']),\n",
       " TaggedDocument(words=['virginamerica', 'flight', 'home', 'dc', 'sunset', 'globe', 'backtowinter', 'back', 'work', 'refreshed', 'http', 'co', 'vx9vbctdlf'], tags=['99']),\n",
       " TaggedDocument(words=['virginamerica', 'understand', 'need', 'dm', 'give', 'answer', 'damaged', 'luggage', 'policy'], tags=['100']),\n",
       " TaggedDocument(words=['virginamerica', 'mean', 'policy', 'destroyed', 'luggage'], tags=['101']),\n",
       " TaggedDocument(words=['virginamerica', 'thank', 'checking', 'tickets', 'purchased', 'customer', 'happy'], tags=['102']),\n",
       " TaggedDocument(words=['virginamerica', 'problems', 'flight', 'booking', 'problems', 'web', 'site', 'keeps', 'giving', 'error', 'contact', 'phone', 'phone', '30', 'minute', 'wait'], tags=['103']),\n",
       " TaggedDocument(words=['virginamerica', 'reschedule', 'cancelled', 'flightled', 'flights', 'online', 'change', 'button', 'greyed'], tags=['104']),\n",
       " TaggedDocument(words=['virginamerica', 'rang', 'wait', '35', 'minutes', 'book', 'ticket', 'vendor', 'fix', 'site'], tags=['105']),\n",
       " TaggedDocument(words=['virginamerica', 'got', 'flight', 'told', '4', '50', 'today', 'checked', 'email', '4', '50', 'tomorrow', 'unacceptable'], tags=['106']),\n",
       " TaggedDocument(words=['virginamerica', 'flight', 'lga', 'cancelled', 'flighted', 'stuck', 'dallas', 'called', 'reschedule', 'told', 'could', 'get', 'flight', 'today', '1', '2'], tags=['107']),\n",
       " TaggedDocument(words=['virginamerica', 'pairings', 'include', 'red', 'wine', 'white', 'offered', 'redwineisbetter'], tags=['108']),\n",
       " TaggedDocument(words=['virginamerica', 'website'], tags=['109']),\n",
       " TaggedDocument(words=['virginamerica', 'site', 'seems', 'little', 'wonked', 'right', 'may', 'want', 'look', 'tried', 'two', 'browsers', 'css', 'http', 'co', '8qsqmm7kf2'], tags=['110']),\n",
       " TaggedDocument(words=['virginamerica', 'disappointed', 'agent', 'designated', 'silver', 'status', 'check', 'line', 'dulles', 'airport', 'closed', 'assist', 'pasengers'], tags=['111']),\n",
       " TaggedDocument(words=['virginamerica', 'normal', 'receive', 'reply', 'central', 'baggage', 'baggageissues', 'smh'], tags=['112']),\n",
       " TaggedDocument(words=['virginamerica', 'logan', 'airport', 'waiting', 'checkin', '9am', 'flight', 'checkin', 'desk', 'open'], tags=['113']),\n",
       " TaggedDocument(words=['virginamerica', 'congrats', 'got', 'business', 'ewr', 'sfo', 'lax', 'fuck', 'united', 'fl1289', 'sfo', 'ewr', 'clincher'], tags=['114']),\n",
       " TaggedDocument(words=['virginamerica', 'applied', '2', 'weeks', 'ago', 'heard', 'back', 'flying', 'week', 'disappointed'], tags=['115']),\n",
       " TaggedDocument(words=['virginamerica', 'thank', 'follow'], tags=['116']),\n",
       " TaggedDocument(words=['virginamerica', 'many', 'apologies', 'r', 'worse', 'airlines', 'even', 'respond', 'cudtomers'], tags=['117']),\n",
       " TaggedDocument(words=['virginamerica', 'shame', 'va', 'making', 'people', 'spend', 'money', 'stranded', 'cities', 'airlines', 'landing', 'jfk', 'reimburse'], tags=['118']),\n",
       " TaggedDocument(words=['virginamerica', 'bad', 'say', 'takes', '10', '14', 'days', 'via', 'confirmation', 'email', 'inquired', '3', 'weeks', 'claim', '6', '8', 'weeks'], tags=['119']),\n",
       " TaggedDocument(words=['virginamerica', 'flight', 'bos', 'gt', 'las', 'tomorrow', 'cancelled', 'flightled', 'notification', 'wait', 'times', '1', 'hour', 'rebook', 'another', 'airline'], tags=['120']),\n",
       " TaggedDocument(words=['rt', 'virginamerica', 'met', 'match', 'got', 'status', 'another', 'airline', 'upgrade', 'restr', 'http', 'co', 'rhkamx9vf5', 'http', 'co', 'pyalebgkjt'], tags=['121']),\n",
       " TaggedDocument(words=['virginamerica', 'way', 'fly', 'elevate', 'gold'], tags=['122']),\n",
       " TaggedDocument(words=['virginamerica', 'lot', 'apologies', 'thrown', 'customers', 'see', 'sad', 'thanks', 'nothing', 'worst', 'airline', 'ever'], tags=['123']),\n",
       " TaggedDocument(words=['virginamerica', 'flight', 'stuff', 'wrong', 'nothing', 'worst', 'flight', 'ever'], tags=['124']),\n",
       " TaggedDocument(words=['virginamerica', 'match', 'americanairlines', 'status', 'cool'], tags=['125']),\n",
       " TaggedDocument(words=['virginamerica', 'trying', 'book', 'flight', 'guys', 'website', 'let', 'lose', 'business'], tags=['126']),\n",
       " TaggedDocument(words=['virginamerica', 'suck'], tags=['127']),\n",
       " TaggedDocument(words=['virginamerica', 'thanks'], tags=['128']),\n",
       " TaggedDocument(words=['virginamerica', 'dm', 'issue', 'persisting'], tags=['129']),\n",
       " TaggedDocument(words=['virginamerica', 'never', 'rec', 'cancelled', 'flightlation', 'notice', 'left', 'w', 'options', 'fly', 'ps', 'driving', 'la', 'red', 'eye', 'mon', 'w', 'kids'], tags=['130']),\n",
       " TaggedDocument(words=['virginamerica', 'trying', 'book', 'flight', 'amp', 'site'], tags=['131']),\n",
       " TaggedDocument(words=['virginamerica', 'flights', 'flying', 'boston', 'tomorrow', 'need', 'home', 'cancelled', 'flightled', 'flight', 'anything'], tags=['132']),\n",
       " TaggedDocument(words=['virginamerica', 'stink', 'flight', 'cancelled', 'flighted', 'psp', 'jfk', 'notification', 'ability', 'rebook', 'disappointed', 'expected', 'better'], tags=['133']),\n",
       " TaggedDocument(words=['virginamerica', 'love', 'guy', 'song', 'dancing', 'high', 'school', 'dance', 'revue'], tags=['134']),\n",
       " TaggedDocument(words=['virginamerica', 'website', 'trying', 'check'], tags=['135']),\n",
       " TaggedDocument(words=['virginamerica', 'done', 'thank', 'quick', 'response', 'apparently', 'faster', 'sitting', 'hold'], tags=['136']),\n",
       " TaggedDocument(words=['virginamerica', 'cool', 'picture', 'another', 'virginamerica', 'plane', 'wing', 'site', 'http', 'co', '5b2agfd8c4'], tags=['137']),\n",
       " TaggedDocument(words=['virginamerica', 'keep', 'great', 'work'], tags=['138']),\n",
       " TaggedDocument(words=['virginamerica', 'goodness', 'people', 'love', 'field', 'amazing', 'pressure', 'texas', 'beatstheothers', 'crisis', 'please', 'fly', 'ny'], tags=['139']),\n",
       " TaggedDocument(words=['virginamerica', 'thanks', 'great', 'flight', 'la', 'boston', 'pilots', 'great', 'job', 'landing', 'snow', 'go', 'back', 'la', 'seriously'], tags=['140']),\n",
       " TaggedDocument(words=['virginamerica', 'thanks', 'much', 'awesome', 'support', 'guys', 'rock'], tags=['141']),\n",
       " TaggedDocument(words=['virginamerica', 'seats', 'row', '8', 'recline', 'mention', 'website', 'soreback'], tags=['142']),\n",
       " TaggedDocument(words=['virginamerica', 'flight', '404', 'delayed', '2', 'hours', 'la', 'due', 'mechanical', 'problems', 'handle', 'like', 'pros', 'could', 'tossed', 'us', 'free', 'drink'], tags=['143']),\n",
       " TaggedDocument(words=['virginamerica', 'cancelled', 'flight', 'flights', 'today', 'precipitation', 'scared'], tags=['144']),\n",
       " TaggedDocument(words=['virginamerica', 'twitter', 'team', 'guys', 'killed', 'rescheduling', 'asap', 'thank'], tags=['145']),\n",
       " TaggedDocument(words=['virginamerica', 'guys', 'charged', '100', 'reschedule', 'flight', 'cancelled', 'flighted', 'refusing', 'refund', 'deal'], tags=['146']),\n",
       " TaggedDocument(words=['virginamerica', 'access', 'website', 'safari', 'iphone', '6', 'seems', 'work', 'mac', 'ipad', 'need', 'iphone', 'add', 'passbook'], tags=['147']),\n",
       " TaggedDocument(words=['virginamerica', 'mobile', 'site', 'broken', 'shows', 'header', 'elevateuser', 'numofpointsavailable', '0', 'number', 'points', 'let', 'checkin'], tags=['148']),\n",
       " TaggedDocument(words=['virginamerica', 'really', 'looking', 'forward', 'flight', 'let', 'know', 'rescheduled', 'diehardvirgin'], tags=['149']),\n",
       " TaggedDocument(words=['virginamerica', 'cancelled', 'flight', 'flight', 'vx413', 'one', 'sec', 'delayed', 'airport', 'next', 'cancelled', 'flightled', 'gon', 'na', 'email', 'call', 'reschedule'], tags=['150']),\n",
       " TaggedDocument(words=['virginamerica', 'problem', 'link', 'email', 'check', 'thanks'], tags=['151']),\n",
       " TaggedDocument(words=['virginamerica', 'change', 'another', 'airline', 'get', 'dc', 'today', 'united', 'able', 'land', 'dc', 'cost', '800', 'ugh'], tags=['152']),\n",
       " TaggedDocument(words=['virginamerica', 'looking', 'forward', 'first', 'flight', 'today', 'cancelled', 'flightled', 'along', 'subsequent', 'one'], tags=['153']),\n",
       " TaggedDocument(words=['virginamerica', 'putting', 'great', 'deals', 'pdx', 'las', 'las', 'pdx', 'show', 'love', 'http', 'co', 'eniqg0buzj'], tags=['154']),\n",
       " TaggedDocument(words=['virginamerica', 'wish', 'afford', 'fly', 'next', 'friday', 'going', 'back', 'home', 'love', 'everything', 'airline'], tags=['155']),\n",
       " TaggedDocument(words=['virginamerica', 'gon', 'na', 'deal', 'dallas', 'dc', 'deal', 'dc', 'dallas', 'sad'], tags=['156']),\n",
       " TaggedDocument(words=['virginamerica', 'hold', 'times', 'call', 'center', 'bit', 'much'], tags=['157']),\n",
       " TaggedDocument(words=['virginamerica', 'like', 'http', 'co', 'vpqem31xuq'], tags=['158']),\n",
       " TaggedDocument(words=['virginamerica', 'site', 'help'], tags=['159']),\n",
       " TaggedDocument(words=['virginamerica', 'best', 'flight', 'attendant', 'ever', 'http', 'co', 'pxdel1nq3l'], tags=['160']),\n",
       " TaggedDocument(words=['awesome', 'rt', 'virginamerica', 'watch', 'nominated', 'films', '35', '000', 'feet', 'meetthefleet', 'oscars', 'http', 'co', 'dnstitrzwy'], tags=['161']),\n",
       " TaggedDocument(words=['virginamerica', 'thanks', 'much'], tags=['162']),\n",
       " TaggedDocument(words=['virginamerica', 'trying', 'reset', 'password', 'email', 'never', 'arrives', 'help'], tags=['163']),\n",
       " TaggedDocument(words=['virginamerica', 'airline', 'based', 'silicon', 'valley', 'disruption', 'fcmostinnovative', 'incubator', 'fastcompany', 'http', 'co', 'wu3lbcncr9'], tags=['164']),\n",
       " TaggedDocument(words=['virginamerica', 'nicely', 'done'], tags=['165']),\n",
       " TaggedDocument(words=['virginamerica', 'looking', 'forward', 'watching', 'oscars', 'flight', 'home', 'tomorrow', 'might', 'even', 'get', 'something', 'bubbly', 'drink'], tags=['166']),\n",
       " TaggedDocument(words=['virginamerica', 'reason', 'delay', 'departure', 'vx', '413', 'jfk', 'afternoon'], tags=['167']),\n",
       " TaggedDocument(words=['virginamerica', 'todays', 'flight', 'palm', 'springs', 'ca', 'jfk', 'ny', 'cancelled', 'flightled'], tags=['168']),\n",
       " TaggedDocument(words=['virginamerica', 'hahaha', 'virginamerica', 'guys', 'amazing', 'love', 'guys'], tags=['169']),\n",
       " TaggedDocument(words=['virginamerica', 'sounds', 'like', 'fun'], tags=['170']),\n",
       " TaggedDocument(words=['virginamerica', 'css', 'site', '404', 'right', 'please', 'fix', 'site', 'unusable'], tags=['171']),\n",
       " TaggedDocument(words=['virginamerica', 'flight', '910', 'vegas', 'boston', 'today', 'checked', 'online', 'bag', 'count', 'register', 'fix', 'somehow'], tags=['172']),\n",
       " TaggedDocument(words=['virginamerica', 'classiq', 'luv', 'virgin', 'america', 'greetingz'], tags=['173']),\n",
       " TaggedDocument(words=['virginamerica', 'hi', 'trying', 'check', 'website', 'working', 'tried', '3', 'different', 'browsers', 'problem', 'continues'], tags=['174']),\n",
       " TaggedDocument(words=['virginamerica', 'thanks', 'great', 'customer', 'service', 'today', 'amp', 'helping', 'get', 'travel', 'sorted'], tags=['175']),\n",
       " TaggedDocument(words=['virginamerica', 'thanks', 'guys', 'sweet', 'route', 'rockies', 'airplanemodewason'], tags=['176']),\n",
       " TaggedDocument(words=['virginamerica', 'love', '90s', 'music', 'blasting', 'gate', 'boston', 'waiting', 'flight', 'sanfrancisco', 'could', 'get', 'iced', 'coffee'], tags=['177']),\n",
       " TaggedDocument(words=['virginamerica', 'passenger', '7d', 'flt', '338', 'assaulted', 'flown', 'trust', 'banned', 'crew', 'filed', 'report', 'faanews'], tags=['178']),\n",
       " TaggedDocument(words=['virginamerica', 'current', 'bug', 'website', 'shows', 'select', 'departure', 'city', 'selecting', 'destination', 'city', 'http', 'co', 'sllyibe2vq'], tags=['179']),\n",
       " TaggedDocument(words=['virginamerica', 'luggage', 'severely', 'dented', 'missing', 'wheel', 'coming', 'baggage', 'claim', 'san', 'luggage', 'agent', 'miranda', 'think', 'help'], tags=['180']),\n",
       " TaggedDocument(words=['virginamerica', 'thank', 'easy', 'itinerary', 'shift', 'impending', 'weather', 'quick', 'painless', 'amp', 'free'], tags=['181']),\n",
       " TaggedDocument(words=['virginamerica', 'thanks', 'good', 'times', 'back', 'vodkatonics', 'entire', 'flight', 'sfo'], tags=['182']),\n",
       " TaggedDocument(words=['virginamerica', 'great', 'job', 'adding', 'little', 'luxuries', 'aesthetics', 'improve', 'air', 'travel', 'experience', 'thank', 'keep'], tags=['183']),\n",
       " TaggedDocument(words=['virginamerica', 'requested', 'window', 'seat', 'confirmed', 'window', 'got', 'stuck', 'middle', 'seat', 'good', 'way', 'treat', 'silver', 'member'], tags=['184']),\n",
       " TaggedDocument(words=['virginamerica', 'wtf', 'paid', 'direct', 'flight', 'purpose', 'stop', 'fuel', 'exhausted', 'frequent', 'flier', 'nothing', 'inconvenience'], tags=['185']),\n",
       " TaggedDocument(words=['virginamerica', 'something', 'wrong', 'website', 'safari', 'iphone'], tags=['186']),\n",
       " TaggedDocument(words=['virginamerica', 'thanks', 'gate', 'checking', 'baggage', 'full', 'flight', 'dfw', 'lax', '883', 'giving', 'early', 'boarding', 'sweet'], tags=['187']),\n",
       " TaggedDocument(words=['virginamerica', 'already', 'checked', 'page', 'expired', 'x'], tags=['188']),\n",
       " TaggedDocument(words=['virginamerica', 'boo', 'refunding', 'seat', 'upgrade', 'fee', 'want', 'buy', 'first', 'place'], tags=['189']),\n",
       " TaggedDocument(words=['virginamerica', 'see'], tags=['190']),\n",
       " TaggedDocument(words=['virginamerica', 'inflight', 'team', 'makes', 'experience', 'amazing'], tags=['191']),\n",
       " TaggedDocument(words=['virginamerica', 'cutest', 'salt', 'pepper', 'shaker', 'ever', 'think', 'guys', 'get', 'better', 'http', 'co', 'vc6keulg2j'], tags=['192']),\n",
       " TaggedDocument(words=['virginamerica', 'moved', 'seat', 'notice', 'better', 'seat', 'cabin', 'select', 'behind', 'row', 'selected', 'disappointed'], tags=['193']),\n",
       " TaggedDocument(words=['virginamerica', 'fav', 'airline'], tags=['194']),\n",
       " TaggedDocument(words=['virginamerica', 'hot', 'female', 'pilot', 'sweet', 'dca', 'sfo'], tags=['195']),\n",
       " TaggedDocument(words=['virginamerica', 'already', 'contacted', 'central', 'baggage', 'amp', 'sent', 'dm', 'renttherunway', 'charging', 'dress', 'lost', 'suitcase', 'help'], tags=['196']),\n",
       " TaggedDocument(words=['virginamerica', 'thank'], tags=['197']),\n",
       " TaggedDocument(words=['virginamerica', 'anything', 'going', 'website', 'getting', 'lot', 'errors', 'past', '30', 'minutes'], tags=['198']),\n",
       " TaggedDocument(words=['virginamerica', 'virginatlantic', 'checked', 'flight', 'sfo', 'lax', 'amp', 'told', 'atlantic', 'flying', 'club', 'gold', 'get', 'benefits'], tags=['199']),\n",
       " TaggedDocument(words=['virginamerica', 'husband', 'ordered', 'three', 'drinks', 'via', 'screen', 'never', 'came', 'awesome'], tags=['200']),\n",
       " TaggedDocument(words=['virginamerica', 'soooo', 'guys', 'going', 'leave', 'seatbelt', 'light', 'flight', 'barely', 'call', 'turbulence'], tags=['201']),\n",
       " TaggedDocument(words=['virginamerica', 'funny', 'story', 'website', 'broken', 'missing', 'javascript', 'stylesheets', 'checkin', 'process', 'dislike'], tags=['202']),\n",
       " TaggedDocument(words=['virginamerica', 'would', 'love', 'virgin', 'like', 'gopro'], tags=['203']),\n",
       " TaggedDocument(words=['virginamerica', 'trying', 'check', '10', '50am', 'ct', 'flight', 'tmm', 'desktop', 'website', 'working', 'sort', 'caching', 'bug', 'sos'], tags=['204']),\n",
       " TaggedDocument(words=['virginamerica', 'guys', 'know', 'check', 'links', 'emails', 'broken', 'http', 'co', '2npxb6obmr'], tags=['205']),\n",
       " TaggedDocument(words=['virginamerica', 'loved', 'wait', 'monday', 'return', 'flight', 'mostly', 'watch', 'inflight', 'safety', 'video', 'sorrynotsorry'], tags=['206']),\n",
       " TaggedDocument(words=['virginamerica', 'lost', 'luggage', '4', 'days', 'ago', 'flight', 'vx', '112', 'lax', 'iad', 'amp', 'calling', 'every', 'day', 'response', 'please', 'give', 'back', 'stuff'], tags=['207']),\n",
       " TaggedDocument(words=['virginamerica', 'flight', 'booking', 'problems', 'section', 'website', 'seems', 'broken', 'chrome', 'might', 'wan', 'na', 'look'], tags=['208']),\n",
       " TaggedDocument(words=['virginamerica', 'hi', 'wanted', 'see', 'new', 'routes', 'planned', 'year', 'newark', 'love', 'flying', 'guys', 'hope'], tags=['209']),\n",
       " TaggedDocument(words=['virginamerica', 'mean', 'probably', 'inappropriate', 'board'], tags=['210']),\n",
       " TaggedDocument(words=['virginamerica', 'happy', 'spend', 'day', 'together', 'let'], tags=['211']),\n",
       " TaggedDocument(words=['virginamerica', 'understanding', 'helped', 'thx', 'comps'], tags=['212']),\n",
       " TaggedDocument(words=['virginamerica', 'thank', 'absolutely'], tags=['213']),\n",
       " TaggedDocument(words=['virginamerica', 'looks', 'like', 'broken', 'link', 'assets', 'https', 'co', 'oardjjgrrd'], tags=['214']),\n",
       " TaggedDocument(words=['virginamerica', 'manage', 'itinerary', 'section', 'website', 'seems', 'broken', 'https', 'co', '2pujvcelng'], tags=['215']),\n",
       " TaggedDocument(words=['virginamerica', 'check', 'site', 'looks', 'like', 'every', 'time', 'loads', 'http', 'co', 'kacy2awdbw'], tags=['216']),\n",
       " TaggedDocument(words=['virginamerica', 'carriers', 'less', 'half', 'price', 'round', 'trip', 'fare', 'stunned', 'http', 'co', 'ukdjjijrow'], tags=['217']),\n",
       " TaggedDocument(words=['virginamerica', 'wtf', 'happening', 'pdx', 'late', 'flight', 'march', 'one', 'way', 'sfo', '550'], tags=['218']),\n",
       " TaggedDocument(words=['virginamerica', 'free', 'drinks', 'flight', 'back', 'free', 'promo'], tags=['219']),\n",
       " TaggedDocument(words=['virginamerica', 'ssal', 'thanks'], tags=['220']),\n",
       " TaggedDocument(words=['virginamerica', 'luggage', 'gone', 'filed', 'paperwork', 'promised', 'call', 'email', 'still', 'resolution', 'response', 'central', 'luggage'], tags=['221']),\n",
       " TaggedDocument(words=['virginamerica', 'thanks'], tags=['222']),\n",
       " TaggedDocument(words=['virginamerica', 'thanks', 'taking', 'care', 'suuperg', 'flight', 'rockstars', 'travel'], tags=['223']),\n",
       " TaggedDocument(words=['virginamerica', 'thanks', 'lovely', 'soft', 'views', 'travel', 'san', 'sfo', 'http', 'co', 'cnctl7g1ef'], tags=['224']),\n",
       " TaggedDocument(words=['virginamerica', 'requested', 'mileage', 'challenge', 'status', 'several', 'weeks', 'ago', 'online', 'heard', 'back', 'get', 'help'], tags=['225']),\n",
       " TaggedDocument(words=['virginamerica', 'trying', 'book', 'tickets', 'nyc', 'facing', 'super', 'fun', 'broken', 'styling', 'worry', 'keep', 'trying'], tags=['226']),\n",
       " TaggedDocument(words=['virginamerica', 'applied', 'status', 'match', 'feb', '1', 'got', 'confirmation', 'email', 'day', 'still', 'news', 'though', 'guys', 'dropped', 'ball', 'late', 'flightly'], tags=['227']),\n",
       " TaggedDocument(words=['virginamerica', 'adore', 'looking', 'forward', 'flight', 'austin', 'two', 'weeks'], tags=['228']),\n",
       " TaggedDocument(words=['virginamerica', 'glad', 'mentioned', 'took', 'first', 'virgin', 'flight', 'years', 'back', 'transformative', 'experience'], tags=['229']),\n",
       " TaggedDocument(words=['virginamerica', 'trying', 'check', 'looks', 'like', 'site'], tags=['230']),\n",
       " TaggedDocument(words=['virginamerica', 'spending', 'birthday', 'night', 'dal', 'dca', 'get', 'home'], tags=['231']),\n",
       " TaggedDocument(words=['virginamerica', 'sent', 'couple', 'messages', 'email', 'provided', 'avail', 'try', 'next', 'year', 'cheers'], tags=['232']),\n",
       " TaggedDocument(words=['virginamerica', 'first', 'time', 'flying', 'virgin', 'went', 'sanfrancisco', 'thanks', 'smooth', 'ride', 'easily', 'new', 'fav', 'airline'], tags=['233']),\n",
       " TaggedDocument(words=['virginamerica', 'seriously', 'though', 'direct', 'flights', 'sfo', 'fll', 'may'], tags=['234']),\n",
       " TaggedDocument(words=['virginamerica', 'fine', 'already', 'done', 'purchase', 'try', 'go', 'way', 'go', 'back', '3'], tags=['235']),\n",
       " TaggedDocument(words=['virginamerica', 'really', 'experience', 'hoping', '4', 'ws', 'forced', '2', 'check', 'small', 'carry', 'w', 'nothing', 'empty', 'cabin', 'space', 'board'], tags=['236']),\n",
       " TaggedDocument(words=['virginamerica', 'wjere', 'luggage', 'slow', 'lax'], tags=['237']),\n",
       " TaggedDocument(words=['virginamerica', 'spoke', 'representative', 'offered', 'solution', 'loyal', 'customer', 'flies', 'virginatlantic', 'well'], tags=['238']),\n",
       " TaggedDocument(words=['virginamerica', 'deeply', 'disappointed', 'birthday', 'promo', 'applied', 'trip', 'booked', 'mere', 'days', 'received', 'email'], tags=['239']),\n",
       " TaggedDocument(words=['virginamerica', 'happened', 'direct', 'flights', 'sfo', 'fll', 'looking', 'may', 'see', 'connecting', 'help', 'dontdothistome'], tags=['240']),\n",
       " TaggedDocument(words=['virginamerica', 'promoting', 'product', 'problem', 'southwest', 'recommend', 'noneother', 'best', 'http', 'co', 'tfanxbh1cf'], tags=['241']),\n",
       " TaggedDocument(words=['virginamerica', 'love', 'guys', 'pls', 'get', 'direct', 'routes', 'las', 'aus'], tags=['242']),\n",
       " TaggedDocument(words=['virginamerica', 'course', 'work', 'virginatlantic', 'obsessed', 'entire', 'virgin', 'family'], tags=['243']),\n",
       " TaggedDocument(words=['virginamerica', 'ok', 'first', 'time', 'flying', 'tonight'], tags=['244']),\n",
       " TaggedDocument(words=['virginamerica', '2d', '3d', 'embossed', 'badges', 'patches', 'superior', 'ones', 'currently', 'using', 'http', 'co', '3fq3xelbon'], tags=['245']),\n",
       " TaggedDocument(words=['virginamerica', 'vx399', 'jfk', 'la', 'dirty', 'plane', 'standards'], tags=['246']),\n",
       " TaggedDocument(words=['virginamerica', 'flight', 'vx399', 'headed', 'la', 'jfk', 'dirtiest', 'va', 'plane', 'ever', 'sad', 'great', 'airline'], tags=['247']),\n",
       " TaggedDocument(words=['virginamerica', 'got', 'squared', 'away', 'someone', 'picked', 'soon', 'tweeted', 'tweeted', 'sooner'], tags=['248']),\n",
       " TaggedDocument(words=['virginamerica', 'avis', 'rental', 'continue', 'button', 'work', 'website', 'book', 'car', 'tried', '4', 'times', 'phone', 'sucks'], tags=['249']),\n",
       " TaggedDocument(words=['virginamerica', 'delayed', 'to10', '30'], tags=['250']),\n",
       " TaggedDocument(words=['virginamerica', 'currently', 'minute', '10', 'hold', 'cust', 'service', 'need', 'anything', 'add', 'lap', 'child', 'reservation'], tags=['251']),\n",
       " TaggedDocument(words=['virginamerica', 'karinslee', 'course', 'fun', 'celebrating', 'thanks', 'happy', 'chinese', 'new', 'year'], tags=['252']),\n",
       " TaggedDocument(words=['virginamerica', 'flight', 'booking', 'problems', 'last', 'second', 'flight', 'next', 'week', 'sfo', 'san', 'chance', 'want', 'gift', 'promo', 'code', 'since', 'love', 'guys'], tags=['253']),\n",
       " TaggedDocument(words=['virginamerica', 'comenity', 'bank', 'joke', 'please', 'change', 'nothing', 'constant', 'problems', 'bank'], tags=['254']),\n",
       " TaggedDocument(words=['virginamerica', 'grandma', 'ella', '80th', 'would', 'lt', '3', 'bday', 'greeting', 'flight', 'crew', 'stewardess', 'eastern', 'airlines'], tags=['255']),\n",
       " TaggedDocument(words=['virginamerica', 'bought', 'tix', 'atx', 'dallas', 'route', 'thanks', 'adding', 'love', 'yr', 'airline', 'amp', 'yr', 'website', 'best', 'transactional', 'site', 'ever'], tags=['256']),\n",
       " TaggedDocument(words=['virginamerica', 'gave', 'credit', 'late', 'flight', 'flight', 'yesterday', 'great', 'service', 'wow', 'moment', 'unexpected', 'gesture'], tags=['257']),\n",
       " TaggedDocument(words=['virginamerica', 'submitted', 'status', 'match', 'request', 'back', 'still', 'heard', 'flying', 'monday', 'look', 'accelerate'], tags=['258']),\n",
       " TaggedDocument(words=['virginamerica', 'safety', 'video', 'http', 'co', 'cqmm7nue9m', 'loved', 'first', 'cross', 'country', 'flight', 'livewelltraveled', 'sytycd'], tags=['259']),\n",
       " TaggedDocument(words=['virginamerica', 'look', 'fat', 'looks', 'yummy'], tags=['260']),\n",
       " TaggedDocument(words=['virginamerica', 'omg', 'omg', 'nonstop', 'dallas', 'austin', 'virgin'], tags=['261']),\n",
       " TaggedDocument(words=['virginamerica', 'planes', 'really', 'pretty', 'thought', 'u', 'know'], tags=['262']),\n",
       " TaggedDocument(words=['virginamerica', 'pulling', 'hair', 'trying', 'book', 'flight', 'u', 'site', 'work', 'iphone', 'ipad', 'computer', 'help'], tags=['263']),\n",
       " TaggedDocument(words=['virginamerica', 'thank'], tags=['264']),\n",
       " TaggedDocument(words=['virginamerica', 'get', 'help', 'support', 'ticket', '15', 'days', 'incident', '150202', '000419', 'thank'], tags=['265']),\n",
       " TaggedDocument(words=['virginamerica', 'good', 'home', 'texas', 'moodlighting', 'http', 'co', 'n3bvzty3zi'], tags=['266']),\n",
       " TaggedDocument(words=['virginamerica', 'can', 'not', 'even', 'open', 'laptop', 'seat', '4c', 'paid', 'premium', 'let'], tags=['267']),\n",
       " TaggedDocument(words=['virginamerica', 'seat', '4c', 'can', 'not', 'even', 'open', 'laptop', 'paid', 'extra', 'seat'], tags=['268']),\n",
       " TaggedDocument(words=['virginamerica', 'thanks', 'needing', 'way', 'make', 'austin', 'trips', 'dca', 'come'], tags=['269']),\n",
       " TaggedDocument(words=['virginamerica', 'cool', 'never', 'ur', 'planes'], tags=['270']),\n",
       " TaggedDocument(words=['virginamerica', 'great', 'well', 'deserved'], tags=['271']),\n",
       " TaggedDocument(words=['virginamerica', 'fyi', 'info', 'virginamerica', 'com', 'email', 'address', 'say', 'contact', 'password', 'reset', 'emails', 'exist', 'emails', 'bounce'], tags=['272']),\n",
       " TaggedDocument(words=['virginamerica', 'status', 'match', '2', 'weeks', 'gone', 'news', 'flt', 'next', 'week', 'hope', 'flt', 'count', 'towards', 'requirement', 'cust', 'svc', 'help'], tags=['273']),\n",
       " TaggedDocument(words=['virginamerica', 'website', 'sucks', 'donkey', 'dicks', 'thought', 'know', 'best'], tags=['274']),\n",
       " TaggedDocument(words=['virginamerica', 'crap', 'channels', 'pay', 'watch', 'uk', 'tv'], tags=['275']),\n",
       " TaggedDocument(words=['virginamerica', 'got', 'set', 'thanks'], tags=['276']),\n",
       " TaggedDocument(words=['virginamerica', 'giants', 'virgin', 'america', 'match', 'made', 'heaven'], tags=['277']),\n",
       " TaggedDocument(words=['virginamerica', 'thank', 'goodness', 'also', 'see', 'friday', 'nwk', 'gt', 'sf', 'boom'], tags=['278']),\n",
       " TaggedDocument(words=['virginamerica', 'come', 'iphone', 'app', 'still', 'using', 'making', 'waste', 'paper'], tags=['279']),\n",
       " TaggedDocument(words=['virginamerica', 'back', 'seat', 'entertainment', 'system', 'accept', 'credit', 'cards', 'apostrophe', 'surname', 'apostrophefail'], tags=['280']),\n",
       " TaggedDocument(words=['virginamerica', 'vx', 'use', '6', 'lga', 'slots', 'instead', '4', 'today', 'adding', 'aus', 'makes', 'less', 'likely'], tags=['281']),\n",
       " TaggedDocument(words=['virginamerica', 'luv', 'ur', 'people', 'product', '1', 'thing', 'u', 'charge', 'herbal', 'tea', 'black', 'tea', 'caffeine', 'drinker'], tags=['282']),\n",
       " TaggedDocument(words=['virginamerica', 'thank', 'see', 'soon', 'excited', 'see', 'expansion', 'destinations', 'spread', 'wings'], tags=['283']),\n",
       " TaggedDocument(words=['virginamerica', 'sad', 'learn', 'longer', 'fly', 'sfo', 'gt', 'phl', 'hope', 'returns'], tags=['284']),\n",
       " TaggedDocument(words=['virginamerica', 'incredible', 'customer', 'service', 'ever', 'experienced', 'refreshing'], tags=['285']),\n",
       " TaggedDocument(words=['virginamerica', 'dreaming', 'really', 'open', 'route', 'dallas', 'austin', 'mean', 'houston', 'might', 'next'], tags=['286']),\n",
       " TaggedDocument(words=['virginamerica', 'omg', 'finally'], tags=['287']),\n",
       " TaggedDocument(words=['virginamerica', 'kinda', 'sucked', 'earphone', 'jack', 'work', 'flight', 'may', 'want', 'look', 'future', 'passengers'], tags=['288']),\n",
       " TaggedDocument(words=['virginamerica', 'poor', 'experience', 'first', 'computer', 'problem', 'seat', 'malfunction', 'stuck', 'missing', 'meeting', 'san', 'diego'], tags=['289']),\n",
       " TaggedDocument(words=['virginamerica', 'thankyou', 'dal', 'aus', 'route', 'makes', 'day'], tags=['290']),\n",
       " TaggedDocument(words=['virginamerica', 'awesome', 'deals', 'dal', 'aus', '39', 'way', 'https', 'co', 'xcvqxykg49'], tags=['291']),\n",
       " TaggedDocument(words=['virginamerica', 'love', 'taking', 'southwestair', 'backyard', 'consumers', 'win', 'biz', 'competes'], tags=['292']),\n",
       " TaggedDocument(words=['virginamerica', 'flying', 'love', 'austin', 'excellent', 'news'], tags=['293']),\n",
       " TaggedDocument(words=['virginamerica', 'congrats', 'vx', 'new', 'route'], tags=['294']),\n",
       " TaggedDocument(words=['virginamerica', 'tried', 'offered', 'charge', 'additional', '1k', 'new', 'ticket', 'stranded', 'thurs', '1st', 'time', 'last', 'time'], tags=['295']),\n",
       " TaggedDocument(words=['virginamerica', 'never', 'bad', 'experience', 'one', 'took', 'cake', 'extortion', 'carry', 'items', 'well'], tags=['296']),\n",
       " TaggedDocument(words=['virginamerica', 'spend', '5', 'hours', 'worrying', 'items', 'carryon', 'would', 'broken', 'stolen', 'since', 'carry', 'plane', 'lock', 'bag'], tags=['297']),\n",
       " TaggedDocument(words=['virginamerica', 'group', 'e', 'told', 'room', 'bins', 'got', 'plane', 'room', 'least', '4', 'bags', 'row'], tags=['298']),\n",
       " TaggedDocument(words=['virginamerica', 'thanks', 'making', 'flight', 'lax', 'jfk', 'nightmare', 'forcing', 'check', 'carry', 'bag', 'gate', '1'], tags=['299']),\n",
       " TaggedDocument(words=['virginamerica', 'lots', 'flights', 'book', 'site', 'working', 'phone', 'waiting', '10', 'minutes'], tags=['300']),\n",
       " TaggedDocument(words=['virginamerica', 'flight', 'artisanal', 'cheese', 'wine', 'pairing'], tags=['301']),\n",
       " TaggedDocument(words=['virginamerica', 'classy'], tags=['302']),\n",
       " TaggedDocument(words=['virginamerica', 'sure', 'lot', '747', '777', 'jfk', 'lhr', 'flights', 'go', 'lot', 'faster', '513mph', 'strong', 'tailwind'], tags=['303']),\n",
       " TaggedDocument(words=['virginamerica', 'minus', '32', 'minutes', 'elevate', 'silver', 'upgrade', 'window', 'opens', 'freeneversucks'], tags=['304']),\n",
       " TaggedDocument(words=['virginamerica', 'taking', '12', 'years', 'fly', 'home', 'dallas', 'get', 'shit', 'together'], tags=['305']),\n",
       " TaggedDocument(words=['virginamerica', 'jezziegoldz', 'would', 'rough', 'trip', 'luckily', 'virginamerica', 'flight', 'weather'], tags=['306']),\n",
       " TaggedDocument(words=['virginamerica', 'another', 'perfect', 'flight', 'come', 'planes', 'sun', 'visors', 'stay', 'carriers', 'make', 'raise'], tags=['307']),\n",
       " TaggedDocument(words=['nice', 'rt', 'virginamerica', 'man', 'steel', 'might', 'faster', 'wifi', 'saying', 'sciencebehindtheexperience', 'http', 'co', 'fgrbpazsix'], tags=['308']),\n",
       " TaggedDocument(words=['virginamerica', 'love', 'dancing', 'little', 'richard', 'cool', 'beans'], tags=['309']),\n",
       " TaggedDocument(words=['virginamerica', 'use', 'passbook', 'still', 'love', 'though', 'lt', '3', 'use', 'email', 'future'], tags=['310']),\n",
       " TaggedDocument(words=['virginamerica', 'thanks', 'free', 'birthday', 'points', 'right'], tags=['311']),\n",
       " TaggedDocument(words=['virginamerica', 'man', 'steel', 'flies', 'cities', 'though', 'frequency'], tags=['312']),\n",
       " TaggedDocument(words=['virginamerica', 'thanks', 'much', 'sharing', 'added', 'site', 'http', 'co', 'tsvibtvt8h'], tags=['313']),\n",
       " TaggedDocument(words=['virginamerica', 'dad', 'segway', 'best', 'part', 'whole', 'infographic'], tags=['314']),\n",
       " TaggedDocument(words=['virginamerica', 'plans', 'short', 'haul', 'airline', 'europe', 'would', 'defiantly', 'fly', 'guys'], tags=['315']),\n",
       " TaggedDocument(words=['virginamerica', 'wifi', 'better', 'seating'], tags=['316']),\n",
       " TaggedDocument(words=['virginamerica', 'started', 'flight', 'scolding', 'using', 'overhead', 'bin', 'offered', 'person', 'seated', 'next'], tags=['317']),\n",
       " TaggedDocument(words=['virginamerica', 'great', 'return', 'calls', 'day', 'ask', 'myvxexperience'], tags=['318']),\n",
       " TaggedDocument(words=['virginamerica', 'airlines', 'cancelled', 'flighting', 'flights', 'bos', 'helping', 'customers', 'get', 'home', 'virgin', 'saying', 'good', 'luck'], tags=['319']),\n",
       " TaggedDocument(words=['virginamerica', 'grouping', 'virgin', 'others', 'bos', 'weather', 'exposed', 'actual', 'cus', 'serv', 'model', 'never', 'flight', 'booking', 'problems', 'virgin'], tags=['320']),\n",
       " TaggedDocument(words=['virginamerica', 'one', 'travelers', 'affected', 'boston', 'storm', 'shocked', 'virgin', 'complete', 'apathy', 'toward', 'customers'], tags=['321']),\n",
       " TaggedDocument(words=['virginamerica', 'umm', 'reason', 'someone', 'different', 'contact', 'contact', 'get', 'definitive', 'answer'], tags=['322']),\n",
       " TaggedDocument(words=['virginamerica', 'trying', 'make', 'change', 'advance', '24', 'hours', 'prior', 'tried', 'online', 'earlier', 'wanted', '300', 'change', 'fees'], tags=['323']),\n",
       " TaggedDocument(words=['virginamerica', 'loyal', 'driving', 'nyc', 'pa', 'fly', 'virgin', 'since', 'cut', 'philly', 'flights'], tags=['324']),\n",
       " TaggedDocument(words=['virginamerica', 'guys', 'perfect', 'always', 'lt', '3', 'wervirgin'], tags=['325']),\n",
       " TaggedDocument(words=['virginamerica', 'thanks', 'best', 'customer', 'service', 'left', 'industry'], tags=['326']),\n",
       " TaggedDocument(words=['virginamerica', 'really', 'wish', 'fly', 'fargo', 'fargoairport', 'fares', 'amazings'], tags=['327']),\n",
       " TaggedDocument(words=['virginamerica', 'mood', 'lighting', 'point', 'reclining', 'seat', 'kickin', 'feet'], tags=['328']),\n",
       " TaggedDocument(words=['virginamerica', 'flight', '6000', 'scheduled', '1pm', 'departure', 'still', 'says', 'time', 'plane', 'gate', 'update', 'long', 'delay'], tags=['329']),\n",
       " TaggedDocument(words=['virginamerica', 'group', 'got', 'cancelled', 'flightlation', 'fees', 'waived', 'ticket', 'booked', '2', '18', 'reps', 'help', 'either'], tags=['330']),\n",
       " TaggedDocument(words=['virginamerica', 'got', '1pm', 'newark', 'home', 'la', 'folks', 'ewr', 'incredible', 'letsgohome'], tags=['331']),\n",
       " TaggedDocument(words=['virginamerica', 'flying', 'lax', 'sfo', 'looking', 'awesome', 'movie', 'lineup', 'actually', 'wish', 'long', 'haul'], tags=['332']),\n",
       " TaggedDocument(words=['united', 'thanks'], tags=['333']),\n",
       " TaggedDocument(words=['united', 'thanks', 'taking', 'care', 'mr', 'happy', 'customer'], tags=['334']),\n",
       " TaggedDocument(words=['united', 'still', 'refund', 'word', 'via', 'dm', 'please', 'resolve', 'issue', 'cancelled', 'flightled', 'flight', 'useless', 'assistant', 'trip'], tags=['335']),\n",
       " TaggedDocument(words=['united', 'delayed', 'due', 'lack', 'crew', 'delayed', 'long', 'line', 'deicing', 'still', 'need', 'improve', 'service', 'united'], tags=['336']),\n",
       " TaggedDocument(words=['united', 'thanks', 'filled', 'luck', 'common'], tags=['337']),\n",
       " TaggedDocument(words=['united', 'eri', 'ord', 'express', 'connections', 'hugely', 'popular', 'could', 'eri', 'ewr', 'hop'], tags=['338']),\n",
       " TaggedDocument(words=['united', 'think', 'boarded', 'flight', 'au1066', 'early', 'think'], tags=['339']),\n",
       " TaggedDocument(words=['united', 'gate', 'agent', 'hooked', 'alternate', 'flights', 'way', 'prevent', 'constant', 'issues', 'would', 'rock'], tags=['340']),\n",
       " TaggedDocument(words=['united', 'thanks'], tags=['341']),\n",
       " TaggedDocument(words=['united', 'thanks', 'ticket'], tags=['342']),\n",
       " TaggedDocument(words=['united', 'worst', 'nonrefundable', 'first', 'class', 'tickets', 'oh', 'select', 'global', 'fc', 'system', 'auto', 'selects', 'economy', 'w', 'upgrade'], tags=['343']),\n",
       " TaggedDocument(words=['united', 'cheertymedad', 'buy', 'tix', '3', 'days', 'flight', 'transfer', 'tix', 'flawed', 'security', 'logic', 'flawed', 'customer', 'service'], tags=['344']),\n",
       " TaggedDocument(words=['united', 'start', 'claim', '8', '10', 'weeks', 'unrealistic', 'really', 'supposed', 'go', 'long', 'car', 'seat', 'child', 'ridiculous'], tags=['345']),\n",
       " TaggedDocument(words=['united', 'follow', 'please', 'airline', 'beautifull'], tags=['346']),\n",
       " TaggedDocument(words=['united', 'car', 'seat', 'lost', 'united', 'reimburse', 'new', 'one', 'pair', 'shoes', 'necessity', 'child'], tags=['347']),\n",
       " TaggedDocument(words=['united', 'highbuddyyy', 'totally', 'sucks', 'cousin', 'worked', 'phl', 'said', 'united'], tags=['348']),\n",
       " TaggedDocument(words=['united', 'wanted', 'let', 'know', 'wonderful', 'rosetta', 'gate', 'agent', 'working', 'flight', '6457', 'dan', 'ase', 'let', 'know', 'wasappreciated'], tags=['349']),\n",
       " TaggedDocument(words=['united', 'beginning', 'feb', 'called', 'united', 'said', 'would', 'send', 'another', 'voucher', 'mail', 'never', 'got', 'anything', 'tiredofwaiting'], tags=['350']),\n",
       " TaggedDocument(words=['united', 'internet', 'great', 'thing', 'emailing', 'executives', 'company', 'maybe', 'respond', 'timely', 'manner'], tags=['351']),\n",
       " TaggedDocument(words=['united', 'thats', 'weak', 'see', 'ya', 'hey', 'virginamerica'], tags=['352']),\n",
       " TaggedDocument(words=['united', 'flew', 'back', 'w', 'company', 'since', 'united', 'didnt', 'earlier', 'flight'], tags=['353']),\n",
       " TaggedDocument(words=['united', 'trying', 'book', 'awards', 'september', 'need', 'flights', 'aegeanairlines', 'show', 'even', 'w', 'many', 'award', 'seats', 'availab'], tags=['354']),\n",
       " TaggedDocument(words=['united', 'sure', 'drive', 'total', '3', 'hours', 'get', 'bag', 'like', 'explain', 'debacle', 'one', 'wants', 'talk'], tags=['355']),\n",
       " TaggedDocument(words=['united', 'see', 'told', 'repeatedly', 'pilot', 'late', 'flight', 'kept', 'getting', 'late', 'flightr', 'boarded', 'defibrillator', 'issue'], tags=['356']),\n",
       " TaggedDocument(words=['united', 'preferred', 'security', 'line', 'anymore', 'tsa', 'pre', 'check', 'pull', 'silverairways', 'partner', 'flight', 'platinum', 'spoiled'], tags=['357']),\n",
       " TaggedDocument(words=['united', 'newarkliberty', 'airport', 'need', 'indicate', 'different', 'gate', 'terminals', 'amp', 'c', 'flyingainteasy'], tags=['358']),\n",
       " TaggedDocument(words=['united', 'yes', 'please', 'newly', 'married', 'trying', 'update', 'last', 'name', 'preexisting', 'international', 'flight', 'seems', 'easy'], tags=['359']),\n",
       " TaggedDocument(words=['united', 'united', 'refuse', 'reissue', '400', 'lost', 'voucher', 'plane', 'take', 'due', 'mechanics', 'badcustomerservice'], tags=['360']),\n",
       " TaggedDocument(words=['united', 'also', 'run', 'instructed', 'shattered', 'computer', 'http', 'co', 'oaflfr7wxb'], tags=['361']),\n",
       " TaggedDocument(words=['united', 'yes', 'agents', 'last', '50', 'minutes', 'one', 'agents', 'rude', 'thankfully', 'ladan', 'nice'], tags=['362']),\n",
       " TaggedDocument(words=['united', 'iah', 'charlotte', 'baggage', 'claim', 'rep', 'latrice', 'h', 'customerservice', 'non', 'existent', 'ignored', 'customer', 'inappropriately', 'touched', 'customer'], tags=['363']),\n",
       " TaggedDocument(words=['united', 'thanks', 'help', 'got', 'need', 'issue', 'austrian', 'guess', 'sit', 'awhile', 'longer'], tags=['364']),\n",
       " TaggedDocument(words=['united', 'uctraveladvisor', 'would', 'loved', 'respond', 'website', 'saw', 'really', 'long', 'form', 'business', 'new', 'seats', 'bad'], tags=['365']),\n",
       " TaggedDocument(words=['united', 'refund', 'flight', 'vouchers', 'another', 'flight', 'different', 'airline', 'expense', 'today', '8', 'hour', 'drive', 'inconvenient'], tags=['366']),\n",
       " TaggedDocument(words=['united', 'received', 'call', 'back', '3', 'days', 'infant', 'car', 'seat', 'supposed', 'go', 'anywhere', 'child'], tags=['367']),\n",
       " TaggedDocument(words=['united', 'well', 'sitting', 'ground', 'time', 'waiting', 'gate', 'tiredofthis'], tags=['368']),\n",
       " TaggedDocument(words=['united', 'airport', 'snow', 'removal', 'method', '22', 'keep', 'good', 'work', 'folks', 'cessna', 'become', '747', 'http', 'co', '9v8tmusjvu'], tags=['369']),\n",
       " TaggedDocument(words=['united', 'need', 'guys', 'book', 'planes', 'concern', 'travel', 'someone', 'else', 'moving', 'forward'], tags=['370']),\n",
       " TaggedDocument(words=['united', 'measly', '50', 'e', 'certificate', 'appreciate', 'loyal', 'customers', 'wait', '3hrs', 'tarmac', 'ua1116', 'unacceptable'], tags=['371']),\n",
       " TaggedDocument(words=['united', 'email', 'address', 'username', 'sign', 'available'], tags=['372']),\n",
       " TaggedDocument(words=['united', 'thank', 'able', 'claim', 'interim', 'expenses', 'cost', 'stuff'], tags=['373']),\n",
       " TaggedDocument(words=['united', 'rude', 'rude'], tags=['374']),\n",
       " TaggedDocument(words=['united', 'get', 'boarding', 'pass', 'austrian', 'airlines', 'codeshare', 'flight', 'rebook', 'incls', '6', 'hour', 'layover', 'amp', 'stuck', 'outside', 'sec'], tags=['375']),\n",
       " TaggedDocument(words=['united', 'received', 'flights', 'united', 'truly', 'breaks', 'guitars', 'unitedbreaksguitars', 'wantmymoneyback'], tags=['376']),\n",
       " TaggedDocument(words=['united', 'flew', 'telaviv', 'paid', '100', 'third', 'suitcase', 'even', 'make', 'plane', 'besides', 'impolite', 'service'], tags=['377']),\n",
       " TaggedDocument(words=['united', 'bag', 'still', 'colo', 'springs', 'disabled', 'search', 'unfamiliar', 'airport', 'look', 'bag', 'good', 'outcome'], tags=['378']),\n",
       " TaggedDocument(words=['united', 'shame', 'flex', 'tickets', 'transfer', 'rules', 'even', 'calling', 'neurosurgery', 'icu', 'enough'], tags=['379']),\n",
       " TaggedDocument(words=['united', 'denver', 'said', 'handle', 'baggage', 'made', 'colo', 'springs', 'gave', '800', 'number', 'call', 'help', 'either'], tags=['380']),\n",
       " TaggedDocument(words=['united', 'guys', 'need', 'serious', 'training', 'customer', 'service', 'many', 'better', 'options', 'put', 'way', 'guys', 'handle', 'ur', 'mistakes'], tags=['381']),\n",
       " TaggedDocument(words=['united', 'found', 'problem', 'avoided', 'like', 'plague', 'told', 'find', 'supervisor'], tags=['382']),\n",
       " TaggedDocument(words=['united', 'zcc82u', 'cancelled', 'flight', 'flight', '16h', 'advance', 'need', 'connect', 'flight', 'reschedule', 'link', 'helping', 'help', 'gf', 'waited', 'months', 'see'], tags=['383']),\n",
       " TaggedDocument(words=['united', 'flying'], tags=['384']),\n",
       " TaggedDocument(words=['united', 'addition', 'first', 'flight', 'delayed', 'hour', 'arriving', 'destination', '8', 'hrs', 'late', 'flight'], tags=['385']),\n",
       " TaggedDocument(words=['united', 'flew', 'united', 'last', 'month', 'experience', 'awesome'], tags=['386']),\n",
       " TaggedDocument(words=['united', 'travel', 'booked', 'thru', 'united', 'group', 'dept', 'okc', 'ticket', 'agent', 'less', 'willing', 'help', 'connection', 'lax'], tags=['387']),\n",
       " TaggedDocument(words=['united', 'v', 'upset', 'disability', 'services', 'told', 'one', 'employees', 'carrying', 'medical', 'equipment', 'rude'], tags=['388']),\n",
       " TaggedDocument(words=['united', 'thnx', 'quick', 'reply', 'think', 'assist', 'intl', 'grp', 'put', 'considerable', 'inconvenience', 'today'], tags=['389']),\n",
       " TaggedDocument(words=['united', 'wont', 'transfer', 'flight', 'ticket', 'accompany', '11', 'yr', 'old', 'active', 'military', 'mom', 'emergency', 'brain', 'surgery', 'wow'], tags=['390']),\n",
       " TaggedDocument(words=['united', 'getmeontop', '7', 'weeks', 'late', 'flightr', 'still', 'received', 'miles', 'mileageplus', 'gift', 'card', '150', 'starbucks', 'card', 'handed'], tags=['391']),\n",
       " TaggedDocument(words=['united', '1k', 'always', 'hoping', 'improvement'], tags=['392']),\n",
       " TaggedDocument(words=['united', 'yet', 'complained', 'guy', 'checked', 'luggage', 'throwing', 'bags', 'around', 'unfortunate', 'coincidence', 'hope'], tags=['393']),\n",
       " TaggedDocument(words=['united', 'okc', 'ticket', 'agent', 'roger', 'mclarren', 'sp', 'less', 'helpful', 'intl', 'group', 'travel', 'problems', 'find', 'supervisor', 'help'], tags=['394']),\n",
       " TaggedDocument(words=['united', 'mobile', 'apps', 'need', 'construction', 'ground', 'os', 'category', 'expensive', 'get', 'right'], tags=['395']),\n",
       " TaggedDocument(words=['united', 'another', 'fail', 'united', 'ticket', 'agents', 'okc', 'less', 'helpful', 'could', 'care', 'less', 'problems', 'american', 'come'], tags=['396']),\n",
       " TaggedDocument(words=['united', '441', 'also', '1', 'working', 'wc', 'coach', 'good', 'thing', 'bird', 'landed', 'ahead', 'schedule', 'use', 'wc', 'stat'], tags=['397']),\n",
       " TaggedDocument(words=['united', 'sent', 'email', 'customer', 'care', 'telling', 'may', 'break', 'sincerely', 'hope', 'help'], tags=['398']),\n",
       " TaggedDocument(words=['united', 'silly', 'flying', 'delta', 'today', 'united', 'club', 'staff', 'attendants', 'surly', 'unhelpful', 'always', 'seem', 'bothered', 'pesky', 'folk'], tags=['399']),\n",
       " TaggedDocument(words=['united', 'phone', 'number', 'find', 'call', 'flight', 'reservation'], tags=['400']),\n",
       " TaggedDocument(words=['united', 'well', 'fix', 'missing', 'buddies', '30th', 'bday', 'negligence', 'attempt', 'make'], tags=['401']),\n",
       " TaggedDocument(words=['united', 'believe', 'help', 'customer', 'service', 'like', 'said', 'want', 'number', 'someone', 'fix'], tags=['402']),\n",
       " TaggedDocument(words=['united', 'helped', 'baggage', 'service', 'desk', 'said', 'bc', 'tsa', 'screening', 'fll', 'bags', 'made', 'bag', 'ewr', '12'], tags=['403']),\n",
       " TaggedDocument(words=['united', 'mobile', 'boarding', 'pass', 'disappeared', 'phone', 'standing', 'line', 'board', 'second', 'time', 'week', 'hmm'], tags=['404']),\n",
       " TaggedDocument(words=['united', 'record', 'rozana', 'newark', 'lovely', 'helpful', 'choosekind'], tags=['405']),\n",
       " TaggedDocument(words=['united', 'thx', 'update'], tags=['406']),\n",
       " TaggedDocument(words=['united', 'explain', 'eager', 'flight', 'attendant', 'trying', 'ask', 'vision', 'ccicanine', 'guide', 'dog'], tags=['407']),\n",
       " TaggedDocument(words=['united', 'point', 'asking', 'details', 'servicedog', 'book', 'flight', 'crew', 'read', 'continued'], tags=['408']),\n",
       " TaggedDocument(words=['united', 'tried', 'one', 'available', 'bogota', 'everyone', 'rude', 'houston', 'stuck', '35', 'hours', 'guys'], tags=['409']),\n",
       " TaggedDocument(words=['united', 'worst2unitedflightsever', 'ua', '236', 'las', 'iad', '2', '24', 'mechanical', 'problems', 'took', 'land', 'fix', 'delayed', 'wtfodds'], tags=['410']),\n",
       " TaggedDocument(words=['united', 'despite', 'bag', 'making', 'newark', 'good', 'informative', 'email', 'tracking', 'updates', 'help'], tags=['411']),\n",
       " TaggedDocument(words=['united', 'going', 'ua', '236', 'outbound', 'flight', 'last', 'thurs', 'delayed', '4hrs', 'long', 'delay', 'worst2unitedflightsever'], tags=['412']),\n",
       " TaggedDocument(words=['united', 'worst2unitedflightsever', 'ua1429', 'iad', 'las', '2', '19', 'mechanical', 'problems', 'switched', 'aircraft', 'delayed', '3', '5', 'hours'], tags=['413']),\n",
       " TaggedDocument(words=['united', 'crashed', 'trying', 'check'], tags=['414']),\n",
       " TaggedDocument(words=['united', 'wow', 'deal', '30', 'plus', 'seats', 'available', 'easy', 'change', 'make', 'customer', 'happy'], tags=['415']),\n",
       " TaggedDocument(words=['united', '768', 'logan', 'boarding', 'gong', 'show', 'due', 'lax', 'carry', 'enforcement', 'bins', 'full', 'coats', 'room', 'bags', 'u', 'need', 'better', 'system'], tags=['416']),\n",
       " TaggedDocument(words=['united', 'blackmailed', 'paying', '130', 'extra', 'return', 'ticket', 'nullified', 'san', 'francisco', 'airport', 'terrible', 'service', 'rep', 'scam'], tags=['417']),\n",
       " TaggedDocument(words=['united', 'disappointed', 'u', 'didnt', 'honor', '100', 'credit', 'given', 'ur', 'mistakes', 'taking', 'business', 'elsewhere'], tags=['418']),\n",
       " TaggedDocument(words=['united', 'ua1673', 'still', 'waiting', 'supposed', 'depart', '9', '08'], tags=['419']),\n",
       " TaggedDocument(words=['united', 'credit', 'last', 'trip', 'never', 'came', 'mail'], tags=['420']),\n",
       " TaggedDocument(words=['united', 'ok', '7', 'months', 'waiting', 'hear', 'airline', 'gave', 'quite', 'bit', '30', 'days', 'requested', 'terrible', 'service'], tags=['421']),\n",
       " TaggedDocument(words=['united', 'process', 'ever', 'end', 'still', 'waiting', 'reply', 'since', '2', 'months', 'pathetic', 'customerservice'], tags=['422']),\n",
       " TaggedDocument(words=['united', 'going', 'website', 'flight', 'booking', 'problems', 'three', 'tickets', 'today', 'booted', 'system', 'umpteen', 'times'], tags=['423']),\n",
       " TaggedDocument(words=['united', 'get', 'account', 'number', 'website', 'says', 'email', 'unavailable'], tags=['424']),\n",
       " TaggedDocument(words=['united', 'received', '1', 'bag', 'last', 'night', 'still', 'missing', 'one'], tags=['425']),\n",
       " TaggedDocument(words=['united', 'simonroesner', 'need', 'upgrade', 'seats', 'even', 'economy', 'plus', 'like', 'sitting', 'concrete', 'bench'], tags=['426']),\n",
       " TaggedDocument(words=['united', '2nd', 'flight', 'also', 'delayed', 'pilots', 'boarded', 'sit', 'scheduling'], tags=['427']),\n",
       " TaggedDocument(words=['united', 'hard', 'stay', 'upset', 'someone', 'least', 'try', 'show', 'remorse'], tags=['428']),\n",
       " TaggedDocument(words=['united', 'way', 'simple', 'apology', 'goes', 'long', 'way', 'even', 'hollow', 'one', 'obvious', 'care', 'well'], tags=['429']),\n",
       " TaggedDocument(words=['united', 'one', 'time', 'thing', 'either', 'shocking', 'pattern', 'repeated', 'neglect', 'disrespect'], tags=['430']),\n",
       " TaggedDocument(words=['united', 'fingers', 'crossed', 'amp', 'intact', 'disappointed', 'experience', 'actually', 'saying', 'enjoyed', 'using'], tags=['431']),\n",
       " TaggedDocument(words=['united', 'incredibly', 'easy', 'fix', 'would', 'rather', 'stay', 'comfort', 'zone', 'get', 'forced', 'mine'], tags=['432']),\n",
       " TaggedDocument(words=['united', 'july', 'zero', 'excuses', 'date', 'system', 'causes', 'problems', 'like'], tags=['433']),\n",
       " TaggedDocument(words=['united', 'everyone', 'around', 'us', 'sitting', 'friends', 'family', 'members', 'booked', 'tickets', 'october', 'december', 'bought'], tags=['434']),\n",
       " TaggedDocument(words=['united', 'sure', 'talking', 'going', 'nonstop', 'flights', 'sna', 'sfo', 'sfo', 'ewr'], tags=['435']),\n",
       " TaggedDocument(words=['united', 'moving', 'americanair', 'united', 'talk', 'service'], tags=['436']),\n",
       " TaggedDocument(words=['united', 'asked', 'legitimate', 'question', 'systemwide', 'vs', 'localized', 'problems', 'got', 'back', 'unrelate', 'flightd', 'copy', 'paste', 'better'], tags=['437']),\n",
       " TaggedDocument(words=['united', 'time', 'call', 'need', 'skis', 'go', 'airport', 'get', 'faith', 'united'], tags=['438']),\n",
       " TaggedDocument(words=['united', 'see', 'guys', 'amazing', 'one', 'company', 'continually', 'makes', 'mistakes', 'yet', 'fails', 'held', 'accountable', 'error'], tags=['439']),\n",
       " TaggedDocument(words=['united', 'yeah', 'sorry', 'always', 'problem', 'united', 'international', 'reputation', 'problems'], tags=['440']),\n",
       " TaggedDocument(words=['united', 'maybe', 'bbbne', 'sd', 'ks', 'ia', 'would', 'care', 'hear', 'went', 'whoever', 'listens', 'issues', 'caused'], tags=['441']),\n",
       " TaggedDocument(words=['united', 'wonder', 'sharing', 'fb', 'insta', 'would', 'produce', 'number', '140', 'characters', 'really', 'limits', 'story', 'telling'], tags=['442']),\n",
       " TaggedDocument(words=['united', 'telling', 'number', 'call', 'left', 'airport', 'negligent', 'pilot', 'staff'], tags=['443']),\n",
       " TaggedDocument(words=['united', 'could', 'email', 'resent', 'doesnt', 'appear', 'arrived'], tags=['444']),\n",
       " TaggedDocument(words=['united', 'follow', 'order', 'dm', 'come'], tags=['445']),\n",
       " TaggedDocument(words=['united', '25', 'united', 'coupon', 'make', 'broken', 'entertainment', 'system', '9', 'hour', 'flight', 'seriously', 'ridiculousness', 'learncustomerservice'], tags=['446']),\n",
       " TaggedDocument(words=['united', 'drop', 'bag', 'overnight', 'amp', 'leaving', 'week', 'supposed', 'hold', 'bag'], tags=['447']),\n",
       " TaggedDocument(words=['united', 'dm', 'details', 'still', 'response', 'book', 'today'], tags=['448']),\n",
       " TaggedDocument(words=['united', 'able', 'dm', 'confirmation', 'number'], tags=['449']),\n",
       " TaggedDocument(words=['united', 'sent', 'message', 'let', 'know', 'got', 'twitter', 'literate', 'also', 'really', 'going', 'stuck', '18hrs'], tags=['450']),\n",
       " TaggedDocument(words=['united', 'unhappy', 'response', 'complaint', 'emailed', '2nd', 'feb', 'ref', '8441639', 'awful', 'customer', 'service'], tags=['451']),\n",
       " TaggedDocument(words=['united', 'private', 'jet', 'would', 'cool', 'work', 'try'], tags=['452']),\n",
       " TaggedDocument(words=['united', 'given', 'option', 'using', 'united', 'travelbank', 'recent', 'flight', 'booking', 'problems', 'help', 'using', 'recouping', 'funds', 'thanks'], tags=['453']),\n",
       " TaggedDocument(words=['united', 'common', 'keep', 'paper', 'work', 'ready', 'delay', 'flights', '1585', 'meetings', 'choosechicago'], tags=['454']),\n",
       " TaggedDocument(words=['united', 'yep', 'correct', 'got', 'email', '12', '30', 'flight', 'cancelled', 'flightled', 'matter', 'flight', 'atl', 'delayed', 'thx'], tags=['455']),\n",
       " TaggedDocument(words=['united', '1k', 'problem', 'getting', 'fll', 'iah', 'sent', 'dm', 'making', 'connection', 'please', 'let', 'know'], tags=['456']),\n",
       " TaggedDocument(words=['united', 'thanks', 'sent'], tags=['457']),\n",
       " TaggedDocument(words=['united', 'grounded', 'montreal', 'ua3659', 'missing', 'connection', 'ua3417', 'st', 'louis', 'help', 'private', 'jet'], tags=['458']),\n",
       " TaggedDocument(words=['united', 'frustrated', 'nervous'], tags=['459']),\n",
       " TaggedDocument(words=['united', 'ones', 'make', 'difficult'], tags=['460']),\n",
       " TaggedDocument(words=['united', 'child', 'someone', 'issue', 'flying', 'prepares', 'ahead', 'time', 'reduce', 'distress', 'caused', 'planes'], tags=['461']),\n",
       " TaggedDocument(words=['united', 'get', 'cancelled', 'flightled', '10', 'hours', 'take'], tags=['462']),\n",
       " TaggedDocument(words=['united', 'always', 'happens', 'guys', 'makes', 'traveling', 'incredibly', 'stressful', 'uncomfortable', 'good', 'business'], tags=['463']),\n",
       " TaggedDocument(words=['united', 'someone', 'severe', 'anxiety', 'one', 'person', 'help', 'next'], tags=['464']),\n",
       " TaggedDocument(words=['united', 'seeking', 'go', '2', 'client', 'b', 'c', 'u', 'cant', 'get', 'need', 'refund', 'filled', 'form', 'confident', 'works', 'past', 'indication'], tags=['465']),\n",
       " TaggedDocument(words=['united', 'unrivalled', 'access', 'california', 'flights', 'u', '7', 'uk', 'airports', 'nonstop', 'one', 'stop', 'connections', 'year', 'round'], tags=['466']),\n",
       " TaggedDocument(words=['united', 'luckily', 'made', 'flights', 'time', 'disappointed', 'lack', 'communication'], tags=['467']),\n",
       " TaggedDocument(words=['united', 'checking', 'see', 'flight', '3466', 'atl', 'ord', 'got', 'cancelled', 'flighted'], tags=['468']),\n",
       " TaggedDocument(words=['united', 'service', 'far', 'horrid', 'wanted', 'end', 'trip', 'high', 'note', 'guess', 'option'], tags=['469']),\n",
       " TaggedDocument(words=['united', 'booked', 'flight', 'home', '7', 'months', 'ago', 'requested', 'seats', 'together', 'fianc', 'e', 'got', '2', 'middle', 'seats', 'unacceptable'], tags=['470']),\n",
       " TaggedDocument(words=['united', 'guys', 'horrible'], tags=['471']),\n",
       " TaggedDocument(words=['united', 'thnx', 'info'], tags=['472']),\n",
       " TaggedDocument(words=['united', 'pay', '17', 'wifi', 'international', 'business', 'ticket', 'pennypincher'], tags=['473']),\n",
       " TaggedDocument(words=['united', 'ok', 'top', 'things', 'lost', 'luggage', 'could', 'get', 'worse', 'unitedairlines'], tags=['474']),\n",
       " TaggedDocument(words=['united', 'kudos', 'cancelled', 'flightling', 'flights', 'dfw', 'morning', 'united', 'usually', 'first', 'panic'], tags=['475']),\n",
       " TaggedDocument(words=['united', 'luggage', 'broken', 'youcouldntmakethis', 'brokenwheel'], tags=['476']),\n",
       " TaggedDocument(words=['united', 'maybe', 'one', 'day', 'one', 'quoted', 'http', 'co', 'mjkpgvxmpc'], tags=['477']),\n",
       " TaggedDocument(words=['united', 'flight', 'delayed', 'one', 'remembered', 'turn', 'heat', 'flight', '559', 'leaving', 'ord', 'seriously'], tags=['478']),\n",
       " TaggedDocument(words=['united', 'another', 'awesome', 'new', 'plane', 'flight', '1584', 'extremely', 'nice', 'captain', 'steve', 'connolly'], tags=['479']),\n",
       " TaggedDocument(words=['united', 'speak', 'real', 'person', 'get', 'resolved', 'politely', 'efficiently', '2', '2'], tags=['480']),\n",
       " TaggedDocument(words=['united', 'filed', 'refund', 'claim', 'told', 'charge', 'dm', 'disputed', 'bank', 'hence', 'would', 'like', '1', '2'], tags=['481']),\n",
       " TaggedDocument(words=['united', 'bags', 'make', 'flight', 'iad', 'second', 'day', 'without', 'clothes', 'pretty', 'inconvenient', 'pretty', 'curious', 'unitedairlines'], tags=['482']),\n",
       " TaggedDocument(words=['united', 'every', 'united', 'flight', 'saipan', 'guam', 'adventure', 'never', 'know', 'capeair', 'old', 'plane', 'operational'], tags=['483']),\n",
       " TaggedDocument(words=['united', 'hence', 'asking', 'customer', 'service', 'phone', 'number', 'speak', 'real', 'person', 'get', 'sorted'], tags=['484']),\n",
       " TaggedDocument(words=['united', 'bags', 'leave', 'washington', 'yet', 'would', 'convenient', 'seeing', 'left', 'day', 'ago', 'unitedairlines', 'lostluggage'], tags=['485']),\n",
       " TaggedDocument(words=['united', 'according', 'dms', 'owed', 'refund', 'please', 'may', 'provided', 'contact', 'number', 'go', 'bank', 'file', 'claim'], tags=['486']),\n",
       " TaggedDocument(words=['united', '3', 'hours', 'ago', 'need', 'work', 'bag', 'make', 'hotel', 'time', 'need', 'go', 'elsewhere'], tags=['487']),\n",
       " TaggedDocument(words=['united', 'pls', 'properly', 'train', 'agents', 'requested', 'speak', '1k', 'customer', 'service', 'amp', 'transferred', 'dead', 'end', 'even', 'open', 'hr'], tags=['488']),\n",
       " TaggedDocument(words=['united', 'thanks', 'remembering', 'load', 'bag', 'onto', 'connecting', 'flight', 'oh', 'wait', 'forgot', 'iceland', 'fun', 'clothes'], tags=['489']),\n",
       " TaggedDocument(words=['united', 'thank', 'cheese', 'platter', 'abundance', 'entertainment', 'options', 'time', 'flew'], tags=['490']),\n",
       " TaggedDocument(words=['united', 'customer', 'service', 'atrocious', 'disrupted', 'travel', 'plans', 'lost', 'luggage', 'impossible', 'talk', 'human'], tags=['491']),\n",
       " TaggedDocument(words=['united', 'terminal', 'mia', 'food', 'open', '5am', 'esp', 'flights', '6am', 'two', 'hours', 'early', 'like', 'recommended', 'eat'], tags=['492']),\n",
       " TaggedDocument(words=['united', 'ua', 'flight', '1001', 'currently', 'stuck', 'portland', 'missed', 'ride', '3', 'hour', 'delay', 'getmartyhome'], tags=['493']),\n",
       " TaggedDocument(words=['united', 'responded', 'various', 'requests', 'contact', 'numbers', 'anyone', 'know', 'uk', 'customer', 'service', 'number', 'unitedairlines'], tags=['494']),\n",
       " TaggedDocument(words=['united', 'looking', 'getting', 'bags', 'lusaka'], tags=['495']),\n",
       " TaggedDocument(words=['united', 'could', 'update', 'suitcase', 'please', 'online', 'phone', 'tracking', 'told', 'nothing', 'told', 'back', 'yesterday'], tags=['496']),\n",
       " TaggedDocument(words=['united', 'thank', 'trying', 'two', 'days', 'set'], tags=['497']),\n",
       " TaggedDocument(words=['united', '1', 'last', 'thing', 'u', 'guys', 'charging', 'drinks', 'transatlantic', 'flight'], tags=['498']),\n",
       " TaggedDocument(words=['united', 'lhr', 'arrival', 'lounge', 'fail', 'waited', '20', 'mins', 'shower', 'left', 'find', 'hotel', 'u', 'know', 'many', 'passengers', 'u', 'carry', 'planning'], tags=['499']),\n",
       " TaggedDocument(words=['united', 'completed', 'form', 'doubt', 'use', 'ua', 'care', '6', 'day', 'vacation', '5', 'sure', 'ua', 'feel', 'responsibility'], tags=['500']),\n",
       " TaggedDocument(words=['united', 'definitely', 'compliment', 'really', 'thought', 'bag', 'lost', 'sent', 'another', 'airport', 'end', 'happy', 'customer'], tags=['501']),\n",
       " TaggedDocument(words=['united', 'thanx', 'much', 'followed', 'emailed', '1000', 'ticket', 'voucher', 'unitedairlines', 'care'], tags=['502']),\n",
       " TaggedDocument(words=['united', 'definitely', 'trip', 'remember', 'ewr', 'sti', 'second', 'season', 'first', 'seat', '35a', 'pays', 'loyal'], tags=['503']),\n",
       " TaggedDocument(words=['united', 'nope', 'told', 'us', 'time', 'go', 'home', 'sleep', 'airport', 'even', 'though', 'assured', 'us', 'would', 'get', 'room'], tags=['504']),\n",
       " TaggedDocument(words=['united', 'back', 'expensive', 'holiday', 'worked', 'year', 'pay', 'ruined', 'want', 'compensation', 'amp', 'original', 'case', 'back'], tags=['505']),\n",
       " TaggedDocument(words=['united', 'thanks', 'united', 'understand', 'would', 'actually', 'like', 'bag', 'back', 'done', 'also', 'wants', 'money'], tags=['506']),\n",
       " TaggedDocument(words=['united', 'frankly', 'worse', 'customer', 'service', 'ever', 'problems', 'happen', 'deal', 'defines', 'company', 'never', 'united'], tags=['507']),\n",
       " TaggedDocument(words=['united', 'still', 'valid', 'flight', 'seems', 'strange', 'delay', 'late', 'flight', 'inbound', 'crew', '7', 'hours', 'plane', 'already'], tags=['508']),\n",
       " TaggedDocument(words=['united', 'thanks', 'lack', 'help', 'canned', 'response', '1k', 'desk'], tags=['509']),\n",
       " TaggedDocument(words=['united', 'bad', 'ua', 'another', 'unforeseeable', 'operational', 'issue', 'return', 'flight'], tags=['510']),\n",
       " TaggedDocument(words=['united', 'pay', '25', '35', 'luggage', 'delivered', 'arrive', 'wait', '3', 'additional', 'days', 'delivery'], tags=['511']),\n",
       " TaggedDocument(words=['united', '8', 'hotels', '32', 'people', 'feel', 'like', 'held', 'hostage', 'someone', 'boarding', 'passes', 'leave', 'fail'], tags=['512']),\n",
       " TaggedDocument(words=['united', 'one', 'great', 'airline'], tags=['513']),\n",
       " TaggedDocument(words=['united', 'outbound', '2', 'bags', '70', 'lbs', 'bags', 'returning', 'home', '1', 'bag', '50', 'lbs', 'logic', 'writing', 'machine', 'human', 'help', 'required'], tags=['514']),\n",
       " TaggedDocument(words=['lindaswc', 'united', 'like', 'hear', 'poor', 'experience', 'please', 'share', 'details', 'w', 'customer', 'care', 'team', 'http', 'co', 'hisc4ndmgz'], tags=['515']),\n",
       " TaggedDocument(words=['united', 'cancelled', 'flightn', 'left', 'us', 'fend', 'flt', 'came', 'late', 'flight', 'getting', 'runaround', '3', 'hrs', 'employee', 'blaming', 'previous', '1'], tags=['516']),\n",
       " TaggedDocument(words=['united', 'okay', 'ase24766m', 'find', 'luggage'], tags=['517']),\n",
       " TaggedDocument(words=['united', 'agent', 'met', 'us', 'gate', 'said', 'issues', 'w', 'delays', 'ua1116', 'would', 'taken', 'online'], tags=['518']),\n",
       " TaggedDocument(words=['united', 'lady', 'one', 'phone', 'says', 'tel', 'aviv', 'tel', 'aviv', 'united', 'says', 'newark', 'one', 'knows', 'nothing'], tags=['519']),\n",
       " TaggedDocument(words=['united', 'melaniespring', 'see', 'kn', 'running', 'plane', 'running', 'thanks', 'help'], tags=['520']),\n",
       " TaggedDocument(words=['united', 'yes', 'still', 'answers', 'many', 'luggage', '3', 'days', 'unacceptable'], tags=['521']),\n",
       " TaggedDocument(words=['united', 'going', 'nothing', 'like', 'always'], tags=['522']),\n",
       " TaggedDocument(words=['united', 'plus', 'food', 'taxis'], tags=['523']),\n",
       " TaggedDocument(words=['united', 'offering', 'us', '8', 'rooms', '32', 'people', 'fail'], tags=['524']),\n",
       " TaggedDocument(words=['united', '32', 'people', 'getting', 'pretty', 'tired', 'action', 'solving', 'problem', 'plus', 'missing', 'day', 'vacation', 'skiing'], tags=['525']),\n",
       " TaggedDocument(words=['united', 'bright', 'side', 'would', 'keeping', 'promise', 'made', 'hope', 'good', 'night', 'thanks'], tags=['526']),\n",
       " TaggedDocument(words=['united', 'take', 'back', 'comment', 'team', 'working', 'hard', 'help', 'us', 'far', 'solution', 'hotel', 'food', 'anything', 'fail'], tags=['527']),\n",
       " TaggedDocument(words=['united', '4124', 'arriving', 'two', 'hours', 'late', 'flight', 'clt', 'sitting', 'tarmac', 'move', 'plane', 'gate', 'unhappy', 'customer'], tags=['528']),\n",
       " TaggedDocument(words=['united', 'airlines', 'absolute', 'worst', 'idea', 'neveragain', 'unitedairlines'], tags=['529']),\n",
       " TaggedDocument(words=['united', 'thanks', 'might', 'want', 'fix', 'line', 'customer', 'care', 'team', 'currently', 'responding', 'inquiries', 'within', '7', '10', 'business', 'days'], tags=['530']),\n",
       " TaggedDocument(words=['united', 'flew', 'united', 'aus', 'austin', 'bergstrom', 'cancun', 'intl', 'best', 'flight', 'ever', '737', 'big', 'small'], tags=['531']),\n",
       " TaggedDocument(words=['united', 'frustrating', 'frequent', 'flyer', 'loyal', 'since', 'continental', 'upgrade', 'equals', 'paying', '3', 'times', 'top', 'purchase', 'ticket'], tags=['532']),\n",
       " TaggedDocument(words=['united', 'worse', 'figure', 'pack', 'plane', 'screws', 'connectns', 'claims', 'hotl', 'rooms', 'san', 'fran', 'stranded', 'pax', 'way', 'go'], tags=['533']),\n",
       " TaggedDocument(words=['united', '4', 'passengers', '2', 'hour', 'delayed', 'flight', 'left', 'hotel', 'end', 'night', 'hou', 'airport', 'wtf', 'http', 'co', 'zfqmpgxvs6'], tags=['534']),\n",
       " TaggedDocument(words=['hey', 'united', 'flight', 'iah', 'pos', 'leave', 'late', 'flight', 'one', 'back', 'iah', 'early', 'rather', 'get', 'pos', 'earlier'], tags=['535']),\n",
       " TaggedDocument(words=['united', 'lost', 'bag', 'process', 'broken', 'agent', 'promised', 'call', 'amp', 'hold', 'bag', 'found', 'waking', '3am', 'w', 'delivery', 'fail'], tags=['536']),\n",
       " TaggedDocument(words=['united', 'people', 'counter', 'helpful', 'see', 'nobody', 'flight', 'austin', '10', '55', 'still', 'sitting'], tags=['537']),\n",
       " TaggedDocument(words=['united', 'darquenloveli', 'regret', 'hear', 'please', 'let', 'us', 'know', 'need', 'assistance', 'kn', 'finally', 'able', 'secure', 'seat', 'thx'], tags=['538']),\n",
       " TaggedDocument(words=['united', 'good', 'know', 'open', 'closed', 'doors', 'premier', 'passengers', 'safety', 'briefings', 'delayed', 'flights', 'annoyed'], tags=['539']),\n",
       " TaggedDocument(words=['united', 'yea', 'get', 'phoenix', 'already', 'delays', 'day', 'people', 'bullshit'], tags=['540']),\n",
       " TaggedDocument(words=['united', 'consolation', 'staff', 'stellar', 'hour', 'delays', 'encountered', 'every', 'one', '4', 'flights'], tags=['541']),\n",
       " TaggedDocument(words=['united', 'flight', 'ua3576', 'gate', 'b1', 'tell', 'ray', 'somehow', 'made', '736', 'flight', 'iah', 'wait', '917', 'one'], tags=['542']),\n",
       " TaggedDocument(words=['united', 'unfortunate', 'tumitravel', 'xmas', 'gift', 'looks', 'like', 'razor', 'ripped', 'right', 'front', 'pocket', 'picture'], tags=['543']),\n",
       " TaggedDocument(words=['united', 'thanks', 'asking'], tags=['544']),\n",
       " TaggedDocument(words=['united', 'lost', 'bags', 'cancelled', 'flightled', 'flights', 'delhi', 'call', 'centers', 'poor', 'united', 'staff', 'spread', 'thin', 'stressed', 'name'], tags=['545']),\n",
       " TaggedDocument(words=['united', 'yes', 'make', 'mistake', 'less', 'absurd', 'change', 'fact', 'inconveniently', 'missing', 'luggage', 'tonight'], tags=['546']),\n",
       " TaggedDocument(words=['united', 'constantly', 'challenges', 'upgrades', 'amp', 'charges', 'order', 'prevent', 'dvt', 'pay', 'addtl', '180', 'http', 'co', 'xc6jq70r7b'], tags=['547']),\n",
       " TaggedDocument(words=['united', 'ord', 'waited', '20', 'min', 'crew', 'members', 'left', 'gate', 'items', 'came', 'flight', 'attendant', 'sarcastically', 'said', 'good', 'luck', 'walked', 'away'], tags=['548']),\n",
       " TaggedDocument(words=['united'], tags=['549']),\n",
       " TaggedDocument(words=['united', 'favorite', 'airline'], tags=['550']),\n",
       " TaggedDocument(words=['united', 'seriously', 'fail', 'making', 'strangers', 'share', 'room'], tags=['551']),\n",
       " TaggedDocument(words=['united', 'needed', 'asap', 'make', 'today', 'flight'], tags=['552']),\n",
       " TaggedDocument(words=['united', 'agent', 'split', 'reservation', 'cancelled', 'flight', 'refund', 'credit', '2wks'], tags=['553']),\n",
       " TaggedDocument(words=['united', 'would', 'make', 'share', 'room'], tags=['554']),\n",
       " TaggedDocument(words=['united', 'tried', 'calling', 'w', '25', 'min', 'phn', 'wait', 'means', 'miss', 'options', 'anyway'], tags=['555']),\n",
       " TaggedDocument(words=['united', 'ask', 'guys', 'flight', '1146', 'bwi', 'wait', 'us', 'get', 'delayed', 'flight', 'san', 'diego', 'pretty', 'please'], tags=['556']),\n",
       " TaggedDocument(words=['united', 'still', 'waiting', 'find', 'rep', 'working', 'hard', 'upset', 'wait', 'tomorrow', 'pm', 'get', 'mammoth'], tags=['557']),\n",
       " TaggedDocument(words=['united', 'early', 'flt', 'think', 'call', 'appropriate', 'yes', 'reviewed', 'nada', 'avail', 'next', 'day', 'expect', 'full', 'refund'], tags=['558']),\n",
       " TaggedDocument(words=['united', 'ask', 'call', 'get', 'fixed', 'tweeting', 'bs', 'questions', 'stall', 'makes', 'things', 'worse', 'phone', 'number', 'please'], tags=['559']),\n",
       " TaggedDocument(words=['united', 'yo', 'yo', 'yo', 'stuck', 'tarmac', '2', 'hours', 'fly2ohare', 'going', 'miss', 'ride', 'flypdx', 'help', 'please', 'helpimstuck', 'united'], tags=['560']),\n",
       " TaggedDocument(words=['united', 'highly', 'unprofessional', 'overbook', 'flight', '12', 'seats', 'amp', 'feel', 'rearrange', 'schedule', 'mismanagement'], tags=['561']),\n",
       " TaggedDocument(words=['united', 'well', 'considering', 'every', 'agent', 'claimed', 'unable', 'help', 'everything', 'else', 'waste', 'time', 'hear', 'call', 'corp'], tags=['562']),\n",
       " TaggedDocument(words=['united', 'man', 'wait', 'book', 'ticket', 'thanks', 'jp', 'life', 'sabe'], tags=['563']),\n",
       " TaggedDocument(words=['united', 'ice', 'totally', 'understand', 'large', 'number', 'us', 'facing', '15', 'hours', 'time', 'overnight', 'cancelled', 'flightations', 'seems', 'like'], tags=['564']),\n",
       " TaggedDocument(words=['united', 'flt', '1249', 'cancelled', 'flightled', 'get', 'email', '3', '30', 'happened', 'courtesy', 'phn', 'call', 'book', 'diff', 'airline', 'amp', 'city'], tags=['565']),\n",
       " TaggedDocument(words=['united', 'tag', 'numbers', '0016', '964012', '0016', '964077', '0016', '964078', 'let', 'find', 'bags'], tags=['566']),\n",
       " TaggedDocument(words=['united', 'better', 'train', 'support', 'staff', 'appropriate', 'decorum', 'consider', 'revisiting', 'terrible', 'provide', 'death', 'certificate', 'policy'], tags=['567']),\n",
       " TaggedDocument(words=['united', 'well', 'bar', 'set', 'low', 'guys', 'really', 'good', 'apology', 'game', 'change', 'u', 'guys', 'learn'], tags=['568']),\n",
       " TaggedDocument(words=['united', 'guys', 'continue', 'impress', 'houston', 'http', 'co', 'cih1qnllcm'], tags=['569']),\n",
       " TaggedDocument(words=['united', 'way', 'making', 'phones', 'calls', 'need', 'handle', 'via', 'twitter', 'email', 'web', 'thank'], tags=['570']),\n",
       " TaggedDocument(words=['united', 'website', 'deserves', 'new', 'design', 'html5', 'ftw'], tags=['571']),\n",
       " TaggedDocument(words=['united', 'thanks', 'effing', 'holidays', 'missing', 'full', 'day', 'skiing', 'due', 'baggage', 'team', 'incompetence', 'flyyow'], tags=['572']),\n",
       " TaggedDocument(words=['united', 'agent', 'helps', 'person', 'front', 'finishes', 'walks', 'away', 'guy', 'behind', 'shocked'], tags=['573']),\n",
       " TaggedDocument(words=['united', 'connection', 'ord', 'exact', 'plane', 'checked', 'carry', 'apparently', 'taken', 'amp', 'left', 'chicago', 'pretty', 'ridiculous'], tags=['574']),\n",
       " TaggedDocument(words=['united', 'encouraged', 'cpap', 'tonight'], tags=['575']),\n",
       " TaggedDocument(words=['united', 'yes', 'file', 'claim', 'soon', 'carousel', 'stopped', 'without', 'bag', 'got', 'email', 'found', 'sched', 'delivery'], tags=['576']),\n",
       " TaggedDocument(words=['united', 'delay', 'den', 'cle', 'manually', 'enter', 'baggage', 'tags', 'really', 'worst', 'cust', 'service', 'day', '1ker', 'friendlyskies'], tags=['577']),\n",
       " TaggedDocument(words=['united', 'tell', 'us', 'flight', 'delayed', 'tell', 'us', 'time', '20', 'min', 'spare', 'say', 'delayed', 'unless', 'sure'], tags=['578']),\n",
       " TaggedDocument(words=['united', 'yes', 'lusaka', 'zambia', 'guess', 'bags', 'never', 'made', 'plane', 'iad'], tags=['579']),\n",
       " TaggedDocument(words=['united', 'late', 'flight', 'denver', 'late', 'flight', 'newark', 'let', 'even', 'get', 'disaster', 'checking', 'bags', 'unacceptable'], tags=['580']),\n",
       " TaggedDocument(words=['united', 'let', 'think', 'ever', 'flown', 'problems', 'worst', 'airline', 'period'], tags=['581']),\n",
       " TaggedDocument(words=['united', 'yes', 'filed', 'claim', 'amp', 'hope', 'receive', 'luggage', '2am', 'ridiculous', 'purchase', 'items', 'go', 'sleep', 'amp', 'reimbursement'], tags=['582']),\n",
       " TaggedDocument(words=['united', 'ua938', 'ord', 'lhr', 'bags', 'loaded', '30min', 'late', 'flight', 'frigid', 'air', 'cabin', 'plane', 'feels', 'like', 'falling', 'apart', 'upgrade', 'long', 'haul', 'fleet'], tags=['583']),\n",
       " TaggedDocument(words=['united', 'flight', 'attendant', 'never', 'served', 'beverage', 'tea', 'checked', 'gives', 'ua6076', 'notcool'], tags=['584']),\n",
       " TaggedDocument(words=['united', 'load', 'balancing', 'system', 'apparently', 'systemwide', 'major', 'impact', 'united', 'airlines', 'flights', 'cyberattack'], tags=['585']),\n",
       " TaggedDocument(words=['united', 'unscheduled', 'refueling', 'stop', 'missing', '2', 'connecting', 'flights', 'r', 'home', 'n', 'looking', '4ward', 'bed', 'big', 'pb', 'amp', 'j', 'sandwich'], tags=['586']),\n",
       " TaggedDocument(words=['united', 'americanair', 'spent', 'hundreds', 'rectify', 'situation', 'guys', 'go', 'quiet'], tags=['587']),\n",
       " TaggedDocument(words=['united', 'ua276', 'sitting', 'ewr', 'nearly', 'hour', 'sked', 'pilot', 'says', 'computers', 'clue', 'leave', 'help'], tags=['588']),\n",
       " TaggedDocument(words=['united', 'americanair', 'ends', 'come', 'traveled', 'literally', 'extra', 'day', 'half'], tags=['589']),\n",
       " TaggedDocument(words=['united', 'made', 'upgrade', 'list', 'fly', '1st', 'tomorrow', '40', 'min', 'first', 'time', 'ever', 'statusmatchpaidoff', 'http', 'co', 'atfrkp6goy'], tags=['590']),\n",
       " TaggedDocument(words=['united', 'refunded', 'us', 'vacation', 'get', 'free', 'room', 'night', 'make', 'making', 'us', 'sleep', 'dia'], tags=['591']),\n",
       " TaggedDocument(words=['united', 'thanks', 'reminder', 'fun', 'ride', 'http', 'co', 'ppva4rch9f'], tags=['592']),\n",
       " TaggedDocument(words=['united', 'received', 'luggage', 'also', 'looked', 'left', 'snow', 'arrived', 'asking', '50', 'people', 'refunded'], tags=['593']),\n",
       " TaggedDocument(words=['united', 'updated', 'a320', 'aircraft', 'wifi', 'device', 'entertainment', 'outlets', 'get', 'charge', 'devices'], tags=['594']),\n",
       " TaggedDocument(words=['united', 'one', 'scan', 'inside', 'plane', 'asked', 'people', 'line', 'around', 'plane', 'going'], tags=['595']),\n",
       " TaggedDocument(words=['united', '5', 'gate', 'changes', 'two', 'delays', 'even', 'crew', 'thinks', 'airline', 'sucks'], tags=['596']),\n",
       " TaggedDocument(words=['united', 'frustrated', 'wasted', '2', 'days', 'due', 'equipment', 'failures'], tags=['597']),\n",
       " TaggedDocument(words=['united', 'computers', 'stopped', 'giving', 'updates', 'took', 'flight', 'info', 'app', 'ridiculous', 'keep', 'people', 'updated'], tags=['598']),\n",
       " TaggedDocument(words=['united', 'soooo', '15', 'days', 'offered', 'response', 'assume', 'poor', 'treatment', 'gate', 'agents', 'norm'], tags=['599']),\n",
       " TaggedDocument(words=['united', 'terrific', 'many', 'thanks', 'looking', 'forward', 'back', 'ua', 'tomorrow', 'great', 'flight', 'vancouver'], tags=['600']),\n",
       " TaggedDocument(words=['united', 'calls', '800', 'resulted', '2hrs', 'hold', 'time', 'amp', '2day', 'wait', 'check', 'suspect', 'code', 'share', 'fare', 'nothing', 'investigated', 'time', 'wasted', '2', '2'], tags=['601']),\n",
       " TaggedDocument(words=['united', 'taken', '3', 'weeks', 'cust', 'care', 'respond', 'case', '8477733', 'requesting', 'refund', 'wi', 'fi', 'working', 'get', 'update'], tags=['602']),\n",
       " TaggedDocument(words=['united', 'appreciate', 'efforts', 'getting', 'home'], tags=['603']),\n",
       " TaggedDocument(words=['united', 'correct', 'spent', 'hours', 'trying', 'book', 'online', 'receive', 'error', 'clicking', 'final', 'purchase', 'button', '1', '2'], tags=['604']),\n",
       " TaggedDocument(words=['united', 'today', 'finest', 'could', 'prevented', 'one', 'gate', 'agent', 'advising', '200', 'passengers'], tags=['605']),\n",
       " TaggedDocument(words=['united', 'real', 'deal', 'delay', 'flight', 'ua', '1032', 'denver', 'vegas'], tags=['606']),\n",
       " TaggedDocument(words=['united', 'ua63', 'madrid', 'arrived', 'agent', 'mass', 'confusion', 'sent', 'fro', '3', 'ua', 'employees', 'maryjo', 'rude', 'unhelpful'], tags=['607']),\n",
       " TaggedDocument(words=['united', 'system', 'failure', 'bad', 'trend', 'software', 'projects', 'like', 'flying', 'airplane', 'thing', 'emergency', 'takeoff'], tags=['608']),\n",
       " TaggedDocument(words=['united', 'lots', 'reports', 'system', 'failures', 'delaying', 'flights', 'last', 'week', 'currently', 'sitting', 'tarmac', 'ogg', 'hour'], tags=['609']),\n",
       " TaggedDocument(words=['united', 'despite', 'shaky', 'connections', 'looks', 'like', 'get', 'home', 'tonight', 'great', 'job', 'united', 'touch', 'go'], tags=['610']),\n",
       " TaggedDocument(words=['united', 'http', 'co', 'hj5kq82chn', 'however', 'completely', 'control', 'price', 'still', 'displayed', 'http', 'co', 'hj5kq82chn'], tags=['611']),\n",
       " TaggedDocument(words=['united', 'tell', 'file', 'claim', 'clothing', 'purchased'], tags=['612']),\n",
       " TaggedDocument(words=['united', 'comically', 'return', 'flight', 'ase', 'two', 'united', 'flights', 'boarding', 'adjacent', 'gates', 'clear', 'plane', 'board'], tags=['613']),\n",
       " TaggedDocument(words=['united', 'grk13575m', 'file', 'reference'], tags=['614']),\n",
       " TaggedDocument(words=['united', 'would', 'contact', 'discuss', 'poor', 'experiences', 'customer', 'service', 'would', 'give', 'shot'], tags=['615']),\n",
       " TaggedDocument(words=['united', 'ua', '746', 'pacific', 'rim', 'date', 'night', 'cut', 'constantly', 'randomly', 'one', 'spot', 'repeatably'], tags=['616']),\n",
       " TaggedDocument(words=['united', 'trying', 'since', '1230', 'file', 'report'], tags=['617']),\n",
       " TaggedDocument(words=['united', 'send', 'email', 'bad', 'experience', 'send', 'back', 'generic', 'response', 'yet', 'another', 'reason', 'never', 'fly'], tags=['618']),\n",
       " TaggedDocument(words=['united', 'ticket', '0162424965446', 'please', 'refund', 'unnecessary', 'upgrade', 'fee'], tags=['619']),\n",
       " TaggedDocument(words=['united', 'horrible', 'lost', 'carseat', 'expect', 'us', 'use', 'loner', 'carseat', 'safety', 'regulations', 'say', 'illegal', 'use', 'used', 'car', 'seat'], tags=['620']),\n",
       " TaggedDocument(words=['united', 'thank'], tags=['621']),\n",
       " TaggedDocument(words=['united', 'care', 'thehipmunk', 'link', 'showed', 'wrong', 'price', 'site', 'site', 'amp', 'responsibility', 'ensure', 'correctness'], tags=['622']),\n",
       " TaggedDocument(words=['united', 'needs', 'get', 'home', '24th', 'telling', '25th', 'night', 'compensation', 'anything', 'done'], tags=['623']),\n",
       " TaggedDocument(words=['united', 'mllovelace', 'baggage', 'fee', 'waived', 'premier', 'members', 'please', 'see', 'http', 'co', 'u6duw27mde', 'jp', 'point', 'membership'], tags=['624']),\n",
       " TaggedDocument(words=['united', 'wonderful', 'bag', 'claim', 'people', 'finally', 'bag', 'catch', 'earlier', 'flight', 'original', 'flight', 'landed', 'wastedtime'], tags=['625']),\n",
       " TaggedDocument(words=['united', 'dmed', 'thank'], tags=['626']),\n",
       " TaggedDocument(words=['united', 'thanks', 'touch'], tags=['627']),\n",
       " TaggedDocument(words=['united', 'thanks', 'karen', 'salisbury', 'iah', 'amazing', 'customer', 'service', 'found', 'daughter', 'bag', 'lost', 'ua1516', 'made', 'day'], tags=['628']),\n",
       " TaggedDocument(words=['united', '3', 'days', 'late', 'flightr', 'bag', 'left', 'iad', 'united', 'helping', 'everyone', 'tells', 'different', 'story'], tags=['629']),\n",
       " TaggedDocument(words=['united', 'left', 'comment', 'customer', 'care', 'thanks', 'contacting'], tags=['630']),\n",
       " TaggedDocument(words=['united', 'lose', 'gate', 'checked', 'bag', 'den', 'ord', 'direct', 'flight', 'ugh'], tags=['631']),\n",
       " TaggedDocument(words=['united', 'caught', 'earlier', 'flight', 'ord', 'gate', 'checked', 'bag', 'lost', 'hare', 'original', 'flight', 'lands', '20minutes', 'frustrating'], tags=['632']),\n",
       " TaggedDocument(words=['yes', 'thanks', 'much', 'united', 'whitterbug', 'see', 'spoke', 'reservations', 'team', 'reinstated', 'flight', 'thanks', 'ey'], tags=['633']),\n",
       " TaggedDocument(words=['united', 'captain', 'behalf', 'front', 'office', 'welcome', 'board', 'never', 'heard', 'laughed', 'hard', 'funnycaptain'], tags=['634']),\n",
       " TaggedDocument(words=['united', 'please', 'follow', 'dm', 'missing', 'bag'], tags=['635']),\n",
       " TaggedDocument(words=['united', 'great', 'fares'], tags=['636']),\n",
       " TaggedDocument(words=['united', 'left', 'item', 'plane', 'calling', 'non', 'stop', 'one', 'answering', 'please', 'help'], tags=['637']),\n",
       " TaggedDocument(words=['united', 'awesome', 'book', 'next', 'christmas', 'vacatinn', 'december', 'ways', 'want', 'devalue', 'mileage', 'plus'], tags=['638']),\n",
       " TaggedDocument(words=['united', 'good', 'number', 'call', 'speak', 'someone', 'fix', '50', 'people', 'luggage', 'saturday'], tags=['639']),\n",
       " TaggedDocument(words=['united', 'thank', 'u', 'secured', 'room', 'night', 'thx', 'helpful', 'customer', 'service', 'rep', 'n', 'dorns', 'thanked', 'u', '2', 'goodenoughmother'], tags=['640']),\n",
       " TaggedDocument(words=['united', 'damn', 'bag'], tags=['641']),\n",
       " TaggedDocument(words=['united', 'well', 'someone', 'tell', 'employees', 'denver', 'baggage', 'claim', 'still', 'bag'], tags=['642']),\n",
       " TaggedDocument(words=['united', 'diverted', 'missed', 'connecting', 'flight', 'told', 'bag', 'way', 'msy', 'people', 'cared'], tags=['643']),\n",
       " TaggedDocument(words=['united', 'male', 'agnt', 'las', 'threatens', 'canadian', 'cust', 'cust', 'takes', 'pic', 'gate', 'agents', 'announce', 'help', 'rebook', 'friendlyskies'], tags=['644']),\n",
       " TaggedDocument(words=['united', 'apollochplayers', 'want', 'go', 'home', 'tonight', 'cancelled', 'flight', 'last', 'leg', 'reserv', 'w', 'permission', 'ph6rps'], tags=['645']),\n",
       " TaggedDocument(words=['united', 'stressed', 'rude', 'agents', 'overwhelmed', 'delyd', 'flight', 'las', 'den', '1657', 'yelling', 'several', 'people', 'pretty', 'friendlyskies'], tags=['646']),\n",
       " TaggedDocument(words=['united', 'landed', 'boston', '9', 'last', 'night', '15', 'hours', 'traveling', 'rough', 'tho'], tags=['647']),\n",
       " TaggedDocument(words=['united', 'fail', 'cancelled', 'flightled', 'flight', 'frm', 'gjt', 'used', 'reserv', 'home', 'iah', 'sea', 'reflight', 'booking', 'problems', 'w', 'permission', 'ph6rps'], tags=['648']),\n",
       " TaggedDocument(words=['united', 'made', 'fly', 'list', 'airlines', 'wait', 'connector', 'late', 'flight', 'stuck', 'iah'], tags=['649']),\n",
       " TaggedDocument(words=['united', 'also', 'mere', 'fact', 'go', 'online', 'issue', 'statement', 'vice', 'calling', 'talking', 'directly', 'one', 'good', 'example'], tags=['650']),\n",
       " TaggedDocument(words=['united', 'thank', 'flew', 'newark', 'vail', 'eagle'], tags=['651']),\n",
       " TaggedDocument(words=['united', 'weekend', 'dealing', 'company', 'would', 'say', 'otherwise'], tags=['652']),\n",
       " TaggedDocument(words=['united', 'http', 'co', '5hpsqvrjk8', 'flight', 'gone', 'got', 'plane', 'businesstravel', 'goodenoughmother'], tags=['653']),\n",
       " TaggedDocument(words=['united', 'proper', 'response', 'sorry', 'wait', 'flight', 'look', 'issue', 'delta', 'would', 'handle'], tags=['654']),\n",
       " TaggedDocument(words=['united', 'customer', 'service', 'terrible', 'stood', 'inline', '3', 'hours', 'flights', '4', 'hours', 'late', 'flightr', 'still', 'bag', 'disgutedindenver'], tags=['655']),\n",
       " TaggedDocument(words=['united', 'inadequate', 'accident'], tags=['656']),\n",
       " TaggedDocument(words=['united', 'reebok', 'rockinwellness', 'denver', 'international', 'airport', 'https', 'co', 'tkvmhbkec3'], tags=['657']),\n",
       " TaggedDocument(words=['united', 'thank', 'responding', 'quickly', 'helpful', 'tool', 'dustyob'], tags=['658']),\n",
       " TaggedDocument(words=['united', 'boarding', 'time', 'shows', '35', 'min', 'gate', 'agent', 'started', '45', 'showed', '4', '00', 'check', 'bag', 'http', 'co', 'zcbjyo6lsn'], tags=['659']),\n",
       " TaggedDocument(words=['united', 'agent', 'las', 'letting', '20', 'customers', 'know', 'help', 'rebook', 'delayed', 'flight', 'den', 'unfriendlyskies', 'http', 'co', 'quzvmk2rtr'], tags=['660']),\n",
       " TaggedDocument(words=['united', 'empathizes', 'w', 'disappointment', '1stclass', 'flight', 'w', 'nonworking', 'entertainmnt', 'worth', '50', 'unfriendlyskies', 'http', 'co', 'loeco4gmvd'], tags=['661']),\n",
       " TaggedDocument(words=['united', 'work'], tags=['662']),\n",
       " TaggedDocument(words=['united', 'searched', 'mileage', 'tickets', 'bom', 'find', 'single', 'one', 'saver', 'awards', 'see', 'play', 'earn', 'miles', 'use'], tags=['663']),\n",
       " TaggedDocument(words=['united', 'flight', 'arrives', '30', 'minutes', 'early', 'wait', 'hour', 'bags'], tags=['664']),\n",
       " TaggedDocument(words=['united', 'issue', 'fact', 'one', 'even', 'called', 'despite', 'promises', 'confirm', 'bag', 'location'], tags=['665']),\n",
       " TaggedDocument(words=['united', 'still', 'waiting', 'hear', 'back', 'wallet', 'stolen', 'one', 'planes', 'would', 'appreciate', 'resolution'], tags=['666']),\n",
       " TaggedDocument(words=['united', 'flysaa', 'lost', 'baggage', 'heard', 'different', 'things', 'different', 'employees', 'united', 'flysaa', 'said', 'nothing'], tags=['667']),\n",
       " TaggedDocument(words=['united', 'cs', 'thinks', 'miles', 'repair', 'damage', 'done', 'interesting', 'travel', 'united', 'exp', 'worst', 'flight', 'ever'], tags=['668']),\n",
       " TaggedDocument(words=['united', 'signed', 'notifications', 'first', 'trip', 'updated', 'sure', 'happened'], tags=['669']),\n",
       " TaggedDocument(words=['united', 'thank', 'took', 'care', 'everything', 'made', 'right', 'experience', 'used', 'opened', 'app', 'find', 'flight', 'changed'], tags=['670']),\n",
       " TaggedDocument(words=['united', 'line', 'responses', 'waiting', 'tomorrow', 'morning', 'flights', 'overbooked'], tags=['671']),\n",
       " TaggedDocument(words=['united', 'took', 'exact', 'aircraft', 'lax', '3', 'days', 'ago', 'fit', 'problem', 'agent', 'today', 'told', 'nonsense', 'policy', 'change'], tags=['672']),\n",
       " TaggedDocument(words=['united', 'helpful', 'agents', 'club', 'helped', 'baggage', 'fees', 'night', 'life', 'stop', 'business', 'silverairways'], tags=['673']),\n",
       " TaggedDocument(words=['united', 'never', 'heard', 'http', 'co', 'qdebyahqfm'], tags=['674']),\n",
       " TaggedDocument(words=['southwestair', 'charge', 'ticket', 'change', 'fees', 'incur', 'mysterious', 'costs', 'incur', 'united'], tags=['675']),\n",
       " TaggedDocument(words=['united', 'exhausted', 'amp', 'frustrated', 'link', 'fb', 'post', 'abt', 'travel', 'issue', 'https', 'co', 'larkc8vc4s'], tags=['676']),\n",
       " TaggedDocument(words=['united', 'denied', 'getting', 'plane', 'w', 'getting', 'chance', 'prove', 'fits', 'rookie', 'read', 'bio'], tags=['677']),\n",
       " TaggedDocument(words=['united', 'exactly', 'point', 'fits', 'premier', 'access', 'boarding', 'group', '2', 'return', 'ticket', '15', 'yrs'], tags=['678']),\n",
       " TaggedDocument(words=['united', 'never', 'experienced', 'worst', 'customer', 'service', 'placing', 'blame', 'codeshare', 'partners', 'assuming', 'responsibility', 'unacceptable'], tags=['679']),\n",
       " TaggedDocument(words=['united', 'currently', 'board', 'check', 'terrible', 'staff', 'rude', 'expensive', 'luggage', 'thrown', 'around', 'etc'], tags=['680']),\n",
       " TaggedDocument(words=['united', 'fucked', 'voided', 'ticket', 'kept', 'money', 'even', 'apology', 'never', 'fly', 'airline', 'unitedairlines'], tags=['681']),\n",
       " TaggedDocument(words=['united', 'worst', 'customer', 'svcs', 'kevin', 'rep', 'call', 'center', 'must', 'investigated', 'baggage', 'lost', 'help', 'argument'], tags=['682']),\n",
       " TaggedDocument(words=['united', 'sell', 'tickets', 'silverairways', 'http', 'co', 'onhxhco6bk', 'terrible', 'service', 'ua', 'staff', 'can', 'not', 'reach', 'silver'], tags=['683']),\n",
       " TaggedDocument(words=['united', 'got', 'demoted', 'gold', 'cuz', 'hubby', 'got', '100', 'pqd', 'tho', 'enuf', 'spent', '4', 'golds', 'spousal', 'discrimination', 'angry'], tags=['684']),\n",
       " TaggedDocument(words=['united', 'thank'], tags=['685']),\n",
       " TaggedDocument(words=['united', 'favorite', 'way', 'travel', 'thank', 'http', 'co', 'vgn2x1ckg0'], tags=['686']),\n",
       " TaggedDocument(words=['united', 'yes', 'lots', 'terrible', 'customer', 'service', 'newark', 'despite', 'raising', 'complaint', 'ignored', 'hence', 'tweet'], tags=['687']),\n",
       " TaggedDocument(words=['united', 'lovely', 'new', 'plane', 'lga', 'ord', 'power', 'outlets'], tags=['688']),\n",
       " TaggedDocument(words=['united', 'tweet', 'id', 'number', 'reveal', 'home', 'address', 'anyone', 'web'], tags=['689']),\n",
       " TaggedDocument(words=['united', 'filed', 'delayed', 'bag', 'report', 'saturday', 'flight', 'cancelled', 'flightled', 'never', 'went', 'anywhere'], tags=['690']),\n",
       " TaggedDocument(words=['united', 'need', 'lands', 'ewr', 'baggage', 'claim', 'file', 'sent', 'employee', 'droppeditoffyet'], tags=['691']),\n",
       " TaggedDocument(words=['united', 'rarely', 'ceases', 'amaze', 'worse', 'hope', 'last', 'time', 'fly'], tags=['692']),\n",
       " TaggedDocument(words=['united', 'icloud', 'yet', 'please', 'help', '917', '703', '1472'], tags=['693']),\n",
       " TaggedDocument(words=['united', 'response', 'back'], tags=['694']),\n",
       " TaggedDocument(words=['united', 'atrocious', 'customer', 'service'], tags=['695']),\n",
       " TaggedDocument(words=['united', 'albanyairport', 'delayed', 'departure', 'check', 'bags', 'gate', 'claiming', 'space', 'filled', 'walk', 'open', 'spaces', 'delay', 'poorcustomerservice'], tags=['696']),\n",
       " TaggedDocument(words=['united', 'cancelled', 'flighted', 'flights', 'reason', 'amp', 'phone', 'hour', 'vacation'], tags=['697']),\n",
       " TaggedDocument(words=['united', 'dfpietra', 'response', 'shaking', 'head', 'back', 'forth', 'tsk', 'better', 'customer', 'service', 'apology'], tags=['698']),\n",
       " TaggedDocument(words=['united', 'course', 'bag', 'frustrated'], tags=['699']),\n",
       " TaggedDocument(words=['united', 'worst', 'avoid', 'like', 'plague'], tags=['700']),\n",
       " TaggedDocument(words=['united', 'worst', 'airline', 'world'], tags=['701']),\n",
       " TaggedDocument(words=['united', 'someone', 'needs', 'dm', 'resolve', 'correctly', 'extremely', 'disappointed', 'service', 'received', 'terrible', 'management'], tags=['702']),\n",
       " TaggedDocument(words=['united', 'premier', 'gold', 'desk', 'changes', 'flight', 'waives', 'fees', 'gives', 'wrong', 'flight', 'jana', 'acosta', 'salt', 'lake', 'refuses', 'service', 'angry'], tags=['703']),\n",
       " TaggedDocument(words=['united', 'give', 'one', 'thing', 'consistent', 'unfortunately', 'consistent', 'job', 'well', 'alwaysdelayedonunited'], tags=['704']),\n",
       " TaggedDocument(words=['united', 'right', 'angry'], tags=['705']),\n",
       " TaggedDocument(words=['united', 'first', 'time', 'flying', 'united', 'also', 'last', 'time', 'terrible', 'back', 'virginatlantic', 'branson', 'virginatlantic', 'unitedairlines'], tags=['706']),\n",
       " TaggedDocument(words=['united', 'used', 'committed', 'continentalairlines', 'flyer', 'merger', 'remember', 'switched', 'southwestair', 'communicationfail'], tags=['707']),\n",
       " TaggedDocument(words=['united', 'least', 'could', 'offer', 'ticket', 'coach', 'instead', 'cancelled', 'flighting', 'reservation', 'glitch', 'notfair'], tags=['708']),\n",
       " TaggedDocument(words=['united', 'saying', 'made', 'flight', 'poor', 'non', 'communication', 'unaccounted', 'lost', 'time', 'amp', 'lots', 'frustrated', 'flyers', 'standing', 'around'], tags=['709']),\n",
       " TaggedDocument(words=['united', 'think', 'dm', 'would', 'better'], tags=['710']),\n",
       " TaggedDocument(words=['united', 'gate', 'announcement', 'states', 'delay', 'due', 'maintenance', 'yet', 'app', 'says', 'late', 'flight', 'arriving', 'aircraft', 'tell', 'truth', 'unfriendly'], tags=['711']),\n",
       " TaggedDocument(words=['united', 'easily', 'worst', 'company', 'ever', 'experienced', 'lost', 'someone', 'personal', 'possessions', 'amp', 'care', 'less'], tags=['712']),\n",
       " TaggedDocument(words=['united', 'app', 'show', 'arriving', 'aircraft', 'early', 'departing', 'flight', 'delayed', 'due', 'late', 'flight', 'arriving', 'aircraft', 'unfriendly'], tags=['713']),\n",
       " TaggedDocument(words=['united', 'already', 'airport', '12', 'hrs', 'late', 'flightr', 'still', 'guys', 'really', 'killing', 'today', 'trying', 'stay', 'positive'], tags=['714']),\n",
       " TaggedDocument(words=['united', 'united', 'service', 'levels', 'reaches', 'etihad', 'lets', 'realistically', 'lufthansa', 'ill', 'consider'], tags=['715']),\n",
       " TaggedDocument(words=['united', 'really', 'someone', 'called', 'sick', 'someone', 'forgot', 'call', 'replacement', 'hour', 'late', 'flight', 'take', 'theworst'], tags=['716']),\n",
       " TaggedDocument(words=['united', 'asked', 'flight', 'attendant', 'typical', 'compensation', 'would', 'amp', 'says', 'might', 'get', 'free', 'tv', 'unacceptable'], tags=['717']),\n",
       " TaggedDocument(words=['united', 'disappointment', 'today', 'simply', 'put', 'rather', 'unpleased', 'things', 'currently', 'flight', 'delayed', 'cant', 'wait', 'get', 'home'], tags=['718']),\n",
       " TaggedDocument(words=['united', 'round', 'trip', 'non', 'english', 'speaking', 'friend', 'stranded', 'twice', '12', 'hours', 'time', 'staff', 'members', 'rude'], tags=['719']),\n",
       " TaggedDocument(words=['united', 'found', 'group', 'people', 'actually', 'hates', 'people', 'isis', 'thats', 'right', 'united', 'airlines'], tags=['720']),\n",
       " TaggedDocument(words=['united', 'nope', 'walked', 'amp', 'orf', 'terminal', 'amp', 'united', 'agent', 'found', 'showed', 'last', 'minute', 'board', 'us', 'many', 'panicked', 'people'], tags=['721']),\n",
       " TaggedDocument(words=['united', 'thank'], tags=['722']),\n",
       " TaggedDocument(words=['united', 'time', 'finally', 'get', 'dallas', 'could', 'driven', 'less', 'frustration', 'cheaper'], tags=['723']),\n",
       " TaggedDocument(words=['united', 'trying', 'get', 'final', 'destination', 'need', 'compensation', '2hrs', 'personal', 'time', 'wasted'], tags=['724']),\n",
       " TaggedDocument(words=['united', 'guy', 'really', 'customer', 'service', 'clue', 'could', 'spent', 'effort', 'clearing', 'bins', 'rollerboards', 'instead', 'art', 'projects', 'mine'], tags=['725']),\n",
       " TaggedDocument(words=['united', 'priority', 'iove'], tags=['726']),\n",
       " TaggedDocument(words=['united', 'pleased', 'premier', 'platinum'], tags=['727']),\n",
       " TaggedDocument(words=['united', 'put', 'bag', 'plane', 'seattle', 'flight', '1212', 'waiting', 'line', 'talk', 'someone', 'bag', 'status', 'matter'], tags=['728']),\n",
       " TaggedDocument(words=['united', 'campilley', 'hahaha', 'american', 'company', 'would', 'say', 'great', 'sarcasm'], tags=['729']),\n",
       " TaggedDocument(words=['united', 'think', 'actually', 'like', 'screen', 'campilley'], tags=['730']),\n",
       " TaggedDocument(words=['united', 'apparently', 'asking', '20', 'people', 'board', 'plane', 'big', 'miscalculation', 'made'], tags=['731']),\n",
       " TaggedDocument(words=['united', 'shame', 'choosing', 'united', 'may', 'difference', 'reuniting', 'aging', 'friends', 'never', 'seeing', 'poorservice'], tags=['732']),\n",
       " TaggedDocument(words=['united', 'checking', 'status', 'claim', 'going', '2', 'months', 'attention', 'upset'], tags=['733']),\n",
       " TaggedDocument(words=['united', 'flight', 'delayed', 'due', 'maintenance', 'lit', 'caused', 'miss', 'connection', 'iah', 'msy', 'help'], tags=['734']),\n",
       " TaggedDocument(words=['united', 'unitedairlines', 'pls', 'fix', 'aspenbaggagefail', 'issues', 'pay', 'way', 'aspen', 'flight', 'cancelled', 'flight', 'left', 'us', 'cold', 'den'], tags=['735']),\n",
       " TaggedDocument(words=['united', 'read', 'bio', 'see', 'work', 'never', 'encountered', 'airline', 'disappointed', 'understatement'], tags=['736']),\n",
       " TaggedDocument(words=['united', 'customer', 'care', 'email', 'phone', 'rep', 'speak', 'many', 'issues', 'placed', '2000', 'characters'], tags=['737']),\n",
       " TaggedDocument(words=['thank', 'united', 'truu', 'tall', 'certainly', 'take', 'look', 'please', 'follow', 'dm', 'confirmation', 'number', 'assistance', 'jh'], tags=['738']),\n",
       " TaggedDocument(words=['united', 'process', 'recovering', 'car', 'rental', 'condo', 'rental', 'florida', 'called', 'united', 'alternate', 'flight', 'noanswer'], tags=['739']),\n",
       " TaggedDocument(words=['united', 'thanks', 'listening', 'definitely', 'person', 'line', 'thought', 'absurd'], tags=['740']),\n",
       " TaggedDocument(words=['united', 'waiting', 'tarmac', 'gt', '1hr', 'apparently', 'ua1116', 'overweight', 'amp', 'returned', 'gate', 'wtf', 'fb'], tags=['741']),\n",
       " TaggedDocument(words=['united', 'thank', 'mention', 'boarded', 'asked', '1other', 'person', 'measure', 'bag', 'another', 'woman', 'men', 'asked'], tags=['742']),\n",
       " TaggedDocument(words=['united', 'leave', 'tarmac', 'united', 'gate', 'agent', 'can', 'not', 'agree', 'head', 'count', '20', 'min', 'counting', '100', 'people', 'max', 'epicfailunited'], tags=['743']),\n",
       " TaggedDocument(words=['united', 'real', 'dedication', 'amp', 'concern', 'apologies', 'fix', 'issue', 'miserable', 'issues', 'past', '6', 'mos'], tags=['744']),\n",
       " TaggedDocument(words=['united', 'blocked', 'dm', 'ing', 'would', 'rather', 'complain', 'public', 'forum'], tags=['745']),\n",
       " TaggedDocument(words=['united', 'ok', 'submitted', 'thanks', 'opportunity', 'give', 'feedback'], tags=['746']),\n",
       " TaggedDocument(words=['united', 'big', 'thanks', 'ms', 'winston', 'assisting', 'phone', 'baggage', 'claim', 'issue', 'today', 'really', 'went', 'extra', 'mile'], tags=['747']),\n",
       " TaggedDocument(words=['united', 'soon', 'done', 'article', 'thanks', 'tom'], tags=['748']),\n",
       " TaggedDocument(words=['united', 'booked', 'flights', '2', '779', 'charged', '389', '50', 'twice', 'means', 'redeem', 'cc', 'points', 'properly', 'would', 'gone', 'elsewhere'], tags=['749']),\n",
       " TaggedDocument(words=['united', 'ton', 'problems', 'getting', 'bags', 'given', 'run', 'around', 'day', 'whats'], tags=['750']),\n",
       " TaggedDocument(words=['united', 'pedophile', 'airline', 'split', '10', 'yr', 'old', 'daughter', 'rows', 'apart', 'flight', '1254', 'boston'], tags=['751']),\n",
       " TaggedDocument(words=['united', 'waiting', '2', 'days', 'military', 'bags', 'airport', '3', 'hours', 'away', 'horrible'], tags=['752']),\n",
       " TaggedDocument(words=['united', 'arriving', '25', 'minutes', 'early', 'nice', 'equipment', 'ready', 'waiting', '30', 'minutes', 'luggage', 'far', 'time', 'gains', 'wiped'], tags=['753']),\n",
       " TaggedDocument(words=['united', 'musicians', 'real', 'dirty', 'lax', 'never', 'blocked', 'getting', 'flight', 'bass'], tags=['754']),\n",
       " TaggedDocument(words=['united', 'rebooked', 'line', '300', 'people', 'deep'], tags=['755']),\n",
       " TaggedDocument(words=['united', 'flyeia', 'yes', 'said', 'took', 'hour'], tags=['756']),\n",
       " TaggedDocument(words=['united', 'whose', 'pay', 'actually', 'fly', '30k', 'year', 'deserve', 'better', 'service', 'cc', 'holder'], tags=['757']),\n",
       " TaggedDocument(words=['united', 'ok', 'thank', 'help'], tags=['758']),\n",
       " TaggedDocument(words=['united', 'happy', 'flyer', 'ua', 'flight', '1161', 'sfo', 'cleveland', 'sunday', '2', '22', 'stay', 'tuned', 'blog', 'article', 'http', 'co', 'vdfdodqvgx'], tags=['759']),\n",
       " TaggedDocument(words=['united', 'flight', '1491', 'plane', 'sfo', 'den', 'basically', 'time'], tags=['760']),\n",
       " TaggedDocument(words=['united', 'thanks', 'program', 'comment', 'system', 'assigned', 'seats', 'behind', 'even', 'though', 'pairs', 'available', 'changed', 'back'], tags=['761']),\n",
       " TaggedDocument(words=['united', '20', 'min', 'delays', 'flt', '2086', 'sfo', '2', 'load', '2', 'pax', 'makes', 'sense', 'strand', 'many', 'us', 'overnight', 'ord', 'due', 'missed', 'cnxns'], tags=['762']),\n",
       " TaggedDocument(words=['united', 'heads', 'check', '8', 'bags', '2', 'checked', 'arrived', 'claim', '2', 'people', 'bags', 'http', 'co', 'dplq3mhqgd'], tags=['763']),\n",
       " TaggedDocument(words=['united', 'must', 'drone', 'united', 'keambleam', 'understand', 'frustration', 'bag', 'team', 'working', 'hard', 'get', 'bag'], tags=['764']),\n",
       " TaggedDocument(words=['united', 'change', 'made', '3', 'hours', 'something', 'taken', 'seconds', 'online', 'thrilled', 'loved', 'agent', 'though'], tags=['765']),\n",
       " TaggedDocument(words=['united', 'flight', 'attendant', 'understand', 'understanding', 'english', 'mean', 'deaf', 'stop', 'yelling', 'english', 'slowly'], tags=['766']),\n",
       " TaggedDocument(words=['united', 'appropriate', 'ask', 'public', 'hence', 'dm', 'united', 'employee', 'new', 'answer', 'process', 'hassle', 'cancelled', 'flighted'], tags=['767']),\n",
       " TaggedDocument(words=['united', 'well', 'big', 'terribly', 'high', 'expectations', 'point'], tags=['768']),\n",
       " TaggedDocument(words=['united', 'like', 'trying', 'make', 'hate', 'airline', 'fee', 'checked', 'bag', 'never', 'mentioned', 'ticket', 'rude', 'agents'], tags=['769']),\n",
       " TaggedDocument(words=['united', 'nice', 'app', 'says', 'us', '4972', 'delayed', 'weather', 'pilot', 'says', 'waiting', 'fuel', 'one', 'ur', 'control', 'one'], tags=['770']),\n",
       " TaggedDocument(words=['united', 'please', 'robin', 'ewr', 'premiere', 'desk', 'helping', 'get', 'earlier', 'flight', 'work', 'huge', 'thanks'], tags=['771']),\n",
       " TaggedDocument(words=['united', 'ok', 'thank', 'provide', 'complimentary', 'hotel', 'accommodations', 'since', 'stay', 'overnight'], tags=['772']),\n",
       " TaggedDocument(words=['united', 'originally', 'trying', 'share', 'details', 'link', 'jimmy', 'samartzis', 'vice', 'president', 'customer', 'experience', 'sent', 'expired'], tags=['773']),\n",
       " TaggedDocument(words=['united', 'really', '3', 'hr', 'delay', '4', 'gate', 'changes', 'amp', 'boarded', 'us', 'sent', 'us', 'back', 'amp', 'boarded', 'us', 'change', 'flight', 'go'], tags=['774']),\n",
       " TaggedDocument(words=['united', 'would', 'help', 'integrate', 'app', 'activate', 'surf'], tags=['775']),\n",
       " TaggedDocument(words=['united', 'ac', 'went', '20', 'minutes', 'returning', 'mojave', 'desert', 'pressurecooker', 'heattrap'], tags=['776']),\n",
       " TaggedDocument(words=['united', 'nope', 'still', 'one', 'helped', 'giving', 'united', 'badservice'], tags=['777']),\n",
       " TaggedDocument(words=['united', 'airline', 'causes', 'missed', 'connection', 'u', 'would', 'think', 'would', 'take', 'whatever', 'steps', 'remedy', 'screw'], tags=['778']),\n",
       " TaggedDocument(words=['united', 'thank', 'help', 'taking', '6', 'hours', 'reply', 'get', 'message', 'middle', 'night', 'actually', 'helpful'], tags=['779']),\n",
       " TaggedDocument(words=['united', 'flight', 'ua1270', 'descending', 'farce', 'left', 'ewr', 'yet', 'going', 'get', 'worse'], tags=['780']),\n",
       " TaggedDocument(words=['united', 'told', 'due', 'ua23', 'flies', 'direct', 'dublin', 'go', 'london', 'complete', 'shambles'], tags=['781']),\n",
       " TaggedDocument(words=['united', '45', 'min', 'ewr', 'baggage', 'claim', 'stillnobags', 'ridiculous'], tags=['782']),\n",
       " TaggedDocument(words=['united', 'standby', 'denver', 'delayed', 'confirmed', 'aspen', 'whose', 'flights', 'cancelled', 'flighted', 'day', '0', 'confidence'], tags=['783']),\n",
       " TaggedDocument(words=['united', 'yes', '2am', 'back', 'plane', 'delayed', 'due', 'baggage', 'loading', 'issue', 'http', 'co', 'nfaqhhr09j'], tags=['784']),\n",
       " TaggedDocument(words=['united', 'pt', 'u', 'cancelled', 'flight', 'finally', 'got', 'stndby', '4', '1pm', 'flight', 'day', 'missedwork', 'clientnothappy', 'http', 'co', 'suprlfoi8t'], tags=['785']),\n",
       " TaggedDocument(words=['united', 'thank', 'kindness', 'agents', 'went', 'amp', 'beyond', 'get', 'stranded', 'family', 'home'], tags=['786']),\n",
       " TaggedDocument(words=['united', 'see', 'justifiable', 'cost', 'get', 'early', 'flight', 'seats', 'airline', 'charges', 'conveniently', 'get', 'passengers', 'early'], tags=['787']),\n",
       " TaggedDocument(words=['united', 'woke', 'notification', 'flight', 'moved', '1', '5', 'hrs', 'early', 'barely', 'made', 'flight', '3', 'hrs', 'layover', 'sfo', 'wanted', 'hop', 'earlier', 'option'], tags=['788']),\n",
       " TaggedDocument(words=['united', 'delayed', 'baggage', 'claim', 'land', 'hopefully', 'bag', 'broken', 'damaged', 'lost', 'w', 'c', 'result', 'complaints'], tags=['789']),\n",
       " TaggedDocument(words=['united', 'done', 'want', 'send', 'screen', 'shot', 'second', 'call', '45', 'minutes'], tags=['790']),\n",
       " TaggedDocument(words=['united', 'look', 'beauty', 'dc', '10', 'united', 'airlines', 'http', 'co', 'mvyoizrpde'], tags=['791']),\n",
       " TaggedDocument(words=['united', 'thanks', 'fill', 'form', 'soon', 'land', 'like', 'duped', 'hope', 'appreciate', 'feedback', 'amp', 'better'], tags=['792']),\n",
       " TaggedDocument(words=['united', 'line', 'denver', 'rebook', 'due', 'weather', 'issues', 'better', 'http', 'co', 'tmccexyaaq'], tags=['793']),\n",
       " TaggedDocument(words=['united', 'ones', 'suffer', 'understand', 'delays', 'understand', 'trying', 'speed', 'process', 'delays', 'extent'], tags=['794']),\n",
       " TaggedDocument(words=['united', '2', 'cancelled', 'flighted', 'flights', 'late', 'flightr', 'agent', 'claimed', 'put', 'new', 'flight', 'cancelled', 'flighted', 'coworker', 'got', 'flight', 'delayed'], tags=['795']),\n",
       " TaggedDocument(words=['united', 'urgency', 'ridiculous', 'ceo', 'claims', 'customer', 'focused', 'yet', 'delays', 'happen', 'planes', 'sit', 'customers'], tags=['796']),\n",
       " TaggedDocument(words=['united', 'asking', 'full', 'refund', 'delaying', '3', 'hours', 'giving', 'reason', 'enough', 'give', 'partial', 'credit'], tags=['797']),\n",
       " TaggedDocument(words=['united', 'flight', 'scheduled', '11', '56', '1', '05', 'moved', 'never', 'flight', 'everyone', 'moved', 'without', 'sense'], tags=['798']),\n",
       " TaggedDocument(words=['united', 'ok', 'thx'], tags=['799']),\n",
       " TaggedDocument(words=['united', 'go', 'hell'], tags=['800']),\n",
       " TaggedDocument(words=['united', 'since', 'bulkhead', 'seats', 'can', 'not', 'bags', 'floor', 'u', 'reserve', 'head', 'space', 'seats', '1b', 'ua246', 'impressed'], tags=['801']),\n",
       " TaggedDocument(words=['united', 'would', 'helpful', 'could', 'refresh', 'boarding', 'time', 'info', 'boarding', 'passes', 'delayed', 'flights'], tags=['802']),\n",
       " TaggedDocument(words=['united', '18', 'flights', 'far', 'year', '13', 'delays', 'including', '2', 'cancelled', 'flightations', 'late', 'flightst', 'reason', 'crew', 'needed', 'mandatory', 'sleep', 'mexico'], tags=['803']),\n",
       " TaggedDocument(words=['united', 'great', 'hear', 'thankyou', 'much', 'greatly', 'appreciate', 'replies', 'feel', 'much', 'settled'], tags=['804']),\n",
       " TaggedDocument(words=['united', 'counter', 'agents', 'rdu', 'deserve', 'medal', 'thankyou'], tags=['805']),\n",
       " TaggedDocument(words=['saga', 'melissaafrancis', 'bag', 'delay', 'w', 'united', 'reunion', 'forced', 'go', 'shopping', 'stay', 'tuned'], tags=['806']),\n",
       " TaggedDocument(words=['united', 'flight', '211', 'ord', 'gate', 'agent', 'tried', 'prevent', 'taking', 'onboard', 'bag', 'used', '15', 'years', 'flight', 'crew', 'reasonable'], tags=['807']),\n",
       " TaggedDocument(words=['united', 'thank', 'literally', 'called', 'preboarding', 'ran'], tags=['808']),\n",
       " TaggedDocument(words=['united', 'guys', 'split', 'charges', 'credit', 'cards', 'making', 'unnecessarily', 'expensive', 'people', 'fly', 'guys', 'pts'], tags=['809']),\n",
       " TaggedDocument(words=['united', 'ua381', '14', 'feb', 'point', 'overselling', 'flights', 'bad', 'making', 'people', 'wait', '1hr', 'kick', 'boarding', 'worse'], tags=['810']),\n",
       " TaggedDocument(words=['united', 'brilliant', 'thankyou', 'much', 'classed', 'part', 'carryon'], tags=['811']),\n",
       " TaggedDocument(words=['united', 'thank', 'listening', 'compliant', 'right', 'thing', 'appreciate', 'working'], tags=['812']),\n",
       " TaggedDocument(words=['united', 'since', '3am', 'cancelled', 'flightled', 'flight', 'twice'], tags=['813']),\n",
       " TaggedDocument(words=['united', 'chance', 'wait', 'ord', 'afternoon', 'another', 'flight', 'screwed', 'hold', '5396'], tags=['814']),\n",
       " TaggedDocument(words=['united', 'ua5396', 'wait', 'ground', 'trying', 'get', 'gate', 'moved', 'b', 'crap'], tags=['815']),\n",
       " TaggedDocument(words=['united', 'mex', 'nrt', 'dates', 'tbd', 'getting', '200', '300', 'usd', 'difference', 'quotations', 'september', 'compared', 'mex', 'bkk'], tags=['816']),\n",
       " TaggedDocument(words=['united', 'better', 'keep', 'connection', 'ord', 'fwa', 'boards', 'ten', 'minutes', 'open', 'get', 'plane', 'landed', 'hour', 'late', 'flight'], tags=['817']),\n",
       " TaggedDocument(words=['united', 'united', 'gold', 'number', 'hold', '24', 'minutes', 'think', 'may', 'lost', 'nowhereland', 'gold', 'reservation', 'help'], tags=['818']),\n",
       " TaggedDocument(words=['united', 'great', 'ready', 'go', 'home'], tags=['819']),\n",
       " TaggedDocument(words=['united', 'wow', 'even', 'answered', 'back', 'awesome', 'americanair', 'usairways', 'customer', 'service', 'usairwaysfail'], tags=['820']),\n",
       " TaggedDocument(words=['united', 'noooooooooooooooooooooope'], tags=['821']),\n",
       " TaggedDocument(words=['united', 'oh', 'sure', 'planned', 'occurs', 'absolutely', 'consistently', 'usually', 'yyj', 'flight', 'cancelled', 'flightled', 'daily'], tags=['822']),\n",
       " TaggedDocument(words=['united', 'jms2802', 'outsource', 'united', 'airlines', 'customers', 'loving', 'outsource', 'outsource', 'outsource'], tags=['823']),\n",
       " TaggedDocument(words=['united', 'thank', 'need', 'follow', 'back', 'tho', 'otherwise', 'dm', 'x'], tags=['824']),\n",
       " TaggedDocument(words=['united', 'getting', 'better', 'suggest', 'get', 'senior', 'manager', 'gate', 'retrain', 'gate', 'people'], tags=['825']),\n",
       " TaggedDocument(words=['united', 'jms2802', 'nothing', 'like', 'supporting', 'mechanics', 'maintenance', 'workers', 'instead', 'united', 'puts', 'video', 'timco', 'wifi'], tags=['826']),\n",
       " TaggedDocument(words=['united', 'sent', 'thanks'], tags=['827']),\n",
       " TaggedDocument(words=['united', 'already', 'missed', 'connection', 'ugh'], tags=['828']),\n",
       " TaggedDocument(words=['united', 'jms2802', 'sure', 'show', 'video', 'outsourced', 'favorite', 'timco', 'knack', 'substandard', 'maintenance', 'work', 'aircraft'], tags=['829']),\n",
       " TaggedDocument(words=['united', 'formally', 'complain', 'customer', 'service', 'handler', 'misconnected', 'denied', 'boarding', 'amp', 'lost', 'bag', 'help'], tags=['830']),\n",
       " TaggedDocument(words=['united', 'lot', 'unhappy', 'cold', 'people', 'bridge', 'freezing', 'temps', 'hour', 'given', 'info'], tags=['831']),\n",
       " TaggedDocument(words=['united', 'flight', '3763', 'iad', 'sat', 'outdoor', 'track', 'hour'], tags=['832']),\n",
       " TaggedDocument(words=['united', 'seriously', '2015', 'wifi', '5hr', 'flight', 'cle', 'sfo', '1589', 'airline', 'w', 'wifi', 'pls', 'unwind', 'bs'], tags=['833']),\n",
       " TaggedDocument(words=['united', 'u', 'would', 'able', 'rebook', 'get', 'home', 'sooner', '2hr', 'delayed', 'flight', 'linesforever', 'customerservice', 'fail'], tags=['834']),\n",
       " TaggedDocument(words=['united', 'reason', 'whole', 'travel', 'experience', 'nightmare'], tags=['835']),\n",
       " TaggedDocument(words=['united', 'pointless', 'tweet', 'least', 'americanair', 'asked', 'follow', 'try', 'resolve'], tags=['836']),\n",
       " TaggedDocument(words=['united', 'even', 'apology'], tags=['837']),\n",
       " TaggedDocument(words=['united', 'cool'], tags=['838']),\n",
       " TaggedDocument(words=['united', 'seriously', '2015', 'wifi', '5hr', 'flight', 'cle', 'sfo', '1589', 'airline', 'without', 'wifi'], tags=['839']),\n",
       " TaggedDocument(words=['united', 'b4', 'boarding', 'attendant', 'took', 'shoe', 'amp', 'sock', 'desk', 'showed', 'agents', 'foot', 'gross', 'http', 'co', '755vpym4mv'], tags=['840']),\n",
       " TaggedDocument(words=['united', 'unitedairlines', '6', '20', 'pm', '12', '20', 'ord', 'abq', '3709', 'even', 'take', 'walk', 'without', 'missing', 'change'], tags=['841']),\n",
       " TaggedDocument(words=['united', 'hopefully', 'baggage', 'fees', 'waived', 'tomorrow', 'actually', 'get', 'flight', 'well', 'compensation', 'hotel', 'room'], tags=['842']),\n",
       " TaggedDocument(words=['united', 'either', 'fine', 'however', 'plundering', 'hard', 'earned', 'dollars', 'fine'], tags=['843']),\n",
       " TaggedDocument(words=['united', 'sfo', 'yyj', 'fight', 'cancelled', 'flightled', 'several', 'times', 'week', 'even', 'bother'], tags=['844']),\n",
       " TaggedDocument(words=['united', 'waiting', 'new', 'pilot', 'door', 'plane', 'broke', 'global', 'services', 'status', 'airline', 'unsafe', 'stunning'], tags=['845']),\n",
       " TaggedDocument(words=['united', 'get', 'reimbursed', 'hotel', 'taxis', 'cancelled', 'flightation'], tags=['846']),\n",
       " TaggedDocument(words=['united', 'awesome', 'flight', 'crew', 'ua1589', 'plane', 'jurassic', 'period', 'called', 'want', 'dinosaur', 'plane', 'back'], tags=['847']),\n",
       " TaggedDocument(words=['united', '2015', 'united', 'unable', 'look', 'flight', 'reservation', 'passenger', 'name', 'yyz', 'check', 'counter', 'wow', 'smh', 'customerservice'], tags=['848']),\n",
       " TaggedDocument(words=['united', 'e', 'ticket', '0162389030167', 'refund', 'request', '16866853', 'case', 'id', '8465981'], tags=['849']),\n",
       " TaggedDocument(words=['united', 'phone', 'hour', 'customer', 'service', 'figure', 'awesome', 'service'], tags=['850']),\n",
       " TaggedDocument(words=['united', 'really', 'know', 'piss', 'people', 'farelock', 'option', 'fake'], tags=['851']),\n",
       " TaggedDocument(words=['united', 'last', 'week', 'shanghai', 'sfo', '858', 'delay', '5hrs', 'bc', 'engine', 'today', 'sfo', 'sea', 'delay', 'sick', 'pilot', 'compensation', 'care'], tags=['852']),\n",
       " TaggedDocument(words=['united', 'thing', 'confusing', 'lost', 'priority', 'boarding', 'mileage', 'plus', 'card', 'member'], tags=['853']),\n",
       " TaggedDocument(words=['united', 'hoping', 'hear', 'actually'], tags=['854']),\n",
       " TaggedDocument(words=['united', 'shes', 'rescheduled', 'today', 'frigid', 'cold', 'possible', 'reason', 'maintenance', 'could', 'issue', '2day'], tags=['855']),\n",
       " TaggedDocument(words=['united', 'fact', 'international', 'bag', 'sense', 'going', 'maintenance'], tags=['856']),\n",
       " TaggedDocument(words=['united', 'b', 'contacted', 'directly', 'phone', 'service', 'laissez', 'faire', 'best', 'problem', 'cancelled', 'flightled', 'flight'], tags=['857']),\n",
       " TaggedDocument(words=['united', 'international', 'phone', 'fritz', 'get', 'chicago', 'nearly', '4', 'hrs', 'away', 'figure', 'everything'], tags=['858']),\n",
       " TaggedDocument(words=['united', 'sorry', 'delayed', 'response', 'ua', '381', 'chicago', 'san', 'fran', 'held', 'almost', 'hour', 'tarmac', 'also', 'lost', 'bags'], tags=['859']),\n",
       " TaggedDocument(words=['united', 'okay', 'thanks', 'could', 'please', 'update', 'told', 'airport', 'someone', 'would', 'call', 'today'], tags=['860']),\n",
       " TaggedDocument(words=['united', 'thank', 'much', 'help', 'pick', 'bags', 'aspen', 'airport', 'amp', 'coming', 'today', 'flight911'], tags=['861']),\n",
       " TaggedDocument(words=['united', 'gate', 'c', '24', 'iad', 'u', 'released', 'passengers', 'board', 'w', 'others', 'deplaning', '50', 'peopleon', 'bridge', 'next', 'flight', 'board', 'http', 'co', 'hfof33iyhi'], tags=['862']),\n",
       " TaggedDocument(words=['united', 'say', 'public', 'extend', 'vacation', 'week', 'point', 'advertise', 'multiple', 'flights', 'honor'], tags=['863']),\n",
       " TaggedDocument(words=['united', 'cancelled', 'flights', 'flt', 'ewr', 'crew', 'tells', 'wife', 'amp', '4', 'yr', 'old', 'get', 'ny', 'catch', 'aircanada', 'yyz', 'good', 'customerservice', 'dead'], tags=['864']),\n",
       " TaggedDocument(words=['united', 'arriving', 'day', 'half', 'late', 'flightr', 'supposed', 'lesson', 'day', 'believe', 'verbal', 'written', 'confirmations', 'united'], tags=['865']),\n",
       " TaggedDocument(words=['united', 'arriving', 'airport', '2', 'hours', 'departure', 'time', 'still', 'missing', 'flight', 'bc', 'actually', 'electronic', 'ticket'], tags=['866']),\n",
       " TaggedDocument(words=['united', '1', '75', 'hour', 'delay', 'nothing', 'says', 'sorry', 'like', 'voucher', 'missing', 'time', 'family', 'family', 'precioustime'], tags=['867']),\n",
       " TaggedDocument(words=['united', 'two', 'whole', 'people', 'trying', 'schedule', 'flight', 'worth', 'missed', 'connections', 'shameful', 'http', 'co', '6kqlhvap7g'], tags=['868']),\n",
       " TaggedDocument(words=['united', 'unfriendly', 'screw', 'family', 'hates', 'kids', 'moms', 'waiting', 'ua871', 'pray', 'better', 'fyvrfn', 'due', 'agent', 'error', 'tickt'], tags=['869']),\n",
       " TaggedDocument(words=['united', 'gate', 'agent', 'ewr', 'disabled', 'wheel', 'chair', 'time', 'board', 'please', 'step', 'step', 'lol'], tags=['870']),\n",
       " TaggedDocument(words=['united', 'help', 'done'], tags=['871']),\n",
       " TaggedDocument(words=['united', 'forces', 'us', 'check', 'baby', 'bag', 'overbooked', 'flight', 'complains', 'wife', 'need', 'much', 'baby', 'united', 'baby', 'meals'], tags=['872']),\n",
       " TaggedDocument(words=['united', 'would', 'love', 'help', 'getting', 'today', 'ewr', 'take', 'airline', 'connections', 'thx'], tags=['873']),\n",
       " TaggedDocument(words=['united', 'today', 'take', 'flight', 'san', 'francisco', 'refuse', 'let', 'us', 'board', 'baby', 'early', 'time', 'board', 'wont', 'let', 'us', 'take', 'baby', 'carryon', 'bag'], tags=['874']),\n",
       " TaggedDocument(words=['united', 'four', 'scheduled', 'flights', 'reservation', 'literally', 'take', 'one', 'unreal'], tags=['875']),\n",
       " TaggedDocument(words=['united', 'ord', 'hotel', 'issued', '4yr', 'old', 'tickets', 'needed', 'fixing', 'another', 'hour', '5', 'agents', 'l8r', 'nightmare', 'still'], tags=['876']),\n",
       " TaggedDocument(words=['united', '3', 'hours', 'rebook', '8', 'hours', 'l8r', 'problem', 'arrive', 'gate', 'stopped', 'cause', 'infant', 'sitting', '4', 'yr', 'old', 'lap'], tags=['877']),\n",
       " TaggedDocument(words=['united', 'arrived', 'yyz', 'take', 'flight', 'taiwan', 'reservation', 'missing', 'ticket', 'numbers', 'slow', 'agent', 'sukhdeep', 'caused', 'us', 'miss', 'flt'], tags=['878']),\n",
       " TaggedDocument(words=['united', 'thank'], tags=['879']),\n",
       " TaggedDocument(words=['united', 'thanks', 'update'], tags=['880']),\n",
       " TaggedDocument(words=['united', 'three', 'people', 'awesome', 'working', 'long', 'hours', 'easy', 'say', 'sorry', 'twitter', 'help', 'ppl', 'ewr'], tags=['881']),\n",
       " TaggedDocument(words=['united', 'guess', 'excuse', 'understaffed', 'costumer', 'services', '3', 'people', 'deal', 'lots', 'angry', 'passengers', 'weather'], tags=['882']),\n",
       " TaggedDocument(words=['united', 'cancelled', 'flightled', 'wife', 'daughter', 'flt', 'going', 'follow', 'dm', 'details'], tags=['883']),\n",
       " TaggedDocument(words=['united', 'departed', 'awaiting', 'inbound', 'plane', 'yesterday', 'three', 'hours', 'never', 'arrived', 'stay', 'overnight'], tags=['884']),\n",
       " TaggedDocument(words=['united', 'confirmed', 'seat', 'crisis', 'averted', 'beers', 'missed'], tags=['885']),\n",
       " TaggedDocument(words=['united', 'english', 'dm', 'though', 'think', 'make', 'plane', 'appear'], tags=['886']),\n",
       " TaggedDocument(words=['united', 'looks', 'like', 'today', '6th', 'consecutive', 'delayed', 'flight', 'win', 'prize', 'southwest', 'air', 'fly', 'sba'], tags=['887']),\n",
       " TaggedDocument(words=['united', 'sitting', 'plane', 'pilot', 'thanks', 'waitingonapilot', 'denver', 'siouxfalls', 'whyairtravelsucks'], tags=['888']),\n",
       " TaggedDocument(words=['united', 'understood', 'thanks', 'tried', 'reaching', 'sooner'], tags=['889']),\n",
       " TaggedDocument(words=['united', 'already', 'done', 'answer', 'got', 'oops', 'give', 'miles', 'sorry', 'pays', 'discomfort', '9', 'h'], tags=['890']),\n",
       " TaggedDocument(words=['united', 'received', 'hotel', 'food', 'also', 'email', '3750', 'miles', 'last', 'trip', '3', 'hr', 'delay', '5000', 'miles', 'less', 'cancelled', 'flightlation'], tags=['891']),\n",
       " TaggedDocument(words=['united', 'know', 'ua5282', 'delayed', 'x2', 'getting', 'crazy', 'already', '2', 'overnight', 'delays', 'unitedairlines'], tags=['892']),\n",
       " TaggedDocument(words=['united', 'frustratingly', 'delay', 'happened', 'either', 'gate', 'even', 'onboard', 'aircraft', 'heads', 'advance'], tags=['893']),\n",
       " TaggedDocument(words=['united', 'den', 'b44', 'agent', '9', '30am', 'amazing', 'mpagent', 'check', 'sucks', 'seanmfmadden', 'peterstraubmma', 'jmercadomma', 'tonysimsmma'], tags=['894']),\n",
       " TaggedDocument(words=['united', 'ua3426', '2', '19', 'also', 'delayed', '2', 'hours', 'stretching', 'trip', 'way', 'past', 'midnight', 'extremely', 'exhausting'], tags=['895']),\n",
       " TaggedDocument(words=['united', 'ha', 'rebooked', '11', 'hr', 'layover', 'amp', 'robbing', 'night', 'family', 'late', 'flight', 'fly', 'time'], tags=['896']),\n",
       " TaggedDocument(words=['united', 'switched', 'fly', 'united', 'delta', 'past', 'two', 'trips', 'disappointed', 'ua4646', '2', '23', 'delayed', '3', 'hours'], tags=['897']),\n",
       " TaggedDocument(words=['united', 'traveling', 'megzezzo', 'injured', 'gate', 'agent', 'chicago', 'awesome', 'helping', 'ty', 'roadwarrior'], tags=['898']),\n",
       " TaggedDocument(words=['united', 'unitedairlines', 'long', 'will1531', 'delayed'], tags=['899']),\n",
       " TaggedDocument(words=['united', 'flight', 'status', 'updated', 'delayed', 'ua1532', 'board'], tags=['900']),\n",
       " TaggedDocument(words=['united', 'paid', 'economy', 'plus', 'put', 'last', 'boarding', 'group', 'gate', 'check', 'bags', 'virginamerica', 'knows', 'better'], tags=['901']),\n",
       " TaggedDocument(words=['united', 'travelled', 'scl', 'iha', 'feb', '17', 'ac', 'sit', '21l', 'night', 'complaint', 'fa', 'never', 'gave', 'real', 'answer', 'help'], tags=['902']),\n",
       " TaggedDocument(words=['united', 'suck', '9', 'hour', 'delay'], tags=['903']),\n",
       " TaggedDocument(words=['united', 'worst', 'airline', 'world', 'crap', 'website', 'worthless', 'app', 'late', 'flight', 'flight', 'suck', 'shut'], tags=['904']),\n",
       " TaggedDocument(words=['united', 'jh', 'thanks', 'much', 'reaching', 'able', 'get', 'assistance', 'waiting', '70', 'minutes'], tags=['905']),\n",
       " TaggedDocument(words=['united', '3866', 'stand', 'still', 'pilot', 'paperwork', 'fix', '25mins', 'problem', 'fixed', '30mins', 'ago', 'flight', 'delayed'], tags=['906']),\n",
       " TaggedDocument(words=['united', 'reasonable', 'wait', '45', 'mins', 'bag', 'made', 'check', 'flight', 'staff', 'police', 'overhead', 'bins'], tags=['907']),\n",
       " TaggedDocument(words=['united', 'please', 'msg', 'customer', 'service', 'invoice', 'dry', 'cleaning', 'able', 'take', 'wet', 'clothes', 'airport'], tags=['908']),\n",
       " TaggedDocument(words=['united', 'hour', 'delay', 'print', 'piece', 'paper'], tags=['909']),\n",
       " TaggedDocument(words=['united', 'still', 'response'], tags=['910']),\n",
       " TaggedDocument(words=['united', 'able', 'get', 'seat', 'assign', 'without', 'paying', '174', 'cust', 'sec', 'done'], tags=['911']),\n",
       " TaggedDocument(words=['united', 'reference', 'number', 'agent', 'told', 'drive', 'airport', 'reach', 'anyone', 'deliver'], tags=['912']),\n",
       " TaggedDocument(words=['united', 'slightly', 'better', 'crew', 'spent', 'long', 'time', 'searching', 'better', 'altitude', 'would', 'helped', 'let', 'pax', 'sharp', 'drops'], tags=['913']),\n",
       " TaggedDocument(words=['united', 'credit', 'card', 'charged', 'transaction', 'told', 'would', 'charge', 'goes', 'contacting'], tags=['914']),\n",
       " TaggedDocument(words=['united', 'pqms', 'pqds', 'longer', 'showing', 'correctly', 'mileageplus', 'acct', 'get', 'fixed'], tags=['915']),\n",
       " TaggedDocument(words=['united', 'thanks'], tags=['916']),\n",
       " TaggedDocument(words=['united', '768', 'sfo', 'bos', 'internet', '2015', 'gives'], tags=['917']),\n",
       " TaggedDocument(words=['united', 'worst', 'worst', 'reservation', 'policies', 'worst', 'costumer', 'service', 'worst', 'worst', 'worst', 'congrats', 'delta', 'bad'], tags=['918']),\n",
       " TaggedDocument(words=['united', 'trying', 'make', 'change', 'reservations', 'getting', 'extremely', 'frustrated', 'giving', 'trying', 'another', 'airline'], tags=['919']),\n",
       " TaggedDocument(words=['united', 'got', 'email', 'update', 'still', 'eta', 'communication', 'details', 'apology', 'info', 'compensation', 'rights', 'would', 'go', 'long', 'way'], tags=['920']),\n",
       " TaggedDocument(words=['united', 'late', 'flight', 'crew', 'btv', 'last', 'nite', 'delayed', 'todays', 'flt', 'miss', 'connection', 'cun', 'play', 'hotel', 'tonight', 'ewr'], tags=['921']),\n",
       " TaggedDocument(words=['united', 'called', 'check', 'worstcustomerservice'], tags=['922']),\n",
       " TaggedDocument(words=['united', 'passengers', 'rerouted', 'match', 'intended', 'arrival', 'time', 'even', 'incur', 'cost', 'put', 'us', 'airlines'], tags=['923']),\n",
       " TaggedDocument(words=['united', 'solved', 'finally', 'picked', 'second', 'time', 'called', 'thanks', 'response', 'jh', '7', '21', 'dulles', 'works'], tags=['924']),\n",
       " TaggedDocument(words=['united', 'need', 'work', 'united', 'flierfriendly', 'program', 'least', 'clue', 'flight', 'attendants'], tags=['925']),\n",
       " TaggedDocument(words=['united', 'space', 'doctors', 'notes', 'everything', 'first', 'trip', 'lost', 'first', 'suitcase', 'among', 'issues', 'pleased', 'united'], tags=['926']),\n",
       " TaggedDocument(words=['united', 'new', 'flierfriendly', 'garbage', 'cry', 'get', 'attendant', 'find', 'place', 'medical', 'supplies', 'limited', 'overhead'], tags=['927']),\n",
       " TaggedDocument(words=['united', 'epic', 'fail', 'reagan', 'jetway', '15', 'mins', 'tarmac'], tags=['928']),\n",
       " TaggedDocument(words=['united', 'thanks', 'link', 'finally', 'arrived', 'brussels', '9', 'h', 'schedule'], tags=['929']),\n",
       " TaggedDocument(words=['united', '2nd', 'flight', 'two', 'weeks', 'lost', 'bag', 'taking', '1k', 'status', 'americanair', 'neveragain', 'worstcustomerservice'], tags=['930']),\n",
       " TaggedDocument(words=['united', 'ua1130', 'flight', 'nightmare', 'poor', 'customer', 'service', 'confirmed', 'seat', 'given', 'away', 'issues'], tags=['931']),\n",
       " TaggedDocument(words=['united', 'best', 'customer', 'experience', 'via', 'twitter', 'huge', 'fan'], tags=['932']),\n",
       " TaggedDocument(words=['united', 'flight', '683', 'last', 'night', 'bad4business', 'long', 'time', 'recommend', 'united', 'anyone'], tags=['933']),\n",
       " TaggedDocument(words=['united', 'beyond', 'frustrated', 'sked', 'change', 'seats', 'earlier', 'departure', 'double', 'layover', 'course', 'seats', 'cust', 'svc', 'help'], tags=['934']),\n",
       " TaggedDocument(words=['united', 'working', 'lisa', 'j', 'ord', 'working', 'hard', 'us', 'still', 'disappointing', '634', 'ewr'], tags=['935']),\n",
       " TaggedDocument(words=['united', 'love', 'new', '1st', 'class', 'breakfast'], tags=['936']),\n",
       " TaggedDocument(words=['united', 'emailed', 'customer', 'care', 'via', 'website', 'form', 'long', 'wait', 'rachelle', 'resolved', 'issue', 'still', 'irritated', 'w', 'united'], tags=['937']),\n",
       " TaggedDocument(words=['united', 'flight', 'cancelled', 'flightled', 'updated', 'one', 'gets', 'bwi', 'late', 'flight', 'fine', 'dca', 'iad', 'arriving', 'earlier', 'help'], tags=['938']),\n",
       " TaggedDocument(words=['united', 'jj', 'standing', 'joking', 'finding', 'humor'], tags=['939']),\n",
       " TaggedDocument(words=['united', 'point', 'made', 'home'], tags=['940']),\n",
       " TaggedDocument(words=['united', 'thanks', 'looking', 'getting', 'back', 'via', 'dm', 'glad', 'hear', 'bag', 'finally', 'delivered', 'thanks'], tags=['941']),\n",
       " TaggedDocument(words=['united', 'would', 'like', 'talk', 'customer', 'service', 'agent', 'service', 'non', 'service', 'received', 'last', 'flight', 'week', 'go', 'j'], tags=['942']),\n",
       " TaggedDocument(words=['united', 'cancelled', 'flight', 'flight', 'wait', 'line', 'get', 'rebooked', 'front', 'make', 'go', 'another', 'gate', 'lose', 'place'], tags=['943']),\n",
       " TaggedDocument(words=['united', 'comment', 'question', 'thanks', 'copy', 'paste', 'response'], tags=['944']),\n",
       " TaggedDocument(words=['united', 'failed', 'last', 'week', 'iah', 'next', 'intl', 'trip', 'delta', 'small', 'ual', 'flight', 'lax', 'booked'], tags=['945']),\n",
       " TaggedDocument(words=['united', 'supposed', 'board', '605', 'brought', 'plane', 'hanger', 'wtf', 'know', 'flight', '1153', 'lax', 'ewr'], tags=['946']),\n",
       " TaggedDocument(words=['united', 'flew', 'sdf', 'atl', 'tampa', 'delta', 'left', 'early', 'arrived', 'early', 'crew', 'helpful', 'wifi', 'worked'], tags=['947']),\n",
       " TaggedDocument(words=['united', 'starting', 'without', 'robotic', 'response'], tags=['948']),\n",
       " TaggedDocument(words=['united', 'control', 'turbulence', 'control', 'customer', 'experience', 'lot', 'scared', 'people'], tags=['949']),\n",
       " TaggedDocument(words=['united', 'currently', 'ua862', '20', 'minutes', 'worst', 'turbulence', 'ever', 'experienced', 'zero', 'communication', 'flight', 'deck'], tags=['950']),\n",
       " TaggedDocument(words=['united', 'yes', 'looking', 'ticket', 'agent', 'terminal', 'dismissed', 'us', 'missed', 'chance', 'miami', 'flight', 'dr'], tags=['951']),\n",
       " TaggedDocument(words=['united', 'told', 'twice', 'issue', 'resolved', 'twice', 'write', 'email', 'bounces', 'worstservice'], tags=['952']),\n",
       " TaggedDocument(words=['united', 'flight', '433', 'lets', 'go', 'look', 'like', 'clowns', 'one', 'giving', '1st', 'class', '500'], tags=['953']),\n",
       " TaggedDocument(words=['united', 'hold', '4th', 'time', 'waiting', 'resolve', 'issue', 'flight', '6', 'year', 'old', 'son', 'terribleservice', 'noservice'], tags=['954']),\n",
       " TaggedDocument(words=['united', 'cool', 'thank'], tags=['955']),\n",
       " TaggedDocument(words=['united', 'like', 'thank', 'recognize', 'terri', 'p', 'dulles', 'going', 'way', 'get', 'back', 'raleigh', 'flight'], tags=['956']),\n",
       " TaggedDocument(words=['united', 'freq', 'flyer', 'makes', 'sad', 'see', 'cust', 'needing', 'assistance', 'treated', 'poorly', 'servicefail'], tags=['957']),\n",
       " TaggedDocument(words=['united', 'day', '3', 'saga', 'maybe', 'finally', 'make', 'home', 'intentional', 'gon', 'na', 'get', 'back', 'vacation', 'days', 'badservice'], tags=['958']),\n",
       " TaggedDocument(words=['united', 'thanks', 'sick', 'company', 'lousy', 'excuse', 'customer', 'service', 'never', 'flying', 'united'], tags=['959']),\n",
       " TaggedDocument(words=['united', 'current', 'hold', 'time', 'speaking', 'rep', 'tix', 'reissued', '42', 'mins', 'long', 'amp', 'make', 'option', 'available', 'online'], tags=['960']),\n",
       " TaggedDocument(words=['united', 'understand', 'ppl', 'make', 'mistakes', 'code', 'something', 'way', 'get', 'reimbursed', 'fault', 'blatant', 'lie'], tags=['961']),\n",
       " TaggedDocument(words=['united', 'also', 'forgot', 'add', 'bag', 'probably', 'going', 'sit', 'new', 'jersey', 'missed', 'connection'], tags=['962']),\n",
       " TaggedDocument(words=['united', 'jx4s2t', 'today', 'would', 'great', 'honeymoon', 'delay', 'put', 'damper', 'iy'], tags=['963']),\n",
       " TaggedDocument(words=['united', 'shared', 'pilot', 'passengers'], tags=['964']),\n",
       " TaggedDocument(words=['united', 'receipt', 'upgraded', 'return', 'leg', '6', 'months', 'late', 'flightr', 'still', 'receipt', 'http', 'co', 'dajwzhlvyu'], tags=['965']),\n",
       " TaggedDocument(words=['united', 'book', 'flight', 'reserved', 'seat', 'go', 'check', 'find', 'seat', 'wtf'], tags=['966']),\n",
       " TaggedDocument(words=['united', 'actually', 'gate', 'agent', 'rude', 'standing', 'line', 'waiting', 'reflight', 'booking', 'problems', 'missed', 'flight', 'sti', 'awful'], tags=['967']),\n",
       " TaggedDocument(words=['united', 'sure', 'anything', 'building', 'time', 'promises', 'ceo', 'service', 'gotten', 'worse'], tags=['968']),\n",
       " TaggedDocument(words=['united', 'wi', 'fi', '737', '800', 'aircraft', '3511', 'work', 'entire', 'ord', 'dca', 'flight', 'morning'], tags=['969']),\n",
       " TaggedDocument(words=['united', 'cancelled', 'flightled', 'direct', 'flight', 'newark', 'brussels', 'last', 'night', '7', 'hours', 'behind', 'schedule', 'eu', 'compensation', 'would', 'given', 'us'], tags=['970']),\n",
       " TaggedDocument(words=['united', 'may', 'dislike', 'delays', 'paid', 'agreement', 'paid', 'got', 'destination', 'certain', 'time'], tags=['971']),\n",
       " TaggedDocument(words=['united', 'epicfail', 'cx', 'flight', 'frankfurt', 'san', 'francisco', 'going', 'chicago', 'flight', 'crew', 'hours', 'due', 'de', 'icing', 'delay'], tags=['972']),\n",
       " TaggedDocument(words=['united', 'aware', 'flight', 'details', 'thanks', 'three', 'hours', 'late', 'flight', 'crew', 'could', 'give', 'less', 'shit'], tags=['973']),\n",
       " TaggedDocument(words=['united', 'making', 'sure', 'flights', 'delayed', 'due', 'poor', 'maintenance', 'would', 'start'], tags=['974']),\n",
       " TaggedDocument(words=['united', 'hilarious'], tags=['975']),\n",
       " TaggedDocument(words=['united', 'hahahahaha', 'ya', 'tried', 'already'], tags=['976']),\n",
       " TaggedDocument(words=['united', 'bag', 'may', 'may', 'airport', 'unfortunately', 'one', 'airport', 'picking', 'phone', 'responding', 'messages'], tags=['977']),\n",
       " TaggedDocument(words=['united', 'funny', 'paid', 'check', 'bag', 'flight', '1086', 'begging', 'folks', 'check', 'bags', 'free', '1', 'hour', 'flight', 'notcool'], tags=['978']),\n",
       " TaggedDocument(words=['united', 'nope', 'need', 'little', 'red', 'stamp', 'counter', 'check', 'wreck', 'son', 'http', 'co', '0prgysvurm'], tags=['979']),\n",
       " TaggedDocument(words=['united', 'trying', 'cancelled', 'flight', 'trying', 'change', 'award', 'ticket', 'date', 'place', 'thanks', 'sending', 'link', 'know', 'fee'], tags=['980']),\n",
       " TaggedDocument(words=['united', 'unhappy', 'new', 'mileage', 'rules', 'main', 'reason', 'keep', 'flying', 'united', 'take', 'business', 'elsewhere'], tags=['981']),\n",
       " TaggedDocument(words=['united', 'need', 'assistance', 'due', 'incompetence', 'need', 'reschedule', 'connection', 'never', 'fly', 'united'], tags=['982']),\n",
       " TaggedDocument(words=['united', 'officially', 'displaced', 'deltaassist', 'better', 'flight', 'experience', 'pleasant', 'cabin', 'crew', 'timeliness', 'ua', '1m', 'switching'], tags=['983']),\n",
       " TaggedDocument(words=['united', 'need', 'bag', 'bouncer', 'get', 'together'], tags=['984']),\n",
       " TaggedDocument(words=['united', 'showexpert', 'going', 'united', 'mileage', 'program', 'pay', '500', 'ticket', 'get', 'fraction', 'pqd', 'credit'], tags=['985']),\n",
       " TaggedDocument(words=['united', 'need', 'retrain', 'flight', 'attendants', 'saying', 'room', 'carry', 'ons', 'actually', 'cool'], tags=['986']),\n",
       " TaggedDocument(words=['ua3388', 'united', 'cancelled', 'flightled', 'delayed', 'flight', 'booking', 'problems', 'still', '90', 'miles', 'home', 'least', 'acknowledge', 'cancelled', 'flightlation'], tags=['987']),\n",
       " TaggedDocument(words=['united', 'never', 'ever', 'flight', 'booking', 'problems', 'flight', 'united', 'affiliate', 'chance', 'get', 'united', 'flight'], tags=['988']),\n",
       " TaggedDocument(words=['united', 'able', 'send', 'dm', 'good'], tags=['989']),\n",
       " TaggedDocument(words=['united', 'three', 'delayed', 'flights', 'missed', 'connections', 'first', 'class', 'flights', 'get', 'compensation', 'losing', 'seats'], tags=['990']),\n",
       " TaggedDocument(words=['united', 'hold', 'hour', 'day', 'sort', 'told', 'fine', 'fine', 'arrive', 'fly'], tags=['991']),\n",
       " TaggedDocument(words=['united', 'almost', '2', 'weeks', 'still', 'word', 'dot', 'update', 'london', 'fare', 'us', 'cities', 'updates', 'end'], tags=['992']),\n",
       " TaggedDocument(words=['united', 'well', 'start', 'would', 'nice', 'ticket', 'actually', 'system', 'change', 'flight'], tags=['993']),\n",
       " TaggedDocument(words=['united', 'another', 'awful', 'experience', 'victoria', 'check', 'desk', 'stl', 'could', 'rude', 'condescending'], tags=['994']),\n",
       " TaggedDocument(words=['united', 'want', 'deliver', 'house', 'go', 'sombrons', 'else', 'house'], tags=['995']),\n",
       " TaggedDocument(words=['united', 'michelle', 't1', 'ord', 'train', 'staff', 'treat', 'customers', 'refreshing', 'pleasure', 'deal'], tags=['996']),\n",
       " TaggedDocument(words=['united', 'guess', 'follow', 'order', 'send', 'dm', 'tried', 'send'], tags=['997']),\n",
       " TaggedDocument(words=['united', 'stopped', 'flying', 'united', '1', 'yr', 'ago', 'bc', 'aggressive', 'policy', 'carryon', 'bdl', 'listening', 'pssngrs', 'forced', 'chk', 'preboard', 'notcomingback'], tags=['998']),\n",
       " TaggedDocument(words=['united', 'sent', 'message', 'bag', 'tag', 'looked'], tags=['999']),\n",
       " ...]"
      ]
     },
     "execution_count": 38,
     "metadata": {},
     "output_type": "execute_result"
    }
   ],
   "source": [
    "tagged_data"
   ]
  },
  {
   "cell_type": "code",
   "execution_count": 39,
   "metadata": {},
   "outputs": [
    {
     "name": "stderr",
     "output_type": "stream",
     "text": [
      "C:\\Users\\fayca\\Anaconda3\\envs\\tensorflow_gpuenv\\lib\\site-packages\\gensim\\models\\doc2vec.py:574: UserWarning: The parameter `size` is deprecated, will be removed in 4.0.0, use `vector_size` instead.\n",
      "  warnings.warn(\"The parameter `size` is deprecated, will be removed in 4.0.0, use `vector_size` instead.\")\n"
     ]
    }
   ],
   "source": [
    "max_epochs = 10\n",
    "vec_size = 300\n",
    "alpha = 0.025\n",
    "model = Doc2Vec(size=vec_size,\n",
    "                alpha=alpha, \n",
    "                min_alpha=0.00025,\n",
    "                min_count=30,\n",
    "                dm =1)"
   ]
  },
  {
   "cell_type": "code",
   "execution_count": 40,
   "metadata": {},
   "outputs": [],
   "source": [
    "model.build_vocab(tagged_data)"
   ]
  },
  {
   "cell_type": "code",
   "execution_count": 41,
   "metadata": {
    "scrolled": true
   },
   "outputs": [
    {
     "data": {
      "text/plain": [
       "dict_keys(['virginamerica', 'plus', 'experience', 'really', 'amp', 'little', 'big', 'bad', 'thing', 'seriously', 'would', 'pay', '30', 'flight', 'seats', 'flying', 'yes', 'every', 'time', 'fly', 'go', 'away', 'well', 'amazing', 'arrived', 'hour', 'early', 'good', 'lt', '3', 'pretty', 'much', 'better', 'great', 'deal', 'already', '2nd', 'trip', 'even', '1st', 'yet', 'u', 'take', 'travel', 'http', 'co', 'thanks', 'sfo', 'still', 'mia', 'first', 'lax', 'mco', 'heard', 'nothing', 'things', 'flew', 'nyc', 'last', 'week', 'sit', 'seat', 'due', 'two', 'either', 'help', 'know', 'awesome', 'bos', 'fll', 'please', 'want', 'may', 'three', 'times', 'available', 'love', 'feel', 'guys', 'gave', 'free', 'status', 'weeks', 'called', 'response', 'happened', '2', 'ur', 'food', 'options', 'least', 'say', 'site', 'able', 'anything', 'next', '6', 'hrs', 'fail', 'get', 'air', 'hi', 'cool', 'add', 'name', 'booking', 'problems', 'left', 'iad', 'today', 'one', 'answering', 'f', 'number', 'return', 'phone', 'call', 'use', 'online', 'service', 'option', 'could', 'start', 'flights', 'end', 'year', 'via', 'way', 'best', 'ever', 'done', 'airline', 'around', 'support', 'working', 'beyond', 'hey', 'hard', 'getting', 'account', 'reason', 'rock', 'wow', 'though', 'lga', 'gt', 'trying', 'book', 'since', 'never', 'thx', 'need', '4', 'ago', 'someone', 'hold', '40', '50', 'minutes', 'earlier', 'la', 'tonight', '11', 'us', 'everything', 'fine', 'lost', 'bag', 'needs', 'new', 'plane', 'crew', 'airlines', 'like', 'sat', 'morning', 'going', 'customer', 'speak', 'human', 'asap', 'thank', 'southwestair', 'jetblue', 'member', 'team', 'im', '100', 'delayed', 'late', 'cancelled', 'four', 'business', 'wife', 'booked', 'back', 'tv', 'disappointed', 'flightled', 'went', 'jfk', 'landed', 'check', 'friendly', 'website', 'another', 'tried', 'let', 'passengers', 'leave', 'told', 'class', 'find', 'reservation', 'anyone', 'miss', 'missed', 'direct', 'vegas', 'bought', 'people', 'customerservice', 'line', 'hung', 'card', 'info', 'come', 'phl', 'horrible', 'stop', 'easy', 'change', 'helpful', 'rep', 'front', 'right', 'ticket', 'b', 'c', 'gate', 'las', 'waited', 'problem', 'min', 'delay', 'connecting', 'seems', 'long', 'moved', 'home', 'san', 'scheduled', '9', 'hours', 'wait', 'calling', 'completely', 'month', 'customers', 'process', 'link', 'tsa', 'terrible', 'hotel', 'said', 'sorry', 'assistance', 'yesterday', 'give', 'longer', 'pls', 'making', 'always', 'buy', 'frustrated', 'think', 'paying', 'extra', 'rt', 'luggage', 'might', 'world', 'provide', 'cant', 'weather', 'dallas', 'staff', 'super', 'paid', 'offer', 'fee', 'upgrade', 'sad', 'question', 'possible', 'giving', 'together', 'dc', 'work', 'understand', 'dm', 'answer', 'policy', 'mean', 'checking', 'tickets', 'happy', 'error', 'contact', 'minute', 'reschedule', 'fix', 'got', 'checked', 'email', 'tomorrow', 'unacceptable', 'flighted', 'stuck', '1', 'offered', 'look', 'agent', 'airport', 'reply', 'baggage', 'waiting', 'checkin', 'desk', 'open', 'ewr', 'united', 'follow', 'many', 'worse', 'respond', 'money', 'stranded', 'landing', '10', 'days', 'confirmation', 'claim', '8', 'rebook', 'lot', 'see', 'worst', 'wrong', 'lose', 'suck', 'issue', 'flightlation', 'w', 'kids', 'boston', 'guy', 'high', 'quick', 'apparently', 'sitting', 'keep', 'ny', 'pilots', 'job', 'snow', 'row', 'mechanical', 'handle', 'twitter', 'charged', 'refund', 'broken', 'points', 'looking', 'forward', 'rescheduled', 'na', 'cost', '800', 'show', 'wish', 'attendant', 'something', 'departure', 'fun', 'different', 'helping', 'passenger', 'flt', 'city', 'destination', 'missing', 'coming', 'entire', 'confirmed', 'treat', 'wtf', 'inconvenience', 'full', 'dfw', 'boarding', 'place', 'makes', 'pilot', 'dca', 'sent', 'past', 'club', 'came', 'monday', 'safety', 'day', 'wanted', 'newark', 'hope', 'board', 'helped', 'looks', 'https', 'less', 'half', 'price', 'taking', 'care', 'several', 'glad', 'took', 'years', 'night', 'try', 'purchase', 'hoping', 'carry', 'empty', 'spoke', 'loyal', 'received', 'southwest', 'family', 'ok', 'using', 'soon', 'car', 'sucks', 'cust', 'second', 'chance', 'joke', 'credit', 'request', 'planes', 'thought', 'computer', '15', 'can', 'not', 'make', 'address', 'made', 'also', 'app', 'system', 'instead', 'charge', 'houston', 'finally', 'future', 'poor', '5', 'group', 'room', 'bags', 'sure', '12', 'shit', 'stay', 'nice', 'wifi', 'saying', 'whole', 'person', 'calls', 'ask', 'flighting', 'luck', '24', 'fees', 'philly', 'point', 'says', 'update', 'reps', 'actually', 'lack', 'ord', 'connections', 'boarded', 'issues', 'oh', 'supposed', 'ridiculous', 'send', 'voucher', 'company', 'maybe', 'drive', 'talk', 'flightr', 'platinum', 'international', 'run', 'agents', 'rude', 'iah', 'charlotte', 'non', 'guess', 'form', 'ground', 'else', 'appreciate', 'tarmac', 'pass', 'enough', 'denver', 'put', 'found', 'supervisor', 'months', 'thru', 'connection', 'upset', 'employees', 'old', '7', 'miles', 'american', 'telling', 'delta', 'attendants', 'seem', 'believe', 'bc', 'asking', 'details', 'everyone', 'ua', 'despite', 'updates', 'given', 'hear', 'apology', 'rather', 'zero', 'americanair', 'asked', 'yeah', '25', 'leaving', 'message', 'complaint', 'awful', 'jet', 'atl', 'happens', 'traveling', 'communication', 'far', 'top', 'unitedairlines', 'extremely', 'real', 'without', 'clothes', 'hr', 'terminal', '20', 'mins', 'vacation', 'sleep', 'compensation', 'case', 'happen', 'delivered', 'arrive', 'employee', 'delays', 'taken', 'answers', 'clt', 'idea', 'frustrating', 'figure', 'counter', 'tell', 'fact', 'needed', 'means', 'bwi', 'pm', 'expect', 'fixed', 'unable', 'life', 'phones', 'chicago', 'den', 'fleet', 'gives', 'spent', 'situation', 'list', 'changes', '200', 'used', 'reservations', 'leg', 'reflight', '45', 'changed', 'reach', 'tweet', 'maintenance', 'friend', 'twice', 'counting', 'rebooked', 'sunday', 'sense', 'hate', 'huge', 'standby', 'hopefully', 'usairways', 'almost', 'pick', 'multiple', 'lol', 'crazy', 'gets', 'miami', 'fault', 'sending', 'losing', 'switch', 'aa', 'flightlations', 'seen', 'appreciated', 'media', 'runway', 'live', 'information', 'busy', 'dont', 'disconnected', 'water', 'kind', 'phx', 'automated', 'sw', 'holding', 'swa', 'destinationdragons', 'usair', 'blue', 'fleek', 'airways'])"
      ]
     },
     "execution_count": 41,
     "metadata": {},
     "output_type": "execute_result"
    }
   ],
   "source": [
    "model.wv.vocab.keys()"
   ]
  },
  {
   "cell_type": "code",
   "execution_count": 42,
   "metadata": {},
   "outputs": [
    {
     "data": {
      "text/plain": [
       "11541"
      ]
     },
     "execution_count": 42,
     "metadata": {},
     "output_type": "execute_result"
    }
   ],
   "source": [
    "model.corpus_count"
   ]
  },
  {
   "cell_type": "code",
   "execution_count": 43,
   "metadata": {},
   "outputs": [],
   "source": [
    "model.train(tagged_data, epochs=10, total_examples=model.corpus_count)"
   ]
  },
  {
   "cell_type": "code",
   "execution_count": 44,
   "metadata": {},
   "outputs": [
    {
     "data": {
      "text/plain": [
       "(300,)"
      ]
     },
     "execution_count": 44,
     "metadata": {},
     "output_type": "execute_result"
    }
   ],
   "source": [
    "model['wife'].shape"
   ]
  },
  {
   "cell_type": "code",
   "execution_count": 45,
   "metadata": {},
   "outputs": [
    {
     "data": {
      "text/plain": [
       "['united', 'thanks', 'sent']"
      ]
     },
     "execution_count": 45,
     "metadata": {},
     "output_type": "execute_result"
    }
   ],
   "source": [
    "test_data = word_tokenize(data['text'][457].lower())\n",
    "test_data"
   ]
  },
  {
   "cell_type": "code",
   "execution_count": 46,
   "metadata": {},
   "outputs": [],
   "source": [
    "v1 = model.docvecs[457]"
   ]
  },
  {
   "cell_type": "code",
   "execution_count": 47,
   "metadata": {},
   "outputs": [
    {
     "data": {
      "text/plain": [
       "[('5905', 0.9869601726531982),\n",
       " ('5163', 0.9868749380111694),\n",
       " ('4802', 0.9866938591003418),\n",
       " ('6230', 0.9865463376045227),\n",
       " ('3071', 0.9865050911903381),\n",
       " ('5387', 0.9863834977149963),\n",
       " ('7121', 0.9861945509910583),\n",
       " ('8508', 0.9861383438110352),\n",
       " ('384', 0.9858713150024414),\n",
       " ('4377', 0.9858337640762329)]"
      ]
     },
     "execution_count": 47,
     "metadata": {},
     "output_type": "execute_result"
    }
   ],
   "source": [
    "model.docvecs.most_similar('457')"
   ]
  },
  {
   "cell_type": "code",
   "execution_count": 48,
   "metadata": {},
   "outputs": [],
   "source": [
    "test_data = word_tokenize(data['text'][827].lower())\n",
    "v2 = model.docvecs[827]"
   ]
  },
  {
   "cell_type": "code",
   "execution_count": 49,
   "metadata": {},
   "outputs": [
    {
     "data": {
      "text/plain": [
       "0.98469055"
      ]
     },
     "execution_count": 49,
     "metadata": {},
     "output_type": "execute_result"
    }
   ],
   "source": [
    "np.sum(v1*v2)/(np.sqrt(np.sum(np.square(v1)))*np.sqrt(np.sum(np.square(v2))))"
   ]
  },
  {
   "cell_type": "code",
   "execution_count": 50,
   "metadata": {},
   "outputs": [
    {
     "data": {
      "text/plain": [
       "('united sent thanks', 'united thanks sent')"
      ]
     },
     "execution_count": 50,
     "metadata": {},
     "output_type": "execute_result"
    }
   ],
   "source": [
    "data['text'][827], data['text'][457]"
   ]
  },
  {
   "cell_type": "markdown",
   "metadata": {},
   "source": [
    "# Building word vectors using fastText"
   ]
  },
  {
   "cell_type": "code",
   "execution_count": 51,
   "metadata": {},
   "outputs": [],
   "source": [
    "from gensim.models.fasttext import FastText"
   ]
  },
  {
   "cell_type": "code",
   "execution_count": 52,
   "metadata": {},
   "outputs": [],
   "source": [
    "ft_model = FastText(size=100)\n",
    "ft_model.build_vocab(list_words)"
   ]
  },
  {
   "cell_type": "code",
   "execution_count": 53,
   "metadata": {
    "scrolled": true
   },
   "outputs": [
    {
     "data": {
      "text/plain": [
       "['virginamerica', 'plus', 'added', 'commercials', 'experience', 'tacky']"
      ]
     },
     "execution_count": 53,
     "metadata": {},
     "output_type": "execute_result"
    }
   ],
   "source": [
    "list_words[0]"
   ]
  },
  {
   "cell_type": "code",
   "execution_count": 54,
   "metadata": {},
   "outputs": [
    {
     "data": {
      "text/plain": [
       "2544"
      ]
     },
     "execution_count": 54,
     "metadata": {},
     "output_type": "execute_result"
    }
   ],
   "source": [
    "len(ft_model.wv.vocab.keys())"
   ]
  },
  {
   "cell_type": "code",
   "execution_count": 55,
   "metadata": {},
   "outputs": [],
   "source": [
    "ft_model.train(list_words, total_examples=ft_model.corpus_count,epochs=10)"
   ]
  },
  {
   "cell_type": "markdown",
   "metadata": {},
   "source": [
    "# Spelling correction using word vectors"
   ]
  },
  {
   "cell_type": "code",
   "execution_count": 56,
   "metadata": {},
   "outputs": [
    {
     "name": "stderr",
     "output_type": "stream",
     "text": [
      "C:\\Users\\fayca\\Anaconda3\\envs\\tensorflow_gpuenv\\lib\\site-packages\\ipykernel_launcher.py:1: DeprecationWarning: Call to deprecated `similarity` (Method will be removed in 4.0.0, use self.wv.similarity() instead).\n",
      "  \"\"\"Entry point for launching an IPython kernel.\n"
     ]
    },
    {
     "data": {
      "text/plain": [
       "0.9814708"
      ]
     },
     "execution_count": 56,
     "metadata": {},
     "output_type": "execute_result"
    }
   ],
   "source": [
    "ft_model.similarity('first','firstli')"
   ]
  },
  {
   "cell_type": "code",
   "execution_count": 57,
   "metadata": {},
   "outputs": [
    {
     "name": "stderr",
     "output_type": "stream",
     "text": [
      "C:\\Users\\fayca\\Anaconda3\\envs\\tensorflow_gpuenv\\lib\\site-packages\\ipykernel_launcher.py:1: DeprecationWarning: Call to deprecated `most_similar` (Method will be removed in 4.0.0, use self.wv.most_similar() instead).\n",
      "  \"\"\"Entry point for launching an IPython kernel.\n"
     ]
    },
    {
     "data": {
      "text/plain": [
       "[('real', 0.5107362270355225),\n",
       " ('really', 0.5106699466705322),\n",
       " ('realize', 0.5103745460510254),\n",
       " ('repeat', 0.5095051527023315),\n",
       " ('reagan', 0.5033493041992188)]"
      ]
     },
     "execution_count": 57,
     "metadata": {},
     "output_type": "execute_result"
    }
   ],
   "source": [
    "ft_model.most_similar('prmse', topn=5)"
   ]
  },
  {
   "cell_type": "code",
   "execution_count": 58,
   "metadata": {},
   "outputs": [
    {
     "name": "stderr",
     "output_type": "stream",
     "text": [
      "C:\\Users\\fayca\\Anaconda3\\envs\\tensorflow_gpuenv\\lib\\site-packages\\ipykernel_launcher.py:1: DeprecationWarning: Call to deprecated `most_similar` (Method will be removed in 4.0.0, use self.wv.most_similar() instead).\n",
      "  \"\"\"Entry point for launching an IPython kernel.\n"
     ]
    },
    {
     "data": {
      "text/plain": [
       "[('anymore', 0.988664984703064),\n",
       " ('fantastic', 0.987183690071106),\n",
       " ('swa', 0.9868448972702026),\n",
       " ('policy', 0.9865238666534424),\n",
       " ('usual', 0.9865145087242126),\n",
       " ('omg', 0.9852206707000732),\n",
       " ('history', 0.9851939678192139),\n",
       " ('avoid', 0.9842338562011719),\n",
       " ('friends', 0.9840435981750488),\n",
       " ('shameful', 0.9839651584625244)]"
      ]
     },
     "execution_count": 58,
     "metadata": {},
     "output_type": "execute_result"
    }
   ],
   "source": [
    "ft_model.most_similar('exprence')"
   ]
  },
  {
   "cell_type": "code",
   "execution_count": 59,
   "metadata": {},
   "outputs": [
    {
     "name": "stdout",
     "output_type": "stream",
     "text": [
      "[('go', 0.8028517961502075)]\n"
     ]
    },
    {
     "name": "stderr",
     "output_type": "stream",
     "text": [
      "C:\\Users\\fayca\\Anaconda3\\envs\\tensorflow_gpuenv\\lib\\site-packages\\ipykernel_launcher.py:1: DeprecationWarning: Call to deprecated `most_similar` (Method will be removed in 4.0.0, use self.wv.most_similar() instead).\n",
      "  \"\"\"Entry point for launching an IPython kernel.\n"
     ]
    }
   ],
   "source": [
    "result = ft_model.most_similar(positive=['exprience', 'prmise'], negative=['experience'], topn=1)\n",
    "print(result)"
   ]
  },
  {
   "cell_type": "markdown",
   "metadata": {},
   "source": [
    "# Sentiment classification using fasttext based word vectors"
   ]
  },
  {
   "cell_type": "code",
   "execution_count": 60,
   "metadata": {},
   "outputs": [
    {
     "name": "stderr",
     "output_type": "stream",
     "text": [
      "C:\\Users\\fayca\\Anaconda3\\envs\\tensorflow_gpuenv\\lib\\site-packages\\ipykernel_launcher.py:8: DeprecationWarning: Call to deprecated `__getitem__` (Method will be removed in 4.0.0, use self.wv.__getitem__() instead).\n",
      "  \n"
     ]
    },
    {
     "name": "stdout",
     "output_type": "stream",
     "text": [
      "0\n",
      "100\n",
      "200\n",
      "300\n",
      "400\n",
      "500\n",
      "600\n",
      "700\n",
      "800\n",
      "900\n",
      "1000\n",
      "1100\n",
      "1200\n",
      "1300\n",
      "1400\n",
      "1500\n",
      "1600\n",
      "1700\n",
      "1800\n",
      "1900\n",
      "2000\n",
      "2100\n",
      "2200\n",
      "2300\n",
      "2400\n",
      "2500\n",
      "2600\n",
      "2700\n",
      "2800\n",
      "2900\n",
      "3000\n",
      "3100\n",
      "3200\n",
      "3300\n",
      "3400\n",
      "3500\n",
      "3600\n",
      "3700\n",
      "3800\n",
      "3900\n",
      "4000\n",
      "4100\n",
      "4200\n",
      "4300\n",
      "4400\n",
      "4500\n",
      "4600\n",
      "4700\n",
      "4800\n",
      "4900\n",
      "5000\n",
      "5100\n",
      "5200\n",
      "5300\n",
      "5400\n",
      "5500\n",
      "5600\n",
      "5700\n",
      "5800\n",
      "5900\n",
      "6000\n",
      "6100\n",
      "6200\n",
      "6300\n",
      "6400\n",
      "6500\n",
      "6600\n",
      "6700\n",
      "6800\n",
      "6900\n",
      "7000\n",
      "7100\n",
      "7200\n",
      "7300\n",
      "7400\n",
      "7500\n",
      "7600\n",
      "7700\n",
      "7800\n",
      "7900\n",
      "8000\n",
      "8100\n",
      "8200\n",
      "8300\n",
      "8400\n",
      "8500\n",
      "8600\n",
      "8700\n",
      "8800\n",
      "8900\n",
      "9000\n",
      "9100\n",
      "9200\n",
      "9300\n",
      "9400\n",
      "9500\n",
      "9600\n",
      "9700\n",
      "9800\n",
      "9900\n",
      "10000\n",
      "10100\n",
      "10200\n",
      "10300\n",
      "10400\n",
      "10500\n",
      "10600\n",
      "10700\n",
      "10800\n",
      "10900\n",
      "11000\n",
      "11100\n",
      "11200\n",
      "11300\n",
      "11400\n",
      "11500\n"
     ]
    }
   ],
   "source": [
    "features= []\n",
    "for i in range(len(list_words)):\n",
    "  list_words2 = list_words[i]\n",
    "  z = np.zeros((1,100))\n",
    "  k=0\n",
    "  for j in range(len(list_words2)):\n",
    "    try:\n",
    "      z = z+ft_model[list_words2[j]]\n",
    "      k= k+1\n",
    "    except KeyError:\n",
    "      continue\n",
    "  features.append(z/k)\n",
    "  if(i%100==0):\n",
    "    print(i)"
   ]
  },
  {
   "cell_type": "code",
   "execution_count": 61,
   "metadata": {},
   "outputs": [
    {
     "data": {
      "text/plain": [
       "11541"
      ]
     },
     "execution_count": 61,
     "metadata": {},
     "output_type": "execute_result"
    }
   ],
   "source": [
    "len(features)"
   ]
  },
  {
   "cell_type": "code",
   "execution_count": 62,
   "metadata": {},
   "outputs": [],
   "source": [
    "features = np.array(features)"
   ]
  },
  {
   "cell_type": "code",
   "execution_count": 63,
   "metadata": {},
   "outputs": [],
   "source": [
    "from sklearn.model_selection import train_test_split\n",
    "X_train, X_test, y_train, y_test = train_test_split(features, data['airline_sentiment'], test_size=0.30,random_state=10)"
   ]
  },
  {
   "cell_type": "code",
   "execution_count": 64,
   "metadata": {},
   "outputs": [],
   "source": [
    "X_train = X_train.reshape(X_train.shape[0],100)\n",
    "X_test = X_test.reshape(X_test.shape[0],100)"
   ]
  },
  {
   "cell_type": "code",
   "execution_count": 65,
   "metadata": {},
   "outputs": [
    {
     "name": "stderr",
     "output_type": "stream",
     "text": [
      "Using TensorFlow backend.\n"
     ]
    }
   ],
   "source": [
    "#import relevant packages\n",
    "from keras.layers import Dense, Activation\n",
    "from keras.layers.recurrent import SimpleRNN\n",
    "from keras.models import Sequential\n",
    "from keras.utils import to_categorical\n",
    "from keras.layers.embeddings import Embedding"
   ]
  },
  {
   "cell_type": "code",
   "execution_count": 66,
   "metadata": {},
   "outputs": [
    {
     "name": "stdout",
     "output_type": "stream",
     "text": [
      "Model: \"sequential_1\"\n",
      "_________________________________________________________________\n",
      "Layer (type)                 Output Shape              Param #   \n",
      "=================================================================\n",
      "dense_1 (Dense)              (None, 1000)              101000    \n",
      "_________________________________________________________________\n",
      "dense_2 (Dense)              (None, 1)                 1001      \n",
      "_________________________________________________________________\n",
      "activation_1 (Activation)    (None, 1)                 0         \n",
      "=================================================================\n",
      "Total params: 102,001\n",
      "Trainable params: 102,001\n",
      "Non-trainable params: 0\n",
      "_________________________________________________________________\n"
     ]
    }
   ],
   "source": [
    "model = Sequential()\n",
    "\n",
    "model.add(Dense(1000,input_dim = 100,activation='relu'))\n",
    "model.add(Dense(1))\n",
    "model.add(Activation('sigmoid'))\n",
    "\n",
    "model.compile(loss='binary_crossentropy', optimizer='adam', metrics=['accuracy'])\n",
    "model.summary()"
   ]
  },
  {
   "cell_type": "code",
   "execution_count": 67,
   "metadata": {
    "scrolled": true
   },
   "outputs": [
    {
     "name": "stderr",
     "output_type": "stream",
     "text": [
      "C:\\Users\\fayca\\Anaconda3\\envs\\tensorflow_gpuenv\\lib\\site-packages\\ipykernel_launcher.py:1: UserWarning: The `nb_epoch` argument in `fit` has been renamed `epochs`.\n",
      "  \"\"\"Entry point for launching an IPython kernel.\n"
     ]
    },
    {
     "name": "stdout",
     "output_type": "stream",
     "text": [
      "Train on 8078 samples, validate on 3463 samples\n",
      "Epoch 1/5\n",
      "8078/8078 [==============================] - 1s 116us/step - loss: 0.3894 - accuracy: 0.8235 - val_loss: 0.3427 - val_accuracy: 0.8594\n",
      "Epoch 2/5\n",
      "8078/8078 [==============================] - 0s 18us/step - loss: 0.3494 - accuracy: 0.8548 - val_loss: 0.3365 - val_accuracy: 0.8617\n",
      "Epoch 3/5\n",
      "8078/8078 [==============================] - 0s 17us/step - loss: 0.3388 - accuracy: 0.8583 - val_loss: 0.3207 - val_accuracy: 0.8701\n",
      "Epoch 4/5\n",
      "8078/8078 [==============================] - 0s 20us/step - loss: 0.3294 - accuracy: 0.8638 - val_loss: 0.3200 - val_accuracy: 0.8660\n",
      "Epoch 5/5\n",
      "8078/8078 [==============================] - 0s 17us/step - loss: 0.3201 - accuracy: 0.8677 - val_loss: 0.3196 - val_accuracy: 0.8698\n"
     ]
    },
    {
     "data": {
      "text/plain": [
       "<keras.callbacks.callbacks.History at 0x19e01c56108>"
      ]
     },
     "execution_count": 67,
     "metadata": {},
     "output_type": "execute_result"
    }
   ],
   "source": [
    "model.fit(X_train, y_train, batch_size=128, nb_epoch=5, validation_data=(X_test, y_test),verbose = 1)"
   ]
  },
  {
   "cell_type": "code",
   "execution_count": null,
   "metadata": {},
   "outputs": [],
   "source": [
    " "
   ]
  }
 ],
 "metadata": {
  "kernelspec": {
   "display_name": "Python 3",
   "language": "python",
   "name": "python3"
  },
  "language_info": {
   "codemirror_mode": {
    "name": "ipython",
    "version": 3
   },
   "file_extension": ".py",
   "mimetype": "text/x-python",
   "name": "python",
   "nbconvert_exporter": "python",
   "pygments_lexer": "ipython3",
   "version": "3.7.6"
  }
 },
 "nbformat": 4,
 "nbformat_minor": 4
}
